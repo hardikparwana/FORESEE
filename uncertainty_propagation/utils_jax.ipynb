{
 "cells": [
  {
   "cell_type": "code",
   "execution_count": 19,
   "id": "9d674653-4f35-4e06-b2ab-d1ffda6be14f",
   "metadata": {},
   "outputs": [],
   "source": [
    "import matplotlib.pyplot as plt\n",
    "from matplotlib.patches import Ellipse\n",
    "import matplotlib.transforms as transforms\n",
    "import jax.numpy as jnp\n",
    "from jax import jit, lax\n",
    "# import numpy as np\n",
    "\n",
    "# @jit\n",
    "def step(x,u,dt):\n",
    "    return x+u*dt\n",
    "\n",
    "def dynamics_step( base_term, state_dot, dt ):\n",
    "    next_state = base_term + state_dot * dt\n",
    "#     print(f\"next_state:{next_state}\")\n",
    "    return next_state\n",
    "\n",
    "# assume a single control input\n",
    "# assume this is true dynamics\n",
    "def dynamics_xdot_noisy(state, action):\n",
    "    xdot = jnp.array([ state[0,0]**2, state[1,0]**2 ]).reshape(-1,1)\n",
    "    cov = jnp.zeros((2,2))\n",
    "    # error_square = 0.01 + 0.1 * jnp.square(xdot) # /2  #never let it be 0!!!!\n",
    "    # cov = jnp.diag( error_square[:,0] )\n",
    "    return xdot, cov\n",
    "\n",
    "@jit\n",
    "def get_mean( sigma_points, weights ):\n",
    "    weighted_points = sigma_points * weights[0]\n",
    "    mu = jnp.sum( weighted_points, 1 ).reshape(-1,1)\n",
    "    return mu\n",
    "\n",
    "@jit\n",
    "def get_mean_cov(sigma_points, weights):\n",
    "    \n",
    "    # mean\n",
    "    weighted_points = sigma_points * weights[0]\n",
    "    mu = jnp.sum( weighted_points, 1 ).reshape(-1,1)\n",
    "    \n",
    "    # covariance\n",
    "    centered_points = sigma_points - mu\n",
    "    cov = jnp.diag(jnp.sum(centered_points**2 * weights[0], axis=1))\n",
    "    return mu, cov\n",
    "\n",
    "def get_ut_cov_root_diagonal(cov):\n",
    "    # return jnp.zeros((4,4))\n",
    "    offset = 0.000  # TODO: make sure not zero here\n",
    "    root_term = jnp.diag( jnp.sqrt(jnp.diagonal(cov)+offset)  )\n",
    "    return root_term\n",
    "    \n",
    "    #root0 = jnp.sqrt((offset+cov[0,0]))\n",
    "    #root1 = jnp.sqrt((offset+cov[1,1]))\n",
    "    #root_term = jnp.diag( jnp.array([root0, root1]) )\n",
    "    #return root_term\n",
    "\n",
    "\n",
    "@jit\n",
    "def get_mean_cov_skew_kurt( sigma_points, weights ):\n",
    "    # mean\n",
    "    weighted_points = sigma_points * weights[0]\n",
    "    mu = jnp.sum( weighted_points, 1 ).reshape(-1,1)    \n",
    "    centered_points = sigma_points - mu    \n",
    "    cov = jnp.diag(jnp.sum(centered_points**2 * weights[0], axis=1))\n",
    "    \n",
    "    skewness = jnp.sum(centered_points**3 * weights[0], axis=1) #/ cov[0,0]**(3/2) # for scipy    \n",
    "    kurt = jnp.sum(centered_points**4 * weights[0], axis=1)# / cov[0,0]**(4/2)  # -3 # -3 for scipy\n",
    "    return mu, cov, skewness.reshape(-1,1), kurt.reshape(-1,1)\n",
    "\n",
    "@jit\n",
    "def get_mean_cov_skew_kurt_for_generation( sigma_points, weights ):\n",
    "    # mean\n",
    "    weighted_points = sigma_points * weights[0]\n",
    "    mu = jnp.sum( weighted_points, 1 ).reshape(-1,1)    \n",
    "    centered_points = sigma_points - mu    \n",
    "    cov = jnp.diag(jnp.sum(centered_points**2 * weights[0], axis=1))\n",
    "\n",
    "    skewness_temp = jnp.sum(centered_points**3 * weights[0], axis=1) #/ cov[0,0]**(3/2) # for scipy    \n",
    "    skewness = skewness_temp / jnp.diag(cov)**(3/2)\n",
    "    # skewness = skewness_temp[0] / cov[0,0]**(3/2)\n",
    "    # skewness = jnp.append(skewness, skewness_temp[1] / cov[1,1]**(3/2))\n",
    "    # skewness = jnp.append(skewness, skewness_temp[2] / cov[2,2]**(3/2))\n",
    "    # skewness = jnp.append(skewness, skewness_temp[3] / cov[3,3]**(3/2))\n",
    "    \n",
    "    kurt_temp = jnp.sum(centered_points**4 * weights[0], axis=1)# / cov[0,0]**(4/2)  # -3 # -3 for scipy\n",
    "    kurt = kurt_temp / jnp.diag(cov)**(4/2)\n",
    "    # kurt = kurt_temp[0]/cov[0,0]**(4/2)\n",
    "    # kurt = jnp.append(kurt, kurt_temp[1]/cov[1,1]**(4/2))\n",
    "    # kurt = jnp.append(kurt, kurt_temp[2]/cov[2,2]**(4/2))\n",
    "    # kurt = jnp.append(kurt, kurt_temp[3]/cov[3,3]**(4/2))\n",
    "\n",
    "    return mu, cov, skewness.reshape(-1,1), kurt.reshape(-1,1)\n",
    "\n",
    "@jit\n",
    "def generate_sigma_points_gaussian( mu, cov_root, base_term, factor ):\n",
    "    n = mu.shape[0]     \n",
    "    N = 2*n + 1 # total points\n",
    "\n",
    "    alpha = 1.0\n",
    "    beta = 0.0#2.0#2.0 # optimal for gaussian\n",
    "    k = 1.0\n",
    "    Lambda = alpha**2 * ( n+k ) - n\n",
    "    \n",
    "    points0 = base_term + mu * factor\n",
    "    points1 = base_term + (mu + jnp.sqrt(n+Lambda) * cov_root)*factor\n",
    "    points2 = base_term + (mu - jnp.sqrt(n+Lambda) * cov_root)*factor\n",
    "    # print(f\"{points0}, {points1}, {points2}\")\n",
    "    \n",
    "    weights0 = jnp.array([[ 1.0*Lambda/(n+Lambda) ]])\n",
    "    weights1 = jnp.ones((1,n)) * 1.0/(n+Lambda)/2.0\n",
    "    weights2 = jnp.ones((1,n)) * 1.0/(n+Lambda)/2.0\n",
    "    # print(f\"n: {n} \\n {weights0}, {weights1}, {weights2}\")\n",
    "    new_points = jnp.concatenate((points0, points1, points2), axis=1)\n",
    "    new_weights = jnp.concatenate((weights0, weights1, weights2), axis=1)\n",
    "    \n",
    "    return new_points, new_weights    \n",
    "\n",
    "@jit\n",
    "def generate_sigma_points_gaussian_GenUT( mu, cov_root, skewness, kurt, base_term, factor ):\n",
    "    n = mu.shape[0]     \n",
    "    N = 2*n + 1 # total points\n",
    "    u = 0.5 * ( - skewness + jnp.sqrt( 4 * kurt - 3 * ( skewness )**2 ) )\n",
    "    v = u + skewness\n",
    "\n",
    "    w2 = (1.0 / v) / (u+v)\n",
    "    w1 = (w2 * v) / u\n",
    "    w0 = jnp.array([1 - jnp.sum(w1) - jnp.sum(w2)])\n",
    "    \n",
    "    U = jnp.diag(u[:,0])\n",
    "    V = jnp.diag(v[:,0])\n",
    "    points0 = base_term + mu * factor\n",
    "    points1 = base_term + (mu - cov_root @ U) * factor\n",
    "    points2 = base_term + (mu + cov_root @ V) * factor\n",
    "    new_points = jnp.concatenate( (points0, points1, points2), axis=1 )\n",
    "    new_weights = jnp.concatenate( (w0.reshape(-1,1), w1.reshape(1,-1), w2.reshape(1,-1)), axis=1 )\n",
    "\n",
    "    return new_points, new_weights\n",
    "\n",
    "@jit\n",
    "def sigma_point_expand(sigma_points, weights, control, dt):\n",
    "   \n",
    "    n, N = sigma_points.shape   \n",
    "    \n",
    "    # new_points = jnp.zeros((n,N*(2*n+1)))\n",
    "    # new_weights = jnp.zeros((1,N*(2*n+1)))\n",
    "\n",
    "    # because Jax cannot do .at[start, stop] operation without having fixed start/stop/step ..\n",
    "    new_points = jnp.zeros((n*(2*n+1),N))\n",
    "    new_weights = jnp.zeros((2*n+1,N))\n",
    "    \n",
    "    def body(i, inputs):\n",
    "        new_points, new_weights = inputs        \n",
    "        mu, cov = dynamics_xdot_noisy(sigma_points[:,i].reshape(-1,1), control.reshape(-1,1))\n",
    "        root_term = get_ut_cov_root_diagonal(cov)           \n",
    "        temp_points, temp_weights = generate_sigma_points_gaussian( mu, root_term, sigma_points[:,i].reshape(-1,1), dt )\n",
    "        new_points = new_points.at[:,i].set( temp_points.reshape(-1,1, order='F')[:,0] )\n",
    "        new_weights = new_weights.at[:,i].set( temp_weights.reshape(-1,1, order='F')[:,0] * weights[:,i] )   \n",
    "        return new_points, new_weights\n",
    "    return_points, return_weights = lax.fori_loop(0, N, body, (new_points, new_weights))\n",
    "    return return_points.reshape((n, N*(2*n+1)), order='F'), return_weights.reshape((1,N*(2*n+1)), order='F')\n",
    "        \n",
    "\n",
    "@jit\n",
    "def sigma_point_compress( sigma_points, weights ):\n",
    "    mu, cov = get_mean_cov( sigma_points, weights )\n",
    "    cov_root_term = get_ut_cov_root_diagonal( cov )  \n",
    "    base_term = jnp.zeros((mu.shape))\n",
    "    return generate_sigma_points_gaussian( mu, cov_root_term, base_term, jnp.array([1.0]) )\n",
    "\n",
    "@jit\n",
    "def sigma_point_compress_GenUT( sigma_points, weights ):\n",
    "    mu, cov, skewness, kurt = get_mean_cov_skew_kurt_for_generation( sigma_points, weights )\n",
    "    # print(f\"mu:{mu}, cov:{cov}, skewness:{skewness}, kurtosis:{kurt}\")\n",
    "    cov_root_term = get_ut_cov_root_diagonal( cov )  \n",
    "    base_term = jnp.zeros((mu.shape))\n",
    "    return generate_sigma_points_gaussian_GenUT( mu, cov_root_term, skewness, kurt, base_term, jnp.array([1.0]) )\n",
    "\n",
    "@jit\n",
    "def foresee_propagate_GenUT( sigma_points, weights, action, dt ):\n",
    "    \n",
    "    expanded_sigma_points, expanded_weights = sigma_point_expand( sigma_points, weights, action, dt )\n",
    "    compressed_sigma_points, compressed_weights = sigma_point_compress_GenUT(expanded_sigma_points, expanded_weights)\n",
    "    return compressed_sigma_points, compressed_weights\n",
    "\n",
    "@jit\n",
    "def foresee_propagate( sigma_points, weights, action, dt ):\n",
    "\n",
    "    #Expansion Layer\n",
    "    expanded_sigma_points, expanded_weights = sigma_point_expand( sigma_points, weights, action, dt )\n",
    "    compressed_sigma_points, compressed_weights = sigma_point_compress(expanded_sigma_points, expanded_weights)\n",
    "    return compressed_sigma_points, compressed_weights\n",
    "\n",
    "# @jit \n",
    "# def state_predict(init_state):\n",
    "#     T = 30\n",
    "\n",
    "#     sigma_points, weights = generate_sigma_points_gaussian( init_state, jnp.zeros((init_state.shape[0], init_state.shape[0])), jnp.zeros(init_state.shape), 1.0  )\n",
    "#     def body(i, inputs):\n",
    "#         state = inputs\n",
    "#         control = controller()\n",
    "#     return \n"
   ]
  },
  {
   "cell_type": "code",
   "execution_count": 2,
   "id": "90a817b5-ab62-4c30-bedf-b6e652940664",
   "metadata": {},
   "outputs": [
    {
     "name": "stderr",
     "output_type": "stream",
     "text": [
      "An NVIDIA GPU may be present on this machine, but a CUDA-enabled jaxlib is not installed. Falling back to cpu.\n"
     ]
    },
    {
     "name": "stdout",
     "output_type": "stream",
     "text": [
      "[[ 0.         3.4641016  0.        -3.4641016  0.       ]\n",
      " [ 0.         0.         3.4641016  0.        -3.4641016]]\n",
      "[[0.33333334 0.16666667 0.16666667 0.16666667 0.16666667]]\n"
     ]
    }
   ],
   "source": [
    "points, weights = generate_sigma_points_gaussian(jnp.zeros((2,1)), 2*jnp.eye(2), jnp.zeros((2,1)), 1.0)\n",
    "print(points)\n",
    "print(weights)"
   ]
  },
  {
   "cell_type": "code",
   "execution_count": 3,
   "id": "54ee296e-75b4-4d94-854c-2412e5569e2d",
   "metadata": {},
   "outputs": [
    {
     "data": {
      "text/plain": [
       "(Array([[0.],\n",
       "        [0.]], dtype=float32),\n",
       " Array([[4., 0.],\n",
       "        [0., 4.]], dtype=float32))"
      ]
     },
     "execution_count": 3,
     "metadata": {},
     "output_type": "execute_result"
    }
   ],
   "source": [
    "get_mean_cov(points, weights)"
   ]
  },
  {
   "cell_type": "code",
   "execution_count": 4,
   "id": "6e890ca1-bb09-46d0-ada6-5fe5a199876b",
   "metadata": {},
   "outputs": [
    {
     "name": "stdout",
     "output_type": "stream",
     "text": [
      "[[2. 2. 2. 2. 2.]\n",
      " [6. 6. 6. 6. 6.]]\n",
      "[[0.33333334 0.16666667 0.16666667 0.16666667 0.16666667]]\n",
      "[[ 6.  6.  6.  6.  6.  6.  6.  6.  6.  6.  6.  6.  6.  6.  6.  6.  6.  6.\n",
      "   6.  6.  6.  6.  6.  6.  6.]\n",
      " [42. 42. 42. 42. 42. 42. 42. 42. 42. 42. 42. 42. 42. 42. 42. 42. 42. 42.\n",
      "  42. 42. 42. 42. 42. 42. 42.]]\n",
      "[[0.11111112 0.05555556 0.05555556 0.05555556 0.05555556 0.05555556\n",
      "  0.02777778 0.02777778 0.02777778 0.02777778 0.05555556 0.02777778\n",
      "  0.02777778 0.02777778 0.02777778 0.05555556 0.02777778 0.02777778\n",
      "  0.02777778 0.02777778 0.05555556 0.02777778 0.02777778 0.02777778\n",
      "  0.02777778]]\n"
     ]
    },
    {
     "data": {
      "text/plain": [
       "Array(1., dtype=float32)"
      ]
     },
     "execution_count": 4,
     "metadata": {},
     "output_type": "execute_result"
    }
   ],
   "source": [
    "N = 1\n",
    "points = jnp.append( jnp.ones((1,N)), 2*jnp.ones((1,N)), axis=0 )\n",
    "# print(points)\n",
    "weights = jnp.ones((1,N))/N\n",
    "points, weights = sigma_point_expand( points, weights,jnp.zeros((2,1)), 1.0 )\n",
    "print(points)\n",
    "print(weights)\n",
    "points2, weights2 = sigma_point_expand( points, weights,jnp.zeros((2,1)), 1.0 )\n",
    "print(points2)\n",
    "print(weights2)\n",
    "jnp.sum(weights2)"
   ]
  },
  {
   "cell_type": "code",
   "execution_count": 5,
   "id": "4a8402c2-dbaf-4134-868f-135a8c740dd7",
   "metadata": {},
   "outputs": [
    {
     "name": "stdout",
     "output_type": "stream",
     "text": [
      "[[1. 1. 1. 1. 1.]\n",
      " [1. 1. 1. 1. 1.]], [[0.33333334 0.16666667 0.16666667 0.16666667 0.16666667]]\n"
     ]
    },
    {
     "data": {
      "text/plain": [
       "(Array([[ 0.6666665 ,  1.693067  ,  0.6666665 , -0.35973394,  0.6666665 ],\n",
       "        [ 0.6666665 ,  0.6666665 ,  1.693067  ,  0.6666665 , -0.35973394]],      dtype=float32),\n",
       " Array([[0.33333334, 0.16666667, 0.16666667, 0.16666667, 0.16666667]],      dtype=float32))"
      ]
     },
     "execution_count": 5,
     "metadata": {},
     "output_type": "execute_result"
    }
   ],
   "source": [
    "N = 5\n",
    "sigma_points, weights = generate_sigma_points_gaussian( jnp.ones((2,1)), jnp.zeros((2,2)), jnp.zeros((2,1)), 1.0 )\n",
    "print(f\"{sigma_points}, {weights}\")\n",
    "points, weights = sigma_point_expand( points, weights,jnp.zeros((2,1)), 1.0 )\n",
    "foresee_propagate( sigma_points, weights, jnp.zeros((2,1)), 1.0 )"
   ]
  },
  {
   "cell_type": "code",
   "execution_count": 6,
   "id": "864d1a94-0e4f-46a5-88d0-d4cdc0ad2174",
   "metadata": {},
   "outputs": [],
   "source": [
    "def test():\n",
    "    N = 5\n",
    "    sigma_points, weights = generate_sigma_points_gaussian( jnp.ones((2,1)), jnp.zeros((2,2)), jnp.zeros((2,1)), 1.0 )\n",
    "    foresee_propagate( sigma_points, weights, jnp.zeros((2,1)), 1.0 )\n",
    "    return"
   ]
  },
  {
   "cell_type": "code",
   "execution_count": 7,
   "id": "fcb586a8-bd3b-4444-b6bc-4ee53caab4a7",
   "metadata": {},
   "outputs": [
    {
     "name": "stdout",
     "output_type": "stream",
     "text": [
      "169 µs ± 2.93 µs per loop (mean ± std. dev. of 7 runs, 10,000 loops each)\n"
     ]
    }
   ],
   "source": [
    "%timeit test()"
   ]
  },
  {
   "cell_type": "code",
   "execution_count": 7,
   "id": "2418b38d-3380-45b3-80eb-63da9c18ee08",
   "metadata": {},
   "outputs": [
    {
     "name": "stdout",
     "output_type": "stream",
     "text": [
      "test: [1]\n"
     ]
    },
    {
     "data": {
      "text/plain": [
       "Array([1], dtype=int32)"
      ]
     },
     "execution_count": 7,
     "metadata": {},
     "output_type": "execute_result"
    }
   ],
   "source": [
    "def test(x):\n",
    "    print(f\"test: {x}\")\n",
    "    return x\n",
    "a = jnp.array([1])\n",
    "test(a)"
   ]
  },
  {
   "cell_type": "code",
   "execution_count": null,
   "id": "4901b014-9872-478e-9dd5-b83602b320a3",
   "metadata": {},
   "outputs": [],
   "source": []
  },
  {
   "cell_type": "code",
   "execution_count": 8,
   "id": "67ed6049-e733-4bac-b2e5-39fcd5d23599",
   "metadata": {},
   "outputs": [
    {
     "name": "stdout",
     "output_type": "stream",
     "text": [
      "[[ 0.        -3.4772258  0.         7.477226   0.       ]\n",
      " [ 0.         0.        -3.4772258  0.         7.477226 ]]\n",
      "[[0.53846157 0.1575171  0.1575171  0.0732521  0.0732521 ]]\n"
     ]
    }
   ],
   "source": [
    "k = 3\n",
    "mu = k\n",
    "cov_root = jnp.sqrt(2*k)\n",
    "skew = jnp.sqrt(8/k)\n",
    "kurt = 12/k + 3\n",
    "points, weights = generate_sigma_points_gaussian_GenUT(mu * jnp.zeros((2,1)), cov_root*jnp.eye(2), skew*jnp.ones((2,1)) , kurt*jnp.ones((2,1)), jnp.zeros((2,1)), 1.0)\n",
    "print(points)\n",
    "print(weights)"
   ]
  },
  {
   "cell_type": "code",
   "execution_count": 9,
   "id": "79d3a8d5-158a-43f3-9a19-824830ce117e",
   "metadata": {},
   "outputs": [
    {
     "data": {
      "text/plain": [
       "(Array([[0.],\n",
       "        [0.]], dtype=float32),\n",
       " Array([[6., 0.],\n",
       "        [0., 6.]], dtype=float32),\n",
       " Array([[1.6329932],\n",
       "        [1.6329932],\n",
       "        [1.6329932],\n",
       "        [1.6329932]], dtype=float32),\n",
       " Array([[7.0000005],\n",
       "        [7.0000005],\n",
       "        [7.0000005],\n",
       "        [7.0000005]], dtype=float32))"
      ]
     },
     "execution_count": 9,
     "metadata": {},
     "output_type": "execute_result"
    }
   ],
   "source": [
    "get_mean_cov_skew_kurt_for_generation(points, weights)"
   ]
  },
  {
   "cell_type": "code",
   "execution_count": 13,
   "id": "40ad5ed1-50ab-4314-9ebb-13f8aed6c6e9",
   "metadata": {},
   "outputs": [
    {
     "data": {
      "text/plain": [
       "(Array([[0.],\n",
       "        [0.]], dtype=float32),\n",
       " Array([[6., 0.],\n",
       "        [0., 6.]], dtype=float32),\n",
       " Array([[1.6329932],\n",
       "        [1.6329932]], dtype=float32),\n",
       " Array([[7.0000005],\n",
       "        [7.0000005]], dtype=float32))"
      ]
     },
     "execution_count": 13,
     "metadata": {},
     "output_type": "execute_result"
    }
   ],
   "source": [
    "get_mean_cov_skew_kurt_for_generation(points, weights)"
   ]
  },
  {
   "cell_type": "code",
   "execution_count": 14,
   "id": "c0db8824-d5c3-438e-817e-bc466443a4b5",
   "metadata": {},
   "outputs": [
    {
     "data": {
      "text/plain": [
       "Array([[ 0.       , -3.4772258,  0.       ,  7.477226 ,  0.       ],\n",
       "       [ 0.       ,  0.       , -3.4772258,  0.       ,  7.477226 ]],      dtype=float32)"
      ]
     },
     "execution_count": 14,
     "metadata": {},
     "output_type": "execute_result"
    }
   ],
   "source": [
    "points"
   ]
  },
  {
   "cell_type": "code",
   "execution_count": 20,
   "id": "2d8b669c-ec4d-49c7-be7b-2ad92f34eff6",
   "metadata": {},
   "outputs": [],
   "source": [
    "cov = jnp.array([[3.94725796e-06, 0.00000000e+00, 0.00000000e+00, 0.00000000e+00,\n",
    "        0.00000000e+00, 0.00000000e+00],\n",
    "       [0.00000000e+00, 2.34873321e-05, 0.00000000e+00, 0.00000000e+00,\n",
    "        0.00000000e+00, 0.00000000e+00],\n",
    "       [0.00000000e+00, 0.00000000e+00, 6.37764452e-06, 0.00000000e+00,\n",
    "        0.00000000e+00, 0.00000000e+00],\n",
    "       [0.00000000e+00, 0.00000000e+00, 0.00000000e+00, 6.26007346e-05,\n",
    "        0.00000000e+00, 0.00000000e+00],\n",
    "       [0.00000000e+00, 0.00000000e+00, 0.00000000e+00, 0.00000000e+00,\n",
    "        2.45607411e-05, 0.00000000e+00],\n",
    "       [0.00000000e+00, 0.00000000e+00, 0.00000000e+00, 0.00000000e+00,\n",
    "        0.00000000e+00, 4.25326522e-03]])"
   ]
  },
  {
   "cell_type": "code",
   "execution_count": 21,
   "id": "db58c46d-1975-421e-85fc-3cec145734cf",
   "metadata": {},
   "outputs": [],
   "source": [
    "mu = jnp.array([[-0.99913337],\n",
    "       [ 0.01316325],\n",
    "       [ 0.02056756],\n",
    "       [ 0.22400998],\n",
    "       [ 0.03854097],\n",
    "       [ 2.07147488]])"
   ]
  },
  {
   "cell_type": "code",
   "execution_count": 22,
   "id": "be7476f5-b2d8-46e5-b854-0932794445e0",
   "metadata": {},
   "outputs": [
    {
     "data": {
      "text/plain": [
       "Array([[0.00198677, 0.        , 0.        , 0.        , 0.        ,\n",
       "        0.        ],\n",
       "       [0.        , 0.00484637, 0.        , 0.        , 0.        ,\n",
       "        0.        ],\n",
       "       [0.        , 0.        , 0.0025254 , 0.        , 0.        ,\n",
       "        0.        ],\n",
       "       [0.        , 0.        , 0.        , 0.00791206, 0.        ,\n",
       "        0.        ],\n",
       "       [0.        , 0.        , 0.        , 0.        , 0.00495588,\n",
       "        0.        ],\n",
       "       [0.        , 0.        , 0.        , 0.        , 0.        ,\n",
       "        0.06521706]], dtype=float32)"
      ]
     },
     "execution_count": 22,
     "metadata": {},
     "output_type": "execute_result"
    }
   ],
   "source": [
    "get_ut_cov_root_diagonal(cov)"
   ]
  },
  {
   "cell_type": "code",
   "execution_count": 23,
   "id": "8e930da5-d53e-4de5-9f73-dd9fc109a0a0",
   "metadata": {},
   "outputs": [
    {
     "data": {
      "text/plain": [
       "Array([[0.00198677, 0.        , 0.        , 0.        , 0.        ,\n",
       "        0.        ],\n",
       "       [0.        , 0.00484637, 0.        , 0.        , 0.        ,\n",
       "        0.        ],\n",
       "       [0.        , 0.        , 0.0025254 , 0.        , 0.        ,\n",
       "        0.        ],\n",
       "       [0.        , 0.        , 0.        , 0.00791206, 0.        ,\n",
       "        0.        ],\n",
       "       [0.        , 0.        , 0.        , 0.        , 0.00495588,\n",
       "        0.        ],\n",
       "       [0.        , 0.        , 0.        , 0.        , 0.        ,\n",
       "        0.06521706]], dtype=float32)"
      ]
     },
     "execution_count": 23,
     "metadata": {},
     "output_type": "execute_result"
    }
   ],
   "source": [
    "jnp.sqrt(cov)"
   ]
  },
  {
   "cell_type": "code",
   "execution_count": 27,
   "id": "6fa0f1be-781a-4cdf-8579-1cfbceba5374",
   "metadata": {},
   "outputs": [],
   "source": [
    "sp, sw = generate_sigma_points_gaussian( mu, jnp.sqrt(cov), jnp.zeros((6,1)), 1.0 )"
   ]
  },
  {
   "cell_type": "code",
   "execution_count": 28,
   "id": "55b88d8c-ae2f-4048-aee3-a30cbf5e9e1f",
   "metadata": {},
   "outputs": [
    {
     "data": {
      "text/plain": [
       "(Array([[-0.99913335],\n",
       "        [ 0.01316325],\n",
       "        [ 0.02056756],\n",
       "        [ 0.22400999],\n",
       "        [ 0.03854097],\n",
       "        [ 2.0714748 ]], dtype=float32),\n",
       " Array([[3.9472620e-06, 0.0000000e+00, 0.0000000e+00, 0.0000000e+00,\n",
       "         0.0000000e+00, 0.0000000e+00],\n",
       "        [0.0000000e+00, 2.3487333e-05, 0.0000000e+00, 0.0000000e+00,\n",
       "         0.0000000e+00, 0.0000000e+00],\n",
       "        [0.0000000e+00, 0.0000000e+00, 6.3776447e-06, 0.0000000e+00,\n",
       "         0.0000000e+00, 0.0000000e+00],\n",
       "        [0.0000000e+00, 0.0000000e+00, 0.0000000e+00, 6.2600709e-05,\n",
       "         0.0000000e+00, 0.0000000e+00],\n",
       "        [0.0000000e+00, 0.0000000e+00, 0.0000000e+00, 0.0000000e+00,\n",
       "         2.4560739e-05, 0.0000000e+00],\n",
       "        [0.0000000e+00, 0.0000000e+00, 0.0000000e+00, 0.0000000e+00,\n",
       "         0.0000000e+00, 4.2532645e-03]], dtype=float32))"
      ]
     },
     "execution_count": 28,
     "metadata": {},
     "output_type": "execute_result"
    }
   ],
   "source": [
    "get_mean_cov(sp, sw)"
   ]
  },
  {
   "cell_type": "code",
   "execution_count": 36,
   "id": "3ab2b714-7256-422f-8878-73d38384ce12",
   "metadata": {},
   "outputs": [
    {
     "data": {
      "text/plain": [
       "Array([ 0.,  5., 10.], dtype=float32)"
      ]
     },
     "execution_count": 36,
     "metadata": {},
     "output_type": "execute_result"
    }
   ],
   "source": [
    "jnp.linspace(0,10,int(6/2))"
   ]
  },
  {
   "cell_type": "code",
   "execution_count": null,
   "id": "406d48be-b5de-4b35-b793-d76c267fe1a5",
   "metadata": {},
   "outputs": [],
   "source": []
  }
 ],
 "metadata": {
  "kernelspec": {
   "display_name": "Python 3 (ipykernel)",
   "language": "python",
   "name": "python3"
  },
  "language_info": {
   "codemirror_mode": {
    "name": "ipython",
    "version": 3
   },
   "file_extension": ".py",
   "mimetype": "text/x-python",
   "name": "python",
   "nbconvert_exporter": "python",
   "pygments_lexer": "ipython3",
   "version": "3.11.7"
  }
 },
 "nbformat": 4,
 "nbformat_minor": 5
}
