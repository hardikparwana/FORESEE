{
 "cells": [
  {
   "cell_type": "code",
   "execution_count": 1,
   "id": "6bc2164c",
   "metadata": {},
   "outputs": [],
   "source": [
    "import time\n",
    "import jax.numpy as np\n",
    "from jax import random, grad, jit, vmap, vjp\n",
    "from jax import jacfwd, jacrev\n",
    "\n",
    "import matplotlib.pyplot as plt\n",
    "from matplotlib.animation import FFMpegWriter\n",
    "plt.rcParams.update({'font.size': 10})\n",
    "\n",
    "from utils.utils import *\n",
    "from cartpole_policy import policy, policy_jit\n",
    "from ut_utils.ut_utils import *\n",
    "from robot_models.custom_cartpole_constrained import CustomCartPoleEnv\n",
    "from robot_models.cartpole2D import step\n",
    "from gym_wrappers.record_video import RecordVideo"
   ]
  },
  {
   "cell_type": "code",
   "execution_count": 2,
   "id": "f4a20401",
   "metadata": {},
   "outputs": [
    {
     "name": "stderr",
     "output_type": "stream",
     "text": [
      "No GPU/TPU found, falling back to CPU. (Set TF_CPP_MIN_LOG_LEVEL=0 and rerun for more info.)\n"
     ]
    }
   ],
   "source": [
    "key = random.PRNGKey(0)\n",
    "\n",
    "def generate_psd_params():\n",
    "    n = 4\n",
    "    N = 50\n",
    "    diag = random.uniform(key, shape=(n,1))[:,0] + n\n",
    "    off_diag = random.uniform(key, shape=(int( (n**2-n)/2.0 ),1))[:,0]\n",
    "    params = np.append(diag, off_diag, axis = 0).reshape(1,-1)\n",
    "    for i in range(1,50):\n",
    "        # Diagonal elements\n",
    "        params_temp = random.uniform( key, shape=( 1,int(n + (n**2 -n)/2.0)) )\n",
    "        params = np.append( params, params_temp, axis = 0 )    \n",
    "    return params\n",
    "\n",
    "def get_future_reward(X, horizon, dt_outer, dynamics_params, params_policy):\n",
    "    states, weights = initialize_sigma_points_jit(X)\n",
    "    reward = 0\n",
    "    for i in range(40):  \n",
    "        mean_position = get_mean( states, weights )\n",
    "        solution = policy( params_policy, mean_position )\n",
    "        next_states_expanded, next_weights_expanded = sigma_point_expand( states, weights, solution, dt_outer, dynamics_params)#, gps )        \n",
    "        next_states, next_weights = sigma_point_compress( next_states_expanded, next_weights_expanded )\n",
    "        states = next_states\n",
    "        weights = next_weights\n",
    "        reward = reward + reward_UT_Mean_Evaluator_basic( states, weights )\n",
    "    return reward"
   ]
  },
  {
   "cell_type": "code",
   "execution_count": 3,
   "id": "b20dd77b",
   "metadata": {},
   "outputs": [],
   "source": [
    "# get_future_reward_grad = grad(get_future_reward)\n",
    "# get_future_reward_jit = jit(get_future_reward)\n",
    "\n",
    "get_future_reward_grad = grad(get_future_reward, 4)\n",
    "get_future_reward_grad_jit = jit(get_future_reward_grad)"
   ]
  },
  {
   "cell_type": "code",
   "execution_count": 4,
   "id": "7c020e4b",
   "metadata": {},
   "outputs": [
    {
     "name": "stderr",
     "output_type": "stream",
     "text": [
      "/home/dasc/hardik/FORESEE/cartpole/gym_wrappers/record_video.py:76: UserWarning: \u001b[33mWARN: Overwriting existing videos at /home/hardik/Desktop folder (try specifying a different `video_folder` for the `RecordVideo` wrapper if this is not desired)\u001b[0m\n",
      "  logger.warn(\n"
     ]
    },
    {
     "name": "stdout",
     "output_type": "stream",
     "text": [
      "x:0.0, theta:3.141592653589793\n",
      "h1\n",
      "x:0.0, theta:3.141592653589793\n",
      "h1\n"
     ]
    },
    {
     "name": "stderr",
     "output_type": "stream",
     "text": [
      "/home/dasc/hardik/FORESEE/cartpole/gym_wrappers/monitoring/video_recorder.py:59: UserWarning: \u001b[33mWARN: Disabling video recorder because environment <CustomCartPoleEnv instance> was not initialized with any compatible video mode between `rgb_array` and `rgb_array_list`\u001b[0m\n",
      "  logger.warn(\n"
     ]
    }
   ],
   "source": [
    "# Set up environment\n",
    "env_to_render = CustomCartPoleEnv(render_mode=\"human\")\n",
    "env = RecordVideo( env_to_render, video_folder=\"/home/hardik/Desktop/\", name_prefix=\"cartpole_constrained_H20\" )\n",
    "observation, info = env.reset(seed=42)\n",
    "\n",
    "polemass_length, gravity, length, masspole, total_mass, tau = env.polemass_length, env.gravity, env.length, env.masspole, env.total_mass, env.tau\n",
    "dynamics_params = np.array([ polemass_length, gravity, length, masspole, total_mass])#, tau ])\n"
   ]
  },
  {
   "cell_type": "code",
   "execution_count": 5,
   "id": "a16cd7b5",
   "metadata": {},
   "outputs": [],
   "source": [
    "# Initialize parameters\n",
    "N = 50\n",
    "H = 20\n",
    "lr_rate = 0.01\n",
    "param_w = random.uniform(key, shape=(N,1))[:,0] - 0.5#+ 0.5#+ 2.0  #0.5 work with Lr: 5.0\n",
    "param_mu = random.uniform(key, shape=(4,N))- 0.5 * np.ones((4,N)) #- 3.5 * np.ones((4,N))\n",
    "param_Sigma = generate_psd_params() # 10,N\n",
    "params_policy = np.append( param_w, np.append( param_mu.reshape(-1,1)[:,0], param_Sigma.reshape(-1,1)[:,0] ) )\n",
    "\n",
    "t = 0\n",
    "dt_inner = 0.1\n",
    "dt_outer = 0.1\n",
    "tf = 5.0\n",
    "\n",
    "state = np.copy(env.get_state())"
   ]
  },
  {
   "cell_type": "code",
   "execution_count": 6,
   "id": "70d9f97b",
   "metadata": {},
   "outputs": [
    {
     "name": "stderr",
     "output_type": "stream",
     "text": [
      "2023-04-07 13:08:45.986617: E external/xla/xla/service/slow_operation_alarm.cc:65] \n",
      "********************************\n",
      "[Compiling module jit_get_future_reward] Very slow compile? If you want to file a bug, run with envvar XLA_FLAGS=--xla_dump_to=/tmp/foo and attach the results.\n",
      "********************************\n",
      "2023-04-07 16:45:26.927777: E external/xla/xla/service/slow_operation_alarm.cc:133] The operation took 3h38m40.940927814s\n",
      "\n",
      "********************************\n",
      "[Compiling module jit_get_future_reward] Very slow compile? If you want to file a bug, run with envvar XLA_FLAGS=--xla_dump_to=/tmp/foo and attach the results.\n",
      "********************************\n"
     ]
    },
    {
     "data": {
      "text/plain": [
       "Array([nan, nan, nan, nan, nan, nan, nan, nan, nan, nan, nan, nan, nan,\n",
       "       nan, nan, nan, nan, nan, nan, nan, nan, nan, nan, nan, nan, nan,\n",
       "       nan, nan, nan, nan, nan, nan, nan, nan, nan, nan, nan, nan, nan,\n",
       "       nan, nan, nan, nan, nan, nan, nan, nan, nan, nan, nan, nan, nan,\n",
       "       nan, nan, nan, nan, nan, nan, nan, nan, nan, nan, nan, nan, nan,\n",
       "       nan, nan, nan, nan, nan, nan, nan, nan, nan, nan, nan, nan, nan,\n",
       "       nan, nan, nan, nan, nan, nan, nan, nan, nan, nan, nan, nan, nan,\n",
       "       nan, nan, nan, nan, nan, nan, nan, nan, nan, nan, nan, nan, nan,\n",
       "       nan, nan, nan, nan, nan, nan, nan, nan, nan, nan, nan, nan, nan,\n",
       "       nan, nan, nan, nan, nan, nan, nan, nan, nan, nan, nan, nan, nan,\n",
       "       nan, nan, nan, nan, nan, nan, nan, nan, nan, nan, nan, nan, nan,\n",
       "       nan, nan, nan, nan, nan, nan, nan, nan, nan, nan, nan, nan, nan,\n",
       "       nan, nan, nan, nan, nan, nan, nan, nan, nan, nan, nan, nan, nan,\n",
       "       nan, nan, nan, nan, nan, nan, nan, nan, nan, nan, nan, nan, nan,\n",
       "       nan, nan, nan, nan, nan, nan, nan, nan, nan, nan, nan, nan, nan,\n",
       "       nan, nan, nan, nan, nan, nan, nan, nan, nan, nan, nan, nan, nan,\n",
       "       nan, nan, nan, nan, nan, nan, nan, nan, nan, nan, nan, nan, nan,\n",
       "       nan, nan, nan, nan, nan, nan, nan, nan, nan, nan, nan, nan, nan,\n",
       "       nan, nan, nan, nan, nan, nan, nan, nan, nan, nan, nan, nan, nan,\n",
       "       nan, nan, nan, nan, nan, nan, nan, nan, nan, nan, nan, nan, nan,\n",
       "        0.,  0.,  0.,  0.,  0.,  0.,  0.,  0.,  0.,  0.,  0.,  0.,  0.,\n",
       "        0.,  0.,  0.,  0.,  0.,  0.,  0.,  0.,  0.,  0.,  0.,  0.,  0.,\n",
       "        0.,  0.,  0.,  0.,  0.,  0.,  0.,  0.,  0.,  0.,  0.,  0.,  0.,\n",
       "        0., nan, nan, nan, nan,  0.,  0.,  0.,  0.,  0.,  0.,  0.,  0.,\n",
       "        0.,  0.,  0.,  0.,  0.,  0.,  0.,  0.,  0.,  0.,  0.,  0.,  0.,\n",
       "        0.,  0.,  0.,  0.,  0.,  0.,  0.,  0.,  0.,  0.,  0.,  0.,  0.,\n",
       "        0.,  0.,  0.,  0.,  0.,  0.,  0.,  0.,  0.,  0.,  0.,  0., nan,\n",
       "       nan, nan, nan,  0.,  0.,  0.,  0.,  0.,  0.,  0.,  0.,  0.,  0.,\n",
       "        0.,  0.,  0.,  0.,  0.,  0.,  0.,  0.,  0.,  0.,  0.,  0.,  0.,\n",
       "        0.,  0.,  0.,  0.,  0.,  0.,  0.,  0.,  0.,  0.,  0.,  0.,  0.,\n",
       "        0.,  0.,  0.,  0.,  0.,  0.,  0.,  0.,  0.,  0., nan, nan, nan,\n",
       "       nan,  0.,  0.,  0.,  0.,  0.,  0.,  0.,  0.,  0.,  0.,  0.,  0.,\n",
       "        0.,  0.,  0.,  0.,  0.,  0.,  0.,  0.,  0.,  0.,  0.,  0.,  0.,\n",
       "        0.,  0.,  0.,  0.,  0.,  0.,  0.,  0.,  0.,  0.,  0.,  0.,  0.,\n",
       "        0.,  0.,  0.,  0.,  0.,  0.,  0.,  0., nan, nan, nan, nan,  0.,\n",
       "        0.,  0.,  0.,  0.,  0.,  0.,  0.,  0.,  0.,  0.,  0.,  0.,  0.,\n",
       "        0.,  0.,  0.,  0.,  0.,  0.,  0.,  0.,  0.,  0.,  0.,  0.,  0.,\n",
       "        0.,  0.,  0.,  0.,  0.,  0.,  0.,  0.,  0.,  0.,  0.,  0.,  0.,\n",
       "        0.,  0.,  0.,  0.,  0.,  0., nan, nan, nan, nan,  0.,  0.,  0.,\n",
       "        0.,  0.,  0.,  0.,  0.,  0.,  0.,  0.,  0.,  0.,  0.,  0.,  0.,\n",
       "        0.,  0.,  0.,  0.,  0.,  0.,  0.,  0.,  0.,  0.,  0.,  0.,  0.,\n",
       "        0.,  0.,  0.,  0.,  0.,  0.,  0.,  0.,  0.,  0.,  0.,  0.,  0.,\n",
       "        0.,  0.,  0.,  0., nan, nan, nan, nan,  0.,  0.,  0.,  0.,  0.,\n",
       "        0.,  0.,  0.,  0.,  0.,  0.,  0.,  0.,  0.,  0.,  0.,  0.,  0.,\n",
       "        0.,  0.,  0.,  0.,  0.,  0.,  0.,  0.,  0.,  0.,  0.,  0.,  0.,\n",
       "        0.,  0.,  0.,  0.,  0.,  0.,  0.,  0.,  0.,  0.,  0.,  0.,  0.,\n",
       "        0.,  0., nan, nan, nan, nan,  0.,  0.,  0.,  0.,  0.,  0.,  0.,\n",
       "        0.,  0.,  0.,  0.,  0.,  0.,  0.,  0.,  0.,  0.,  0.,  0.,  0.,\n",
       "        0.,  0.,  0.,  0.,  0.,  0.,  0.,  0.,  0.,  0.,  0.,  0.,  0.,\n",
       "        0.,  0.,  0.,  0.,  0.,  0.,  0.,  0.,  0.,  0.,  0.,  0.,  0.,\n",
       "       nan, nan, nan, nan,  0.,  0.,  0.,  0.,  0.,  0.,  0.,  0.,  0.,\n",
       "        0.,  0.,  0.,  0.,  0.,  0.,  0.,  0.,  0.,  0.,  0.,  0.,  0.,\n",
       "        0.,  0.,  0.,  0.,  0.,  0.,  0.,  0.,  0.,  0.,  0.,  0.,  0.,\n",
       "        0.,  0.,  0.,  0.,  0.,  0.,  0.,  0.,  0.,  0.,  0., nan, nan,\n",
       "       nan, nan,  0.,  0.,  0.,  0.,  0.,  0.,  0.,  0.,  0.,  0.,  0.,\n",
       "        0.,  0.,  0.,  0.,  0.,  0.,  0.,  0.,  0.,  0.,  0.,  0.,  0.,\n",
       "        0.,  0.,  0.,  0.,  0.,  0.,  0.,  0.,  0.,  0.,  0.,  0.,  0.,\n",
       "        0.,  0.,  0.,  0.,  0.,  0.,  0.,  0.,  0.], dtype=float32)"
      ]
     },
     "execution_count": 6,
     "metadata": {},
     "output_type": "execute_result"
    }
   ],
   "source": [
    "get_future_reward_grad_jit( state, H, dt_outer, dynamics_params, params_policy )"
   ]
  },
  {
   "cell_type": "code",
   "execution_count": 7,
   "id": "f0723e9d",
   "metadata": {},
   "outputs": [],
   "source": [
    "key = random.PRNGKey(10)"
   ]
  },
  {
   "cell_type": "code",
   "execution_count": null,
   "id": "7acb6d30",
   "metadata": {},
   "outputs": [],
   "source": []
  }
 ],
 "metadata": {
  "kernelspec": {
   "display_name": "Python 3 (ipykernel)",
   "language": "python",
   "name": "python3"
  },
  "language_info": {
   "codemirror_mode": {
    "name": "ipython",
    "version": 3
   },
   "file_extension": ".py",
   "mimetype": "text/x-python",
   "name": "python",
   "nbconvert_exporter": "python",
   "pygments_lexer": "ipython3",
   "version": "3.11.3"
  }
 },
 "nbformat": 4,
 "nbformat_minor": 5
}
