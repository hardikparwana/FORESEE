{
 "cells": [
  {
   "cell_type": "code",
   "execution_count": 1,
   "id": "46dfcb52",
   "metadata": {},
   "outputs": [
    {
     "name": "stderr",
     "output_type": "stream",
     "text": [
      "/home/hardik/Desktop/Research/Adversary-CBF/venv/lib/python3.8/site-packages/tqdm/auto.py:22: TqdmWarning: IProgress not found. Please update jupyter and ipywidgets. See https://ipywidgets.readthedocs.io/en/stable/user_install.html\n",
      "  from .autonotebook import tqdm as notebook_tqdm\n"
     ]
    }
   ],
   "source": [
    "import math\n",
    "import torch\n",
    "import gpytorch\n",
    "from matplotlib import pyplot as plt\n",
    "\n",
    "%matplotlib inline\n",
    "%load_ext autoreload\n",
    "%autoreload 2"
   ]
  },
  {
   "cell_type": "markdown",
   "id": "9d9e6694",
   "metadata": {},
   "source": [
    "## Exact GP"
   ]
  },
  {
   "cell_type": "code",
   "execution_count": 2,
   "id": "74b5f830",
   "metadata": {},
   "outputs": [],
   "source": [
    "# Training data is 100 points in [0,1] inclusive regularly spaced\n",
    "train_x1 = torch.cat( (torch.linspace(0, 1, 100).reshape(-1,1) , torch.linspace(0, 1, 100).reshape(-1,1)), dim = 1  )\n",
    "# True function is sin(2*pi*x) with Gaussian noise\n",
    "train_y1 = torch.sin((train_x1[:,0] + train_x1[:,1]).reshape(-1,1) * (2 * math.pi)) + torch.randn(train_x1.shape[0]).reshape(-1,1) * math.sqrt(0.04)"
   ]
  },
  {
   "cell_type": "code",
   "execution_count": 3,
   "id": "cf3b941e",
   "metadata": {},
   "outputs": [],
   "source": [
    "train_y1 = train_y1.reshape(1,-1)[0]"
   ]
  },
  {
   "cell_type": "code",
   "execution_count": 4,
   "id": "7e8bfc7a",
   "metadata": {},
   "outputs": [],
   "source": [
    "# We will use the simplest form of GP model, exact inference\n",
    "class ExactGPModel(gpytorch.models.ExactGP):\n",
    "    def __init__(self, train_x, train_y, likelihood):\n",
    "        super(ExactGPModel, self).__init__(train_x, train_y, likelihood)\n",
    "        self.mean_module = gpytorch.means.ConstantMean()\n",
    "        self.covar_module = gpytorch.kernels.ScaleKernel(gpytorch.kernels.RBFKernel())\n",
    "\n",
    "    def forward(self, x):\n",
    "        mean_x = self.mean_module(x)\n",
    "        covar_x = self.covar_module(x)\n",
    "        return gpytorch.distributions.MultivariateNormal(mean_x, covar_x)\n",
    "\n",
    "# initialize likelihood and model\n",
    "likelihood1 = gpytorch.likelihoods.GaussianLikelihood()\n",
    "model1 = ExactGPModel(train_x1, train_y1, likelihood1)"
   ]
  },
  {
   "cell_type": "code",
   "execution_count": 6,
   "id": "10da92be",
   "metadata": {},
   "outputs": [
    {
     "name": "stdout",
     "output_type": "stream",
     "text": [
      "Iter 1/50 - Loss: 1.131   lengthscale: 0.693   noise: 0.693\n",
      "Iter 2/50 - Loss: 1.115   lengthscale: 0.644   noise: 0.644\n",
      "Iter 3/50 - Loss: 1.096   lengthscale: 0.599   noise: 0.598\n",
      "Iter 4/50 - Loss: 1.074   lengthscale: 0.557   noise: 0.555\n",
      "Iter 5/50 - Loss: 1.048   lengthscale: 0.518   noise: 0.514\n",
      "Iter 6/50 - Loss: 1.015   lengthscale: 0.480   noise: 0.475\n",
      "Iter 7/50 - Loss: 0.975   lengthscale: 0.445   noise: 0.438\n",
      "Iter 8/50 - Loss: 0.922   lengthscale: 0.411   noise: 0.404\n",
      "Iter 9/50 - Loss: 0.851   lengthscale: 0.380   noise: 0.372\n",
      "Iter 10/50 - Loss: 0.765   lengthscale: 0.351   noise: 0.341\n",
      "Iter 11/50 - Loss: 0.672   lengthscale: 0.323   noise: 0.312\n",
      "Iter 12/50 - Loss: 0.588   lengthscale: 0.296   noise: 0.286\n",
      "Iter 13/50 - Loss: 0.520   lengthscale: 0.271   noise: 0.261\n",
      "Iter 14/50 - Loss: 0.468   lengthscale: 0.249   noise: 0.238\n",
      "Iter 15/50 - Loss: 0.425   lengthscale: 0.229   noise: 0.216\n",
      "Iter 16/50 - Loss: 0.388   lengthscale: 0.213   noise: 0.196\n",
      "Iter 17/50 - Loss: 0.355   lengthscale: 0.199   noise: 0.177\n",
      "Iter 18/50 - Loss: 0.324   lengthscale: 0.187   noise: 0.160\n",
      "Iter 19/50 - Loss: 0.295   lengthscale: 0.177   noise: 0.145\n",
      "Iter 20/50 - Loss: 0.267   lengthscale: 0.169   noise: 0.131\n",
      "Iter 21/50 - Loss: 0.241   lengthscale: 0.163   noise: 0.118\n",
      "Iter 22/50 - Loss: 0.215   lengthscale: 0.158   noise: 0.106\n",
      "Iter 23/50 - Loss: 0.191   lengthscale: 0.154   noise: 0.096\n",
      "Iter 24/50 - Loss: 0.167   lengthscale: 0.151   noise: 0.086\n",
      "Iter 25/50 - Loss: 0.145   lengthscale: 0.150   noise: 0.078\n",
      "Iter 26/50 - Loss: 0.125   lengthscale: 0.149   noise: 0.071\n",
      "Iter 27/50 - Loss: 0.107   lengthscale: 0.149   noise: 0.064\n",
      "Iter 28/50 - Loss: 0.091   lengthscale: 0.150   noise: 0.058\n",
      "Iter 29/50 - Loss: 0.077   lengthscale: 0.151   noise: 0.053\n",
      "Iter 30/50 - Loss: 0.066   lengthscale: 0.154   noise: 0.048\n",
      "Iter 31/50 - Loss: 0.057   lengthscale: 0.156   noise: 0.044\n",
      "Iter 32/50 - Loss: 0.051   lengthscale: 0.160   noise: 0.041\n",
      "Iter 33/50 - Loss: 0.047   lengthscale: 0.163   noise: 0.038\n",
      "Iter 34/50 - Loss: 0.045   lengthscale: 0.168   noise: 0.036\n",
      "Iter 35/50 - Loss: 0.045   lengthscale: 0.172   noise: 0.034\n",
      "Iter 36/50 - Loss: 0.045   lengthscale: 0.177   noise: 0.032\n",
      "Iter 37/50 - Loss: 0.046   lengthscale: 0.183   noise: 0.031\n",
      "Iter 38/50 - Loss: 0.047   lengthscale: 0.188   noise: 0.030\n",
      "Iter 39/50 - Loss: 0.047   lengthscale: 0.194   noise: 0.029\n",
      "Iter 40/50 - Loss: 0.046   lengthscale: 0.200   noise: 0.029\n",
      "Iter 41/50 - Loss: 0.045   lengthscale: 0.206   noise: 0.029\n",
      "Iter 42/50 - Loss: 0.044   lengthscale: 0.212   noise: 0.029\n",
      "Iter 43/50 - Loss: 0.042   lengthscale: 0.218   noise: 0.030\n",
      "Iter 44/50 - Loss: 0.041   lengthscale: 0.222   noise: 0.030\n",
      "Iter 45/50 - Loss: 0.040   lengthscale: 0.226   noise: 0.031\n",
      "Iter 46/50 - Loss: 0.038   lengthscale: 0.228   noise: 0.032\n",
      "Iter 47/50 - Loss: 0.036   lengthscale: 0.229   noise: 0.033\n",
      "Iter 48/50 - Loss: 0.033   lengthscale: 0.229   noise: 0.034\n",
      "Iter 49/50 - Loss: 0.030   lengthscale: 0.228   noise: 0.035\n",
      "Iter 50/50 - Loss: 0.027   lengthscale: 0.226   noise: 0.036\n"
     ]
    }
   ],
   "source": [
    "# this is for running the notebook in our testing framework\n",
    "import os\n",
    "smoke_test = ('CI' in os.environ)\n",
    "training_iter = 2 if smoke_test else 50\n",
    "\n",
    "\n",
    "# Find optimal model hyperparameters\n",
    "model1.train()\n",
    "likelihood1.train()\n",
    "\n",
    "# Use the adam optimizer\n",
    "optimizer1 = torch.optim.Adam(model1.parameters(), lr=0.1)  # Includes GaussianLikelihood parameters\n",
    "\n",
    "# \"Loss\" for GPs - the marginal log likelihood\n",
    "mll1 = gpytorch.mlls.ExactMarginalLogLikelihood(likelihood1, model1)\n",
    "\n",
    "for i in range(training_iter):\n",
    "    # Zero gradients from previous iteration\n",
    "    optimizer1.zero_grad()\n",
    "    # Output from model\n",
    "    output1 = model1(train_x1)\n",
    "    # Calc loss and backprop gradients\n",
    "    loss1 = -mll1(output1, train_y1)\n",
    "    loss1.backward()\n",
    "    print('Iter %d/%d - Loss: %.3f   lengthscale: %.3f   noise: %.3f' % (\n",
    "        i + 1, training_iter, loss1.item(),\n",
    "        model1.covar_module.base_kernel.lengthscale.item(),\n",
    "        model1.likelihood.noise.item()\n",
    "    ))\n",
    "    optimizer1.step()"
   ]
  },
  {
   "cell_type": "code",
   "execution_count": 7,
   "id": "8bcc852c",
   "metadata": {},
   "outputs": [
    {
     "data": {
      "image/png": "[encoded data removed]",
      "text/plain": [
       "<Figure size 288x216 with 1 Axes>"
      ]
     },
     "metadata": {
      "needs_background": "light"
     },
     "output_type": "display_data"
    }
   ],
   "source": [
    "# Get into evaluation (predictive posterior) mode\n",
    "model1.eval()\n",
    "likelihood1.eval()\n",
    "\n",
    "# Test points are regularly spaced along [0,1]\n",
    "# Make predictions by feeding model through likelihood\n",
    "with torch.no_grad(), gpytorch.settings.fast_pred_var():\n",
    "    test_x = torch.cat( (torch.linspace(0, 1, 51).reshape(-1,1), torch.linspace(0, 1, 51).reshape(-1,1)), dim = 1 )\n",
    "    observed_pred = likelihood1(model1(test_x))\n",
    "\n",
    "with torch.no_grad():\n",
    "    # Initialize plot\n",
    "    f, ax = plt.subplots(1, 1, figsize=(4, 3))\n",
    "\n",
    "    # Get upper and lower confidence bounds\n",
    "    lower, upper = observed_pred.confidence_region()\n",
    "    \n",
    "    # Plot training data as black stars\n",
    "    ax.plot(train_x1[:,0].numpy(), train_y1.numpy(), 'k*')\n",
    "    # Plot predictive means as blue line\n",
    "    ax.plot(test_x[:,0].numpy(), observed_pred.mean.numpy(), 'b')\n",
    "    # Shade between the lower and upper confidence bounds\n",
    "    ax.fill_between(test_x[:,0].numpy(), lower.numpy(), upper.numpy(), alpha=0.5)\n",
    "    ax.set_ylim([-3, 3])\n",
    "    ax.legend(['Observed Data', 'Mean', 'Confidence'])"
   ]
  },
  {
   "cell_type": "code",
   "execution_count": 8,
   "id": "85fa8838",
   "metadata": {},
   "outputs": [],
   "source": [
    "xx1 = torch.tensor([[0, 0]], dtype=torch.float, requires_grad=True)"
   ]
  },
  {
   "cell_type": "code",
   "execution_count": 9,
   "id": "087e5716",
   "metadata": {},
   "outputs": [],
   "source": [
    "yy1 = model1(xx1)"
   ]
  },
  {
   "cell_type": "code",
   "execution_count": 12,
   "id": "f7bd919c",
   "metadata": {},
   "outputs": [],
   "source": [
    "yy1.mean.sum().backward(retain_graph=True)"
   ]
  },
  {
   "cell_type": "code",
   "execution_count": 13,
   "id": "563933ff",
   "metadata": {},
   "outputs": [
    {
     "data": {
      "text/plain": [
       "tensor([[4.7862, 4.7862]])"
      ]
     },
     "execution_count": 13,
     "metadata": {},
     "output_type": "execute_result"
    }
   ],
   "source": [
    "xx1.grad"
   ]
  },
  {
   "cell_type": "markdown",
   "id": "c99b2e87",
   "metadata": {},
   "source": [
    "## Multitask GP"
   ]
  },
  {
   "cell_type": "code",
   "execution_count": 22,
   "id": "499ead17",
   "metadata": {},
   "outputs": [],
   "source": [
    "train_x2 = torch.cat( (torch.linspace(0, 1, 100).reshape(-1,1), torch.linspace(0, 1, 100).reshape(-1,1)), dim = 1)\n",
    "\n",
    "train_y2 = torch.cat( (\n",
    "    torch.sin((train_x2[:,0] + train_x2[:,1]).reshape(-1,1) * (2 * math.pi)) + torch.randn(train_x2.shape[0]).reshape(-1,1) * 0.2,\n",
    "    torch.cos((train_x2[:,0] + train_x2[:,1]).reshape(-1,1) * (2 * math.pi)) + torch.randn(train_x2.shape[0]).reshape(-1,1) * 0.2 ),\n",
    "    dim = 1)"
   ]
  },
  {
   "cell_type": "code",
   "execution_count": 24,
   "id": "528febbb",
   "metadata": {},
   "outputs": [
    {
     "data": {
      "text/plain": [
       "torch.Size([100, 2])"
      ]
     },
     "execution_count": 24,
     "metadata": {},
     "output_type": "execute_result"
    }
   ],
   "source": [
    "train_y2.shape"
   ]
  },
  {
   "cell_type": "code",
   "execution_count": 80,
   "id": "ba815b73",
   "metadata": {},
   "outputs": [],
   "source": [
    "class MultitaskGPModel(gpytorch.models.ExactGP):\n",
    "    def __init__(self, train_x, train_y, likelihood):\n",
    "        super(MultitaskGPModel, self).__init__(train_x, train_y, likelihood)\n",
    "        self.mean_module = gpytorch.means.MultitaskMean(\n",
    "            gpytorch.means.ConstantMean(), num_tasks=2\n",
    "        )\n",
    "        self.covar_module = gpytorch.kernels.MultitaskKernel(\n",
    "            gpytorch.kernels.RBFKernel() *  gpytorch.kernels.LinearKernel(), num_tasks=2, rank=1\n",
    "        )\n",
    "\n",
    "    def forward(self, x):\n",
    "        mean_x = self.mean_module(x)\n",
    "        covar_x = self.covar_module(x)\n",
    "        return gpytorch.distributions.MultitaskMultivariateNormal(mean_x, covar_x)\n",
    "\n",
    "\n",
    "likelihood2 = gpytorch.likelihoods.MultitaskGaussianLikelihood(num_tasks=2)\n",
    "model2 = MultitaskGPModel(train_x2, train_y2, likelihood2)"
   ]
  },
  {
   "cell_type": "code",
   "execution_count": 81,
   "id": "5c01fe70",
   "metadata": {},
   "outputs": [],
   "source": [
    "# this is for running the notebook in our testing framework\n",
    "import os\n",
    "smoke_test = ('CI' in os.environ)\n",
    "training_iterations = 2 if smoke_test else 50\n",
    "\n",
    "\n",
    "# Find optimal model hyperparameters\n",
    "model2.train()\n",
    "likelihood2.train()\n",
    "\n",
    "# Use the adam optimizer\n",
    "optimizer2 = torch.optim.Adam(model2.parameters(), lr=0.1)  # Includes GaussianLikelihood parameters\n",
    "\n",
    "# \"Loss\" for GPs - the marginal log likelihood\n",
    "mll2 = gpytorch.mlls.ExactMarginalLogLikelihood(likelihood2, model2)\n",
    "\n",
    "for i in range(training_iterations):\n",
    "    optimizer2.zero_grad()\n",
    "    output2 = model2(train_x2)\n",
    "    loss2 = -mll2(output2, train_y2)\n",
    "    loss2.backward()\n",
    "#     print('Iter %d/%d - Loss: %.3f' % (i + 1, training_iterations, loss2.item()))\n",
    "    optimizer2.step()"
   ]
  },
  {
   "cell_type": "code",
   "execution_count": 84,
   "id": "da7654d2",
   "metadata": {},
   "outputs": [
    {
     "data": {
      "text/plain": [
       "MultitaskGPModel(\n",
       "  (likelihood): MultitaskGaussianLikelihood(\n",
       "    (raw_task_noises_constraint): GreaterThan(1.000E-04)\n",
       "    (raw_noise_constraint): GreaterThan(1.000E-04)\n",
       "  )\n",
       "  (mean_module): MultitaskMean(\n",
       "    (base_means): ModuleList(\n",
       "      (0): ConstantMean()\n",
       "      (1): ConstantMean()\n",
       "    )\n",
       "  )\n",
       "  (covar_module): MultitaskKernel(\n",
       "    (task_covar_module): IndexKernel(\n",
       "      (raw_var_constraint): Positive()\n",
       "    )\n",
       "    (data_covar_module): ProductKernel(\n",
       "      (kernels): ModuleList(\n",
       "        (0): RBFKernel(\n",
       "          (raw_lengthscale_constraint): Positive()\n",
       "          (distance_module): Distance()\n",
       "        )\n",
       "        (1): LinearKernel(\n",
       "          (raw_variance_constraint): Positive()\n",
       "        )\n",
       "      )\n",
       "    )\n",
       "  )\n",
       ")"
      ]
     },
     "execution_count": 84,
     "metadata": {},
     "output_type": "execute_result"
    }
   ],
   "source": [
    "model2"
   ]
  },
  {
   "cell_type": "code",
   "execution_count": 83,
   "id": "49433627",
   "metadata": {},
   "outputs": [
    {
     "data": {
      "text/plain": [
       "Text(0.5, 1.0, 'Observed Values (Likelihood)')"
      ]
     },
     "execution_count": 83,
     "metadata": {},
     "output_type": "execute_result"
    },
    {
     "data": {
      "image/png": "[encoded data removed]",
      "text/plain": [
       "<Figure size 576x216 with 2 Axes>"
      ]
     },
     "metadata": {
      "needs_background": "light"
     },
     "output_type": "display_data"
    }
   ],
   "source": [
    "# Set into eval mode\n",
    "model2.eval()\n",
    "likelihood2.eval()\n",
    "\n",
    "# Initialize plots\n",
    "f, (y1_ax, y2_ax) = plt.subplots(1, 2, figsize=(8, 3))\n",
    "\n",
    "# Make predictions\n",
    "with torch.no_grad(), gpytorch.settings.fast_pred_var():\n",
    "    test_x = torch.cat( (torch.linspace(0, 1, 51).reshape(-1,1), torch.linspace(0, 1, 51).reshape(-1,1)), dim = 1 )\n",
    "    predictions = likelihood2(model2(test_x))\n",
    "    mean = predictions.mean\n",
    "    lower, upper = predictions.confidence_region()\n",
    "\n",
    "# This contains predictions for both tasks, flattened out\n",
    "# The first half of the predictions is for the first task\n",
    "# The second half is for the second task\n",
    "\n",
    "# Plot training data as black stars\n",
    "y1_ax.plot(train_x2[:,0].detach().numpy(), train_y2[:, 0].detach().numpy(), 'k*')\n",
    "# Predictive mean as blue line\n",
    "y1_ax.plot(test_x[:,0].numpy(), mean[:, 0].numpy(), 'b')\n",
    "# Shade in confidence\n",
    "y1_ax.fill_between(test_x[:,0].numpy(), lower[:, 0].numpy(), upper[:, 0].numpy(), alpha=0.5)\n",
    "y1_ax.set_ylim([-3, 3])\n",
    "y1_ax.legend(['Observed Data', 'Mean', 'Confidence'])\n",
    "y1_ax.set_title('Observed Values (Likelihood)')\n",
    "\n",
    "# Plot training data as black stars\n",
    "y2_ax.plot(train_x2[:,1].detach().numpy(), train_y2[:, 1].detach().numpy(), 'k*')\n",
    "# Predictive mean as blue line\n",
    "y2_ax.plot(test_x[:,1].numpy(), mean[:, 1].numpy(), 'b')\n",
    "# Shade in confidence\n",
    "y2_ax.fill_between(test_x[:,1].numpy(), lower[:, 1].numpy(), upper[:, 1].numpy(), alpha=0.5)\n",
    "y2_ax.set_ylim([-3, 3])\n",
    "y2_ax.legend(['Observed Data', 'Mean', 'Confidence'])\n",
    "y2_ax.set_title('Observed Values (Likelihood)')\n",
    "\n",
    "# None"
   ]
  },
  {
   "cell_type": "code",
   "execution_count": 37,
   "id": "e99d3e9b",
   "metadata": {},
   "outputs": [],
   "source": [
    "xx2 = torch.tensor([[0, 0]], dtype=torch.float, requires_grad=True)\n",
    "yy2 = model2(xx2)"
   ]
  },
  {
   "cell_type": "code",
   "execution_count": 42,
   "id": "ef38a267",
   "metadata": {},
   "outputs": [],
   "source": [
    "yy2.mean.sum().backward(retain_graph=True)"
   ]
  },
  {
   "cell_type": "code",
   "execution_count": 54,
   "id": "7d4e89c7",
   "metadata": {},
   "outputs": [
    {
     "data": {
      "text/plain": [
       "tensor([[-4.7599, -4.7599]])"
      ]
     },
     "execution_count": 54,
     "metadata": {},
     "output_type": "execute_result"
    }
   ],
   "source": [
    "xx2.grad"
   ]
  },
  {
   "cell_type": "code",
   "execution_count": 44,
   "id": "37e7d989",
   "metadata": {},
   "outputs": [],
   "source": [
    "yy22 = torch.cos(yy2.mean.sum())"
   ]
  },
  {
   "cell_type": "code",
   "execution_count": 53,
   "id": "e60d589b",
   "metadata": {},
   "outputs": [],
   "source": [
    "yy22.backward(retain_graph=True)"
   ]
  },
  {
   "cell_type": "code",
   "execution_count": 71,
   "id": "e16a93e3",
   "metadata": {},
   "outputs": [],
   "source": [
    "yy2.covariance_matrix.sum().backward(retain_graph=True)"
   ]
  },
  {
   "cell_type": "code",
   "execution_count": 72,
   "id": "774fd38e",
   "metadata": {},
   "outputs": [
    {
     "data": {
      "text/plain": [
       "tensor([[-6.1155, -6.1155]])"
      ]
     },
     "execution_count": 72,
     "metadata": {},
     "output_type": "execute_result"
    }
   ],
   "source": [
    "xx2.grad"
   ]
  },
  {
   "cell_type": "markdown",
   "id": "964193ea",
   "metadata": {},
   "source": [
    "## Gp with derivative"
   ]
  },
  {
   "cell_type": "code",
   "execution_count": 59,
   "id": "be9a42d0",
   "metadata": {},
   "outputs": [],
   "source": [
    "lb, ub = 0.0, 5*math.pi\n",
    "n = 50\n",
    "\n",
    "train_x3 = torch.cat( ( torch.linspace(lb, ub, n).reshape(-1,1), torch.linspace(lb, ub, n).reshape(-1,1) ), dim=1   )\n",
    "train_y3 = torch.cat( (\n",
    "    torch.sin(2*( train_x3[:,0].reshape(-1,1) + train_x3[:,1].reshape(-1,1) ) ) + torch.cos(( train_x3[:,0].reshape(-1,1) + train_x3[:,1].reshape(-1,1) )), \n",
    "    -torch.sin(( train_x3[:,0].reshape(-1,1) + train_x3[:,1].reshape(-1,1) )) + 2*torch.cos(2*( train_x3[:,0].reshape(-1,1) + train_x3[:,1].reshape(-1,1) ))\n",
    "), dim=1)\n",
    "\n",
    "train_y3 += 0.05 * torch.randn(n, 2)"
   ]
  },
  {
   "cell_type": "code",
   "execution_count": 62,
   "id": "98c21db4",
   "metadata": {},
   "outputs": [],
   "source": [
    "class GPModelWithDerivatives(gpytorch.models.ExactGP):\n",
    "    def __init__(self, train_x, train_y, likelihood):\n",
    "        super(GPModelWithDerivatives, self).__init__(train_x, train_y, likelihood)\n",
    "        self.mean_module = gpytorch.means.ConstantMeanGrad()\n",
    "        self.base_kernel = gpytorch.kernels.RBFKernelGrad()\n",
    "        self.covar_module = gpytorch.kernels.ScaleKernel(self.base_kernel)\n",
    "\n",
    "    def forward(self, x):\n",
    "        mean_x = self.mean_module(x)\n",
    "        covar_x = self.covar_module(x)\n",
    "        return gpytorch.distributions.MultitaskMultivariateNormal(mean_x, covar_x)\n",
    "\n",
    "likelihood3 = gpytorch.likelihoods.MultitaskGaussianLikelihood(num_tasks=2)  # Value + Derivative\n",
    "likelihood3.initialize(noise=0.01*train_y3.std())  # Require 1% noise (approximately)\n",
    "likelihood3.raw_noise.requires_grad = False\n",
    "model3 = GPModelWithDerivatives(train_x3, train_y3, likelihood3)"
   ]
  },
  {
   "cell_type": "code",
   "execution_count": 63,
   "id": "e1a66c4f",
   "metadata": {},
   "outputs": [
    {
     "ename": "RuntimeError",
     "evalue": "Shapes are not broadcastable for mul operation",
     "output_type": "error",
     "traceback": [
      "\u001b[0;31m---------------------------------------------------------------------------\u001b[0m",
      "\u001b[0;31mRuntimeError\u001b[0m                              Traceback (most recent call last)",
      "Input \u001b[0;32mIn [63]\u001b[0m, in \u001b[0;36m<cell line: 14>\u001b[0;34m()\u001b[0m\n\u001b[1;32m     15\u001b[0m optimizer3\u001b[38;5;241m.\u001b[39mzero_grad()\n\u001b[1;32m     16\u001b[0m output3 \u001b[38;5;241m=\u001b[39m model3(train_x3)\n\u001b[0;32m---> 17\u001b[0m loss3 \u001b[38;5;241m=\u001b[39m \u001b[38;5;241m-\u001b[39m\u001b[43mmll3\u001b[49m\u001b[43m(\u001b[49m\u001b[43moutput3\u001b[49m\u001b[43m,\u001b[49m\u001b[43m \u001b[49m\u001b[43mtrain_y3\u001b[49m\u001b[43m)\u001b[49m\n\u001b[1;32m     18\u001b[0m loss3\u001b[38;5;241m.\u001b[39mbackward()\n\u001b[1;32m     19\u001b[0m \u001b[38;5;28mprint\u001b[39m(\u001b[38;5;124m'\u001b[39m\u001b[38;5;124mIter \u001b[39m\u001b[38;5;132;01m%d\u001b[39;00m\u001b[38;5;124m/\u001b[39m\u001b[38;5;132;01m%d\u001b[39;00m\u001b[38;5;124m - Loss: \u001b[39m\u001b[38;5;132;01m%.3f\u001b[39;00m\u001b[38;5;124m   lengthscale: \u001b[39m\u001b[38;5;132;01m%.3f\u001b[39;00m\u001b[38;5;124m   noise: \u001b[39m\u001b[38;5;132;01m%.3f\u001b[39;00m\u001b[38;5;124m'\u001b[39m \u001b[38;5;241m%\u001b[39m (\n\u001b[1;32m     20\u001b[0m     i \u001b[38;5;241m+\u001b[39m \u001b[38;5;241m1\u001b[39m, n_iter, loss3\u001b[38;5;241m.\u001b[39mitem(),\n\u001b[1;32m     21\u001b[0m     model3\u001b[38;5;241m.\u001b[39mcovar_module\u001b[38;5;241m.\u001b[39mbase_kernel\u001b[38;5;241m.\u001b[39mlengthscale\u001b[38;5;241m.\u001b[39mitem(),\n\u001b[1;32m     22\u001b[0m     model3\u001b[38;5;241m.\u001b[39mlikelihood\u001b[38;5;241m.\u001b[39mnoise\u001b[38;5;241m.\u001b[39mitem()\n\u001b[1;32m     23\u001b[0m ))        \n",
      "File \u001b[0;32m~/Desktop/Research/Adversary-CBF/venv/lib/python3.8/site-packages/gpytorch/module.py:30\u001b[0m, in \u001b[0;36mModule.__call__\u001b[0;34m(self, *inputs, **kwargs)\u001b[0m\n\u001b[1;32m     29\u001b[0m \u001b[38;5;28;01mdef\u001b[39;00m \u001b[38;5;21m__call__\u001b[39m(\u001b[38;5;28mself\u001b[39m, \u001b[38;5;241m*\u001b[39minputs, \u001b[38;5;241m*\u001b[39m\u001b[38;5;241m*\u001b[39mkwargs):\n\u001b[0;32m---> 30\u001b[0m     outputs \u001b[38;5;241m=\u001b[39m \u001b[38;5;28;43mself\u001b[39;49m\u001b[38;5;241;43m.\u001b[39;49m\u001b[43mforward\u001b[49m\u001b[43m(\u001b[49m\u001b[38;5;241;43m*\u001b[39;49m\u001b[43minputs\u001b[49m\u001b[43m,\u001b[49m\u001b[43m \u001b[49m\u001b[38;5;241;43m*\u001b[39;49m\u001b[38;5;241;43m*\u001b[39;49m\u001b[43mkwargs\u001b[49m\u001b[43m)\u001b[49m\n\u001b[1;32m     31\u001b[0m     \u001b[38;5;28;01mif\u001b[39;00m \u001b[38;5;28misinstance\u001b[39m(outputs, \u001b[38;5;28mlist\u001b[39m):\n\u001b[1;32m     32\u001b[0m         \u001b[38;5;28;01mreturn\u001b[39;00m [_validate_module_outputs(output) \u001b[38;5;28;01mfor\u001b[39;00m output \u001b[38;5;129;01min\u001b[39;00m outputs]\n",
      "File \u001b[0;32m~/Desktop/Research/Adversary-CBF/venv/lib/python3.8/site-packages/gpytorch/mlls/exact_marginal_log_likelihood.py:63\u001b[0m, in \u001b[0;36mExactMarginalLogLikelihood.forward\u001b[0;34m(self, function_dist, target, *params)\u001b[0m\n\u001b[1;32m     60\u001b[0m     \u001b[38;5;28;01mraise\u001b[39;00m \u001b[38;5;167;01mRuntimeError\u001b[39;00m(\u001b[38;5;124m\"\u001b[39m\u001b[38;5;124mExactMarginalLogLikelihood can only operate on Gaussian random variables\u001b[39m\u001b[38;5;124m\"\u001b[39m)\n\u001b[1;32m     62\u001b[0m \u001b[38;5;66;03m# Get the log prob of the marginal distribution\u001b[39;00m\n\u001b[0;32m---> 63\u001b[0m output \u001b[38;5;241m=\u001b[39m \u001b[38;5;28;43mself\u001b[39;49m\u001b[38;5;241;43m.\u001b[39;49m\u001b[43mlikelihood\u001b[49m\u001b[43m(\u001b[49m\u001b[43mfunction_dist\u001b[49m\u001b[43m,\u001b[49m\u001b[43m \u001b[49m\u001b[38;5;241;43m*\u001b[39;49m\u001b[43mparams\u001b[49m\u001b[43m)\u001b[49m\n\u001b[1;32m     64\u001b[0m res \u001b[38;5;241m=\u001b[39m output\u001b[38;5;241m.\u001b[39mlog_prob(target)\n\u001b[1;32m     65\u001b[0m res \u001b[38;5;241m=\u001b[39m \u001b[38;5;28mself\u001b[39m\u001b[38;5;241m.\u001b[39m_add_other_terms(res, params)\n",
      "File \u001b[0;32m~/Desktop/Research/Adversary-CBF/venv/lib/python3.8/site-packages/gpytorch/likelihoods/likelihood.py:65\u001b[0m, in \u001b[0;36m_Likelihood.__call__\u001b[0;34m(self, input, *args, **kwargs)\u001b[0m\n\u001b[1;32m     63\u001b[0m \u001b[38;5;66;03m# Marginal\u001b[39;00m\n\u001b[1;32m     64\u001b[0m \u001b[38;5;28;01melif\u001b[39;00m \u001b[38;5;28misinstance\u001b[39m(\u001b[38;5;28minput\u001b[39m, MultivariateNormal):\n\u001b[0;32m---> 65\u001b[0m     \u001b[38;5;28;01mreturn\u001b[39;00m \u001b[38;5;28;43mself\u001b[39;49m\u001b[38;5;241;43m.\u001b[39;49m\u001b[43mmarginal\u001b[49m\u001b[43m(\u001b[49m\u001b[38;5;28;43minput\u001b[39;49m\u001b[43m,\u001b[49m\u001b[43m \u001b[49m\u001b[38;5;241;43m*\u001b[39;49m\u001b[43margs\u001b[49m\u001b[43m,\u001b[49m\u001b[43m \u001b[49m\u001b[38;5;241;43m*\u001b[39;49m\u001b[38;5;241;43m*\u001b[39;49m\u001b[43mkwargs\u001b[49m\u001b[43m)\u001b[49m\n\u001b[1;32m     66\u001b[0m \u001b[38;5;66;03m# Error\u001b[39;00m\n\u001b[1;32m     67\u001b[0m \u001b[38;5;28;01melse\u001b[39;00m:\n\u001b[1;32m     68\u001b[0m     \u001b[38;5;28;01mraise\u001b[39;00m \u001b[38;5;167;01mRuntimeError\u001b[39;00m(\n\u001b[1;32m     69\u001b[0m         \u001b[38;5;124m\"\u001b[39m\u001b[38;5;124mLikelihoods expects a MultivariateNormal input to make marginal predictions, or a \u001b[39m\u001b[38;5;124m\"\u001b[39m\n\u001b[1;32m     70\u001b[0m         \u001b[38;5;124m\"\u001b[39m\u001b[38;5;124mtorch.Tensor for conditional predictions. Got a \u001b[39m\u001b[38;5;132;01m{}\u001b[39;00m\u001b[38;5;124m\"\u001b[39m\u001b[38;5;241m.\u001b[39mformat(\u001b[38;5;28minput\u001b[39m\u001b[38;5;241m.\u001b[39m\u001b[38;5;18m__class__\u001b[39m\u001b[38;5;241m.\u001b[39m\u001b[38;5;18m__name__\u001b[39m)\n\u001b[1;32m     71\u001b[0m     )\n",
      "File \u001b[0;32m~/Desktop/Research/Adversary-CBF/venv/lib/python3.8/site-packages/gpytorch/likelihoods/multitask_gaussian_likelihood.py:97\u001b[0m, in \u001b[0;36m_MultitaskGaussianLikelihoodBase.marginal\u001b[0;34m(self, function_dist, *params, **kwargs)\u001b[0m\n\u001b[1;32m     94\u001b[0m     covar \u001b[38;5;241m=\u001b[39m covar\u001b[38;5;241m.\u001b[39mevaluate_kernel()\n\u001b[1;32m     96\u001b[0m covar_kron_lt \u001b[38;5;241m=\u001b[39m \u001b[38;5;28mself\u001b[39m\u001b[38;5;241m.\u001b[39m_shaped_noise_covar(mean\u001b[38;5;241m.\u001b[39mshape, add_noise\u001b[38;5;241m=\u001b[39m\u001b[38;5;28mself\u001b[39m\u001b[38;5;241m.\u001b[39mhas_global_noise)\n\u001b[0;32m---> 97\u001b[0m covar \u001b[38;5;241m=\u001b[39m \u001b[43mcovar\u001b[49m\u001b[43m \u001b[49m\u001b[38;5;241;43m+\u001b[39;49m\u001b[43m \u001b[49m\u001b[43mcovar_kron_lt\u001b[49m\n\u001b[1;32m     99\u001b[0m \u001b[38;5;28;01mreturn\u001b[39;00m function_dist\u001b[38;5;241m.\u001b[39m\u001b[38;5;18m__class__\u001b[39m(mean, covar)\n",
      "File \u001b[0;32m~/Desktop/Research/Adversary-CBF/venv/lib/python3.8/site-packages/gpytorch/lazy/non_lazy_tensor.py:81\u001b[0m, in \u001b[0;36mNonLazyTensor.__add__\u001b[0;34m(self, other)\u001b[0m\n\u001b[1;32m     79\u001b[0m     \u001b[38;5;28;01mreturn\u001b[39;00m NonLazyTensor(\u001b[38;5;28mself\u001b[39m\u001b[38;5;241m.\u001b[39mtensor \u001b[38;5;241m+\u001b[39m other)\n\u001b[1;32m     80\u001b[0m \u001b[38;5;28;01melse\u001b[39;00m:\n\u001b[0;32m---> 81\u001b[0m     \u001b[38;5;28;01mreturn\u001b[39;00m \u001b[38;5;28;43msuper\u001b[39;49m\u001b[43m(\u001b[49m\u001b[43mNonLazyTensor\u001b[49m\u001b[43m,\u001b[49m\u001b[43m \u001b[49m\u001b[38;5;28;43mself\u001b[39;49m\u001b[43m)\u001b[49m\u001b[38;5;241;43m.\u001b[39;49m\u001b[38;5;21;43m__add__\u001b[39;49m\u001b[43m(\u001b[49m\u001b[43mother\u001b[49m\u001b[43m)\u001b[49m\n",
      "File \u001b[0;32m~/Desktop/Research/Adversary-CBF/venv/lib/python3.8/site-packages/gpytorch/lazy/lazy_tensor.py:2167\u001b[0m, in \u001b[0;36mLazyTensor.__add__\u001b[0;34m(self, other)\u001b[0m\n\u001b[1;32m   2165\u001b[0m     \u001b[38;5;28;01mreturn\u001b[39;00m \u001b[38;5;28mself\u001b[39m\n\u001b[1;32m   2166\u001b[0m \u001b[38;5;28;01melif\u001b[39;00m \u001b[38;5;28misinstance\u001b[39m(other, DiagLazyTensor):\n\u001b[0;32m-> 2167\u001b[0m     \u001b[38;5;28;01mreturn\u001b[39;00m \u001b[43mAddedDiagLazyTensor\u001b[49m\u001b[43m(\u001b[49m\u001b[38;5;28;43mself\u001b[39;49m\u001b[43m,\u001b[49m\u001b[43m \u001b[49m\u001b[43mother\u001b[49m\u001b[43m)\u001b[49m\n\u001b[1;32m   2168\u001b[0m \u001b[38;5;28;01melif\u001b[39;00m \u001b[38;5;28misinstance\u001b[39m(other, RootLazyTensor):\n\u001b[1;32m   2169\u001b[0m     \u001b[38;5;28;01mreturn\u001b[39;00m \u001b[38;5;28mself\u001b[39m\u001b[38;5;241m.\u001b[39madd_low_rank(other\u001b[38;5;241m.\u001b[39mroot)\n",
      "File \u001b[0;32m~/Desktop/Research/Adversary-CBF/venv/lib/python3.8/site-packages/gpytorch/lazy/added_diag_lazy_tensor.py:32\u001b[0m, in \u001b[0;36mAddedDiagLazyTensor.__init__\u001b[0;34m(self, preconditioner_override, *lazy_tensors)\u001b[0m\n\u001b[1;32m     29\u001b[0m \u001b[38;5;28;01mif\u001b[39;00m \u001b[38;5;28mlen\u001b[39m(lazy_tensors) \u001b[38;5;241m>\u001b[39m \u001b[38;5;241m2\u001b[39m:\n\u001b[1;32m     30\u001b[0m     \u001b[38;5;28;01mraise\u001b[39;00m \u001b[38;5;167;01mRuntimeError\u001b[39;00m(\u001b[38;5;124m\"\u001b[39m\u001b[38;5;124mAn AddedDiagLazyTensor can only have two components\u001b[39m\u001b[38;5;124m\"\u001b[39m)\n\u001b[0;32m---> 32\u001b[0m \u001b[43mbroadcasting\u001b[49m\u001b[38;5;241;43m.\u001b[39;49m\u001b[43m_mul_broadcast_shape\u001b[49m\u001b[43m(\u001b[49m\u001b[43mlazy_tensors\u001b[49m\u001b[43m[\u001b[49m\u001b[38;5;241;43m0\u001b[39;49m\u001b[43m]\u001b[49m\u001b[38;5;241;43m.\u001b[39;49m\u001b[43mshape\u001b[49m\u001b[43m,\u001b[49m\u001b[43m \u001b[49m\u001b[43mlazy_tensors\u001b[49m\u001b[43m[\u001b[49m\u001b[38;5;241;43m1\u001b[39;49m\u001b[43m]\u001b[49m\u001b[38;5;241;43m.\u001b[39;49m\u001b[43mshape\u001b[49m\u001b[43m)\u001b[49m\n\u001b[1;32m     34\u001b[0m \u001b[38;5;28;01mif\u001b[39;00m \u001b[38;5;28misinstance\u001b[39m(lazy_tensors[\u001b[38;5;241m0\u001b[39m], DiagLazyTensor) \u001b[38;5;129;01mand\u001b[39;00m \u001b[38;5;28misinstance\u001b[39m(lazy_tensors[\u001b[38;5;241m1\u001b[39m], DiagLazyTensor):\n\u001b[1;32m     35\u001b[0m     \u001b[38;5;28;01mraise\u001b[39;00m \u001b[38;5;167;01mRuntimeError\u001b[39;00m(\u001b[38;5;124m\"\u001b[39m\u001b[38;5;124mTrying to lazily add two DiagLazyTensors. Create a single DiagLazyTensor instead.\u001b[39m\u001b[38;5;124m\"\u001b[39m)\n",
      "File \u001b[0;32m~/Desktop/Research/Adversary-CBF/venv/lib/python3.8/site-packages/gpytorch/utils/broadcasting.py:20\u001b[0m, in \u001b[0;36m_mul_broadcast_shape\u001b[0;34m(error_msg, *shapes)\u001b[0m\n\u001b[1;32m     18\u001b[0m \u001b[38;5;28;01mif\u001b[39;00m \u001b[38;5;28many\u001b[39m(size \u001b[38;5;241m!=\u001b[39m non_singleton_sizes[\u001b[38;5;241m0\u001b[39m] \u001b[38;5;28;01mfor\u001b[39;00m size \u001b[38;5;129;01min\u001b[39;00m non_singleton_sizes):\n\u001b[1;32m     19\u001b[0m     \u001b[38;5;28;01mif\u001b[39;00m error_msg \u001b[38;5;129;01mis\u001b[39;00m \u001b[38;5;28;01mNone\u001b[39;00m:\n\u001b[0;32m---> 20\u001b[0m         \u001b[38;5;28;01mraise\u001b[39;00m \u001b[38;5;167;01mRuntimeError\u001b[39;00m(\u001b[38;5;124m\"\u001b[39m\u001b[38;5;124mShapes are not broadcastable for mul operation\u001b[39m\u001b[38;5;124m\"\u001b[39m)\n\u001b[1;32m     21\u001b[0m     \u001b[38;5;28;01melse\u001b[39;00m:\n\u001b[1;32m     22\u001b[0m         \u001b[38;5;28;01mraise\u001b[39;00m \u001b[38;5;167;01mRuntimeError\u001b[39;00m(error_msg)\n",
      "\u001b[0;31mRuntimeError\u001b[0m: Shapes are not broadcastable for mul operation"
     ]
    }
   ],
   "source": [
    "# Find optimal model hyperparameters\n",
    "model3.train()\n",
    "likelihood3.train()\n",
    "\n",
    "# Use the adam optimizer\n",
    "optimizer3 = torch.optim.Adam([\n",
    "    {'params': model3.parameters()},  # Includes GaussianLikelihood parameters\n",
    "], lr=0.1)\n",
    "\n",
    "# \"Loss\" for GPs - the marginal log likelihood\n",
    "mll3 = gpytorch.mlls.ExactMarginalLogLikelihood(likelihood3, model3)\n",
    "\n",
    "n_iter = 50\n",
    "for i in range(n_iter):\n",
    "    optimizer3.zero_grad()\n",
    "    output3 = model3(train_x3)\n",
    "    loss3 = -mll3(output3, train_y3)\n",
    "    loss3.backward()\n",
    "    print('Iter %d/%d - Loss: %.3f   lengthscale: %.3f   noise: %.3f' % (\n",
    "        i + 1, n_iter, loss3.item(),\n",
    "        model3.covar_module.base_kernel.lengthscale.item(),\n",
    "        model3.likelihood.noise.item()\n",
    "    ))        \n",
    "    optimizer3.step()"
   ]
  },
  {
   "cell_type": "code",
   "execution_count": null,
   "id": "97e85a7a",
   "metadata": {},
   "outputs": [],
   "source": []
  }
 ],
 "metadata": {
  "kernelspec": {
   "display_name": "Python 3 (ipykernel)",
   "language": "python",
   "name": "python3"
  },
  "language_info": {
   "codemirror_mode": {
    "name": "ipython",
    "version": 3
   },
   "file_extension": ".py",
   "mimetype": "text/x-python",
   "name": "python",
   "nbconvert_exporter": "python",
   "pygments_lexer": "ipython3",
   "version": "3.8.10"
  }
 },
 "nbformat": 4,
 "nbformat_minor": 5
}
