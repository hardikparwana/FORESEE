{
  "nbformat": 4,
  "nbformat_minor": 0,
  "metadata": {
    "kernelspec": {
      "display_name": "Python [conda env:.conda-jax_py38]",
      "language": "python",
      "name": "conda-env-.conda-jax_py38-py"
    },
    "language_info": {
      "codemirror_mode": {
        "name": "ipython",
        "version": 3
      },
      "file_extension": ".py",
      "mimetype": "text/x-python",
      "name": "python",
      "nbconvert_exporter": "python",
      "pygments_lexer": "ipython3",
      "version": "3.8.2"
    },
    "colab": {
      "provenance": [],
      "collapsed_sections": [
        "h-FweLPd0J7R",
        "KidS4o9M0J7d",
        "_LEL8fX-9dLE",
        "InY2-uwi-XmK",
        "fpSGpToHCW0X",
        "dElgEcbKCf6S"
      ]
    }
  },
  "cells": [
    {
      "cell_type": "markdown",
      "metadata": {
        "id": "T2WwNWRd0J4t"
      },
      "source": [
        "# Gaussian Process Regression\n",
        "\n",
        "This notebook, I will go over how we can implement the Gaussian process (GP) regression algorithm using Jax. This isn't a new algorithm or anything but I would like to get accustomed to using Jax because it will be useful later when I implement the GPs to handle uncertain inputs.\n",
        "\n",
        "**Inspirations**\n",
        "\n",
        "* [Github Code](https://github.com/lucasrm25/Structured-Learning-for-Robot-Control/blob/master/GP/jaxGP.py) - [Lucas](https://www.linkedin.com/in/lucas-rath/?originalSubdomain=bo)\n",
        "> Broke down the GP function very nicely. Nice enough for me to follow.\n",
        "* [Scikit-Learn](https://github.com/scikit-learn/scikit-learn/blob/95d4f0841/sklearn/gaussian_process/_gpr.py#L22)\n",
        "> Good thorough implementation. Does a lot of nice tricks to optimize the code. They don't use automatic differentiation\n",
        "* [Jax Example](https://github.com/google/jax/blob/master/examples/gaussian_process_regression.py)\n",
        "> A nice concise implementation that actually works with Jax. It gave me hope when I was coding mine up and consistently failing...\n",
        "* [Numpyro Implementation](http://pyro.ai/numpyro/examples/gp.html)\n",
        "> Uses MCMC instead of the traditional likelihood. This will be my next project."
      ]
    },
    {
      "cell_type": "markdown",
      "metadata": {
        "id": "xB2C9Oj70J4w"
      },
      "source": [
        "## Imports"
      ]
    },
    {
      "cell_type": "code",
      "metadata": {
        "id": "OgiBXMlu0J4z"
      },
      "source": [
        "import functools\n",
        "\n",
        "import jax\n",
        "import jax.numpy as jnp\n",
        "from jax.experimental import optimizers\n",
        "import numpy as np\n",
        "import numpy as onp\n",
        "\n",
        "import logging\n",
        "logger = logging.getLogger()\n",
        "logger.setLevel(logging.DEBUG)\n",
        "\n",
        "\n",
        "# Plotting libraries\n",
        "import matplotlib.pyplot as plt\n",
        "plt.style.use(['seaborn-paper'])"
      ],
      "execution_count": null,
      "outputs": []
    },
    {
      "cell_type": "markdown",
      "metadata": {
        "id": "CxZXeHIg0J5E"
      },
      "source": [
        "## Data"
      ]
    },
    {
      "cell_type": "code",
      "metadata": {
        "id": "T6I8MGzz0J5G"
      },
      "source": [
        "def get_data(N=30, sigma_obs=0.15, N_test=400):\n",
        "    onp.random.seed(0)\n",
        "    X = jnp.linspace(-1, 1, N)\n",
        "    Y = X + 0.2 * jnp.power(X, 3.0) + 0.5 * jnp.power(0.5 + X, 2.0) * jnp.sin(4.0 * X)\n",
        "    Y += sigma_obs * onp.random.randn(N)\n",
        "    Y -= jnp.mean(Y)\n",
        "    Y /= jnp.std(Y)\n",
        "\n",
        "    assert X.shape == (N,)\n",
        "    assert Y.shape == (N,)\n",
        "\n",
        "    X_test = jnp.linspace(-1.2, 1.2, N_test)\n",
        "\n",
        "    return X[:, None], Y[:, None], X_test[:, None], None"
      ],
      "execution_count": null,
      "outputs": []
    },
    {
      "cell_type": "code",
      "metadata": {
        "id": "hu06MGQc0J5P",
        "outputId": "3786149e-75b5-4f82-9929-e32a7a4c08e9",
        "colab": {
          "base_uri": "https://localhost:8080/",
          "height": 320
        }
      },
      "source": [
        "logger.setLevel(logging.INFO)\n",
        "X, y, Xtest, ytest = get_data()\n",
        "\n",
        "fig, ax = plt.subplots()\n",
        "ax.scatter(X, y, c='red')\n",
        "plt.show()"
      ],
      "execution_count": null,
      "outputs": [
        {
          "output_type": "stream",
          "text": [
            "/usr/local/lib/python3.6/dist-packages/jax/lib/xla_bridge.py:123: UserWarning: No GPU/TPU found, falling back to CPU.\n",
            "  warnings.warn('No GPU/TPU found, falling back to CPU.')\n"
          ],
          "name": "stderr"
        },
        {
          "output_type": "stream",
          "text": [
            "(30, 1) (30, 1)\n"
          ],
          "name": "stdout"
        },
        {
          "output_type": "display_data",
          "data": {
            "image/png": "[encoded data removed]",
            "text/plain": [
              "<Figure size 432x288 with 1 Axes>"
            ]
          },
          "metadata": {
            "tags": [],
            "needs_background": "light"
          }
        }
      ]
    },
    {
      "cell_type": "markdown",
      "metadata": {
        "id": "UTkLOU-d0J5Z"
      },
      "source": [
        "## Gaussian Process"
      ]
    },
    {
      "cell_type": "markdown",
      "metadata": {
        "id": "MVbD-pXV0J5c"
      },
      "source": [
        "## Model: GP Prior\n",
        "\n",
        "**Parameters**:\n",
        "\n",
        "* X, Y, $\\theta= $ (Likelihood Parameters, Kernel Parameters)\n",
        "\n",
        "1. Compute the Kernel Matrix\n",
        "2. Compute the Mean function\n",
        "3. Sample from the Multivariate Normal Distribution"
      ]
    },
    {
      "cell_type": "markdown",
      "metadata": {
        "id": "VwmIWasV0J5e"
      },
      "source": [
        "### Kernel Function\n",
        "\n",
        "$$k(x,y) = \\sigma_f \\exp \\left( - \\frac{1}{2\\sigma_\\lambda^2}|| x - y||^2_2 \\right)$$"
      ]
    },
    {
      "cell_type": "code",
      "metadata": {
        "id": "WCJDVYIu0J5f"
      },
      "source": [
        "# Squared Euclidean Distance Formula\n",
        "@jax.jit\n",
        "def sqeuclidean_distance(x: jnp.array, y: jnp.array) -> float:\n",
        "    return jnp.sum((x-y)**2)\n",
        "\n",
        "# RBF Kernel\n",
        "@jax.jit\n",
        "def rbf_kernel(params, x, y):\n",
        "    return jnp.exp( - params['gamma'] * sqeuclidean_distance(x, y))\n",
        "\n",
        "# ARD Kernel\n",
        "@jax.jit\n",
        "def ard_kernel(params, x, y):\n",
        "    \n",
        "    # divide by the length scale\n",
        "    x = x / params['length_scale']\n",
        "    y = y / params['length_scale']\n",
        "    \n",
        "    # return the ard kernel\n",
        "    return params['var_f'] * jnp.exp( - sqeuclidean_distance(x, y) )"
      ],
      "execution_count": null,
      "outputs": []
    },
    {
      "cell_type": "markdown",
      "metadata": {
        "id": "78AGuoZ00J5x"
      },
      "source": [
        "### Kernel Matrix"
      ]
    },
    {
      "cell_type": "code",
      "metadata": {
        "id": "zvgdjwhF0J5x"
      },
      "source": [
        "# Gram Matrix\n",
        "def gram(func, params, x, y):\n",
        "    return jax.vmap(lambda x1: jax.vmap(lambda y1: func(params, x1, y1))(y))(x)"
      ],
      "execution_count": null,
      "outputs": []
    },
    {
      "cell_type": "code",
      "metadata": {
        "id": "U7Ws-sWa0J53",
        "outputId": "0270f0e7-6805-4936-8a8b-779db160a0ca",
        "colab": {
          "base_uri": "https://localhost:8080/",
          "height": 53
        }
      },
      "source": [
        "params = {\n",
        "    'gamma': 1.0,\n",
        "    # 'var_f': 1.0,\n",
        "    'likelihood_noise': 0.01,\n",
        "}\n",
        "# input vector\n",
        "# x_plot = jnp.linspace(X.min(), X.max(), 100)[:, None]\n",
        "# test_X = x_plot[0, :]\n",
        "\n",
        "\n",
        "cov_f = functools.partial(gram, rbf_kernel)\n",
        "K_ = cov_f(params, Xtest, X)\n",
        "print(K_.shape)\n",
        "\n",
        "K_ = cov_f(params, X, Xtest)\n",
        "print(K_.shape)"
      ],
      "execution_count": null,
      "outputs": [
        {
          "output_type": "stream",
          "text": [
            "(400, 30)\n",
            "(30, 400)\n"
          ],
          "name": "stdout"
        }
      ]
    },
    {
      "cell_type": "markdown",
      "metadata": {
        "id": "mzHiryWc0J58"
      },
      "source": [
        "### Mean Function\n",
        "\n",
        "Honestly, I never work with mean functions. I always assume a zero-mean function and that's it. I don't really know anyone who works with mean functions either. I've seen it used in deep Gaussian processes but I have no expertise in which mean functions to use. So, we'll follow the community standard for now: zero mean function"
      ]
    },
    {
      "cell_type": "code",
      "metadata": {
        "id": "VAHiT0KC0J5-"
      },
      "source": [
        "def zero_mean(x):\n",
        "    return jnp.zeros(x.shape[0])"
      ],
      "execution_count": null,
      "outputs": []
    },
    {
      "cell_type": "markdown",
      "metadata": {
        "id": "wticrmpe0J6D"
      },
      "source": [
        "### 3. Compute Model"
      ]
    },
    {
      "cell_type": "markdown",
      "metadata": {
        "id": "e2s2Gzsm0J6E"
      },
      "source": [
        "Now we have all of the components to make our GP prior function."
      ]
    },
    {
      "cell_type": "code",
      "metadata": {
        "id": "Ne0niDRT0J6G"
      },
      "source": [
        "def gp_prior(params, mu_f, cov_f, x):\n",
        "    return mu_f(x) , cov_f(params, x, x)"
      ],
      "execution_count": null,
      "outputs": []
    },
    {
      "cell_type": "markdown",
      "metadata": {
        "toc-hr-collapsed": true,
        "toc-nb-collapsed": true,
        "id": "_ODtz_VK0J6Z"
      },
      "source": [
        "#### Sampling from the GP Prior"
      ]
    },
    {
      "cell_type": "code",
      "metadata": {
        "id": "QCGb4P_50J60",
        "outputId": "3d52ea0b-ccbe-45d0-d4ae-20f875233e08",
        "colab": {
          "base_uri": "https://localhost:8080/",
          "height": 266
        }
      },
      "source": [
        "# checks - 1 vector (D)\n",
        "params = {\n",
        "    'gamma': 10., \n",
        "    'length_scale': 1e-3, \n",
        "}\n",
        "\n",
        "n_samples = 10                   # condition on 3 samples \n",
        "test_X = X[:n_samples, :].copy() # random samples from distribution\n",
        "\n",
        "mu_f = zero_mean\n",
        "cov_f = functools.partial(gram, rbf_kernel)\n",
        "mu_x, cov_x = gp_prior(params, mu_f=mu_f, cov_f=cov_f , x=test_X)\n",
        "\n",
        "# make it semi-positive definite with jitter\n",
        "jitter = 1e-6\n",
        "cov_x_ = cov_x + jitter * jnp.eye(cov_x.shape[0])\n",
        "\n",
        "\n",
        "n_functions = 10                # number of random functions to draw\n",
        "\n",
        "key = jax.random.PRNGKey(0)\n",
        "\n",
        "y_samples = jax.random.multivariate_normal(key, mu_x, cov_x_, shape=(n_functions,))\n",
        "\n",
        "# check\n",
        "assert y_samples.shape == (n_functions, n_samples)\n",
        "\n",
        "for isample in y_samples:\n",
        "    plt.plot(isample)"
      ],
      "execution_count": null,
      "outputs": [
        {
          "output_type": "display_data",
          "data": {
            "image/png": "[encoded data removed]",
            "text/plain": [
              "<Figure size 432x288 with 1 Axes>"
            ]
          },
          "metadata": {
            "tags": [],
            "needs_background": "light"
          }
        }
      ]
    },
    {
      "cell_type": "markdown",
      "metadata": {
        "id": "DlT-bNxCUnwm"
      },
      "source": [
        "**Note**:\n",
        "\n",
        "Sometimes I get a 'positive semi-definite error'. It's due to the diagonals being off. Normally we add something called jitter. This allows the matrix to be positive semi-definite. In this case we don't have that message. This is a small thing but it's super important and can lead to errors in the optimization if not addressed."
      ]
    },
    {
      "cell_type": "markdown",
      "metadata": {
        "id": "RwoOm2220J66"
      },
      "source": [
        "## 4. Posterior\n",
        "\n",
        "Conditioned on the observations, can we make predictions."
      ]
    },
    {
      "cell_type": "code",
      "metadata": {
        "id": "HeYnxuSj0J66"
      },
      "source": [
        "def gp_prior(params, mu_f, cov_f, x):\n",
        "    return mu_f(x) , cov_f(params, x, x)\n",
        "\n",
        "\n",
        "def cholesky_factorization(K, Y):\n",
        "\n",
        "    # cho factor the cholesky\n",
        "    L = jax.scipy.linalg.cho_factor(K, lower=True)\n",
        "\n",
        "    # weights\n",
        "    weights = jax.scipy.linalg.cho_solve(L, Y)\n",
        "\n",
        "    return L, weights\n",
        "\n",
        "jitter = 1e-6\n",
        "\n",
        "def posterior(params, prior_params, X, Y, X_new, likelihood_noise=False, return_cov=False):\n",
        "    (mu_func, cov_func) = prior_params\n",
        "\n",
        "    # ==========================\n",
        "    # 1. GP PRIOR\n",
        "    # ==========================\n",
        "    mu_x, Kxx = gp_prior(params, mu_f=mu_func, cov_f=cov_func, x=X)\n",
        "\n",
        "    # ===========================\n",
        "    # 2. CHOLESKY FACTORIZATION\n",
        "    # ===========================\n",
        "    logging.debug(f\"CHOL: Y: {Y.shape}, {mu_func(X).shape}\")\n",
        "    (L, lower), alpha = cholesky_factorization(\n",
        "        Kxx + (params[\"likelihood_noise\"] + 1e-7) * jnp.eye(Kxx.shape[0]), \n",
        "        Y-mu_func(X).reshape(-1,1)\n",
        "    )\n",
        "\n",
        "    # ================================\n",
        "    # 4. PREDICTIVE MEAN DISTRIBUTION\n",
        "    # ================================\n",
        "\n",
        "    # calculate transform kernel\n",
        "    KxX = cov_func(params, X_new, X)\n",
        "\n",
        "    # Calculate the Mean\n",
        "    mu_y = jnp.dot(KxX, alpha)\n",
        "\n",
        "    # =====================================\n",
        "    # 5. PREDICTIVE COVARIANCE DISTRIBUTION\n",
        "    # =====================================\n",
        "    v = jax.scipy.linalg.cho_solve((L, lower), KxX.T)\n",
        "    \n",
        "    # Calculate kernel matrix for inputs\n",
        "    Kxx = cov_func(params, X_new, X_new)\n",
        "    \n",
        "    cov_y = Kxx - jnp.dot(KxX, v)\n",
        "\n",
        "    # Likelihood Noise\n",
        "    if likelihood_noise is True:\n",
        "        cov_y += params['likelihood_noise']\n",
        "\n",
        "    # return variance (diagonals of covaraince)\n",
        "    if return_cov is not True:\n",
        "        cov_y = jnp.diag(cov_y)\n",
        "\n",
        "    return mu_y, cov_y"
      ],
      "execution_count": null,
      "outputs": []
    },
    {
      "cell_type": "code",
      "metadata": {
        "id": "pDTC7K5m0J69",
        "outputId": "0392d660-dcee-47be-8aff-cdc90f966685",
        "colab": {
          "base_uri": "https://localhost:8080/",
          "height": 88
        }
      },
      "source": [
        "logger.setLevel(logging.INFO)\n",
        "# MEAN FUNCTION\n",
        "mu_f = zero_mean\n",
        "\n",
        "# COVARIANCE FUNCTION\n",
        "params = {\n",
        "    'gamma': 1.0,\n",
        "    'var_f': 1.0,\n",
        "    'likelihood_noise': 0.1,\n",
        "}\n",
        "cov_f = functools.partial(gram, rbf_kernel)\n",
        "\n",
        "# SIMPLE SAMPLE\n",
        "# x_plot = jnp.linspace(X.min(), X.max(), 100)[:, None]\n",
        "test_X = X[0, :]\n",
        "\n",
        "prior_funcs = (mu_f, cov_f)\n",
        "\n",
        "logging.info(f\"Inputs, X: {X.shape}, Y:{y.shape}, X*={test_X.shape}\")\n",
        "\n",
        "mu_y, cov_y= posterior(params, prior_funcs, X, y, X_new=test_X)\n",
        "\n",
        "logging.info(f\"Inputs, mu_y: {mu_y.shape}, Cov:{cov_y.shape},\")\n",
        "\n",
        "# MULTIPLE SAMPLES\n",
        "test_X = X\n",
        "\n",
        "\n",
        "logging.info(f\"Inputs, X: {X.shape}, Y:{y.shape}, X*={test_X.shape}\")\n",
        "\n",
        "mu_y, var_y = posterior(params, prior_funcs, X, y, test_X, False, False)\n",
        "_, cov_y = posterior(params, prior_funcs, X, y, test_X, True, True)\n",
        "\n",
        "logging.info(f\"Outputs, mu_y: {mu_y.shape}, Cov: {cov_y.shape}, Var:{var_y.shape},\")\n",
        "\n",
        "\n",
        "onp.testing.assert_array_almost_equal(onp.array(jnp.diag(cov_y)), onp.array(var_y), decimal=1e-5)"
      ],
      "execution_count": null,
      "outputs": [
        {
          "output_type": "stream",
          "text": [
            "INFO:root:Inputs, X: (50, 1), Y:(50, 1), X*=(1,)\n",
            "INFO:root:Inputs, mu_y: (1, 1), Cov:(1,),\n",
            "INFO:root:Inputs, X: (50, 1), Y:(50, 1), X*=(50, 1)\n",
            "INFO:root:Outputs, mu_y: (50, 1), Cov: (50, 50), Var:(50,),\n"
          ],
          "name": "stderr"
        }
      ]
    },
    {
      "cell_type": "markdown",
      "metadata": {
        "id": "po2jBB_EPzWq"
      },
      "source": [
        "#### Supports Vmap\n",
        "\n",
        "**Note**: This will not work when trying to calculate the **Covariance Matrix**."
      ]
    },
    {
      "cell_type": "code",
      "metadata": {
        "id": "MM3yQPRA0vQl",
        "outputId": "418897fa-47a8-4b9d-c6f6-08360fd9c09f",
        "colab": {
          "base_uri": "https://localhost:8080/",
          "height": 35
        }
      },
      "source": [
        "logger.setLevel(logging.INFO)\n",
        "test_X = X\n",
        "\n",
        "mu_y, var_y = jax.vmap(posterior, in_axes=(None, None, None, None, 0, None, None), out_axes=(0,0))(params, prior_funcs, X, y, test_X, True, False)\n",
        "_, cov_y = jax.vmap(posterior, in_axes=(None, None, None, None, 0, None, None), out_axes=(0,0))(params, prior_funcs, X, y, test_X, True, True)\n",
        "logging.info(f\"Inputs, mu_y: {mu_y.shape}, var:{var_y.shape}, cov:{cov_y.shape},\")\n",
        "onp.testing.assert_array_almost_equal(onp.array(cov_y.squeeze()), onp.array(var_y.squeeze()), decimal=1e-5)"
      ],
      "execution_count": null,
      "outputs": [
        {
          "output_type": "stream",
          "text": [
            "INFO:root:Inputs, mu_y: (50, 1, 1), var:(50, 1), cov:(50, 1, 1),\n"
          ],
          "name": "stderr"
        }
      ]
    },
    {
      "cell_type": "markdown",
      "metadata": {
        "id": "qyI39F0faGtd"
      },
      "source": [
        "#### Plot Posterior"
      ]
    },
    {
      "cell_type": "code",
      "metadata": {
        "id": "27AOPqFz0J7M",
        "outputId": "1fe43adb-3086-4e23-a427-b959b1d399ce",
        "colab": {
          "base_uri": "https://localhost:8080/",
          "height": 284
        }
      },
      "source": [
        "mu_y, var_y = posterior(params, prior_funcs, X, y, test_X, True, False)\n",
        "\n",
        "uncertainty = 1.96 * jnp.sqrt(var_y.squeeze())\n",
        "\n",
        "plt.fill_between(test_X.squeeze(), mu_y.squeeze() + uncertainty, mu_y.squeeze() - uncertainty, alpha=0.1)\n",
        "plt.plot(test_X.squeeze(), mu_y.squeeze(), label='Mean')"
      ],
      "execution_count": null,
      "outputs": [
        {
          "output_type": "execute_result",
          "data": {
            "text/plain": [
              "[<matplotlib.lines.Line2D at 0x7fbd81258a58>]"
            ]
          },
          "metadata": {
            "tags": []
          },
          "execution_count": 57
        },
        {
          "output_type": "display_data",
          "data": {
            "image/png": "[encoded data removed]",
            "text/plain": [
              "<Figure size 432x288 with 1 Axes>"
            ]
          },
          "metadata": {
            "tags": [],
            "needs_background": "light"
          }
        }
      ]
    },
    {
      "cell_type": "markdown",
      "metadata": {
        "id": "B9Qgb0Wz0J7R"
      },
      "source": [
        "## 5. Loss - Log-Likelihood"
      ]
    },
    {
      "cell_type": "markdown",
      "metadata": {
        "id": "h-FweLPd0J7R"
      },
      "source": [
        "### From Scratch"
      ]
    },
    {
      "cell_type": "code",
      "metadata": {
        "id": "0Ql31DIq0J7T"
      },
      "source": [
        "\n",
        "# @jax.jit\n",
        "def cholesky_factorization(K, Y):\n",
        "    \n",
        "    # cho factor the cholesky \n",
        "    L = jax.scipy.linalg.cho_factor(K)\n",
        "\n",
        "    # weights\n",
        "    weights = jax.scipy.linalg.cho_solve(L, Y)\n",
        "    \n",
        "    return L, weights\n",
        "\n",
        "def nll_scratch(gp_priors, params, X, Y) -> float:\n",
        "    \n",
        "    (mu_func, cov_func) = gp_priors\n",
        "    \n",
        "    # ==========================\n",
        "    # 1. GP PRIOR\n",
        "    # ==========================\n",
        "    mu_x, Kxx = gp_prior(params, mu_f=mu_func, cov_f=cov_func , x=X)\n",
        "    \n",
        "    # ===========================\n",
        "    # 2. CHOLESKY FACTORIZATION\n",
        "    # ===========================    \n",
        "    (L, lower), alpha = cholesky_factorization(Kxx + ( params['likelihood_noise'] + 1e-5 ) * jnp.eye(Kxx.shape[0]), Y)\n",
        "\n",
        "    logging.debug(f\"Y: {Y.shape},alpha:{alpha.shape}\")\n",
        "    log_likelihood = -0.5 * jnp.einsum(\"ik,ik->k\", Y, alpha)\n",
        "    log_likelihood -= jnp.sum(jnp.log(jnp.diag(L)))\n",
        "    log_likelihood -= ( Kxx.shape[0] / 2 ) * jnp.log(2 * jnp.pi)\n",
        "\n",
        "    return - jnp.sum(log_likelihood)\n"
      ],
      "execution_count": null,
      "outputs": []
    },
    {
      "cell_type": "code",
      "metadata": {
        "id": "IIPEGEk00J7Z",
        "outputId": "ba497621-fa2a-4c79-9e93-4d05f7e0ea92",
        "colab": {
          "base_uri": "https://localhost:8080/",
          "height": 34
        }
      },
      "source": [
        "# MEAN FUNCTION\n",
        "mu_f = zero_mean\n",
        "\n",
        "# COVARIANCE FUNCTION\n",
        "params = {\n",
        "    'gamma': 1.0,\n",
        "    'var_f': 1.0,\n",
        "    'likelihood_noise': 0.01,\n",
        "}\n",
        "cov_f = functools.partial(gram, rbf_kernel)\n",
        "\n",
        "\n",
        "prior_funcs = (mu_f, cov_f)\n",
        "# print(X.shape, y.shape, test_X.shape)\n",
        "\n",
        "nll = nll_scratch(prior_funcs, params, X, y)\n",
        "print(nll)"
      ],
      "execution_count": null,
      "outputs": [
        {
          "output_type": "stream",
          "text": [
            "54.87834\n"
          ],
          "name": "stdout"
        }
      ]
    },
    {
      "cell_type": "markdown",
      "metadata": {
        "id": "KidS4o9M0J7d"
      },
      "source": [
        "#### Auto-Batching with VMAP"
      ]
    },
    {
      "cell_type": "code",
      "metadata": {
        "collapsed": true,
        "jupyter": {
          "outputs_hidden": true,
          "source_hidden": true
        },
        "id": "ZuutjpUc0J7e",
        "outputId": "c046db70-82ba-465e-b6a1-39f8f4907244",
        "colab": {
          "base_uri": "https://localhost:8080/"
        }
      },
      "source": [
        "nll_scratch_vec = jax.vmap(nll_scratch, in_axes=(None, None, 0, 0))\n",
        "\n",
        "nll = nll_scratch_vec(prior_funcs, params, X, y[:, None])\n",
        "print(nll.sum())\n"
      ],
      "execution_count": null,
      "outputs": [
        {
          "output_type": "stream",
          "text": [
            "42.568897\n"
          ],
          "name": "stdout"
        }
      ]
    },
    {
      "cell_type": "markdown",
      "metadata": {
        "id": "Y3hhg7_I0J7i"
      },
      "source": [
        "### Refactor - Built-in Function\n",
        "\n",
        "It turns out that the jax library already has the `logpdf` for the `multivariate_normal` already implemented. So we can just use that."
      ]
    },
    {
      "cell_type": "code",
      "metadata": {
        "id": "ZWzJ-cfQ0J7i"
      },
      "source": [
        "def gp_prior(params, mu_f, cov_f, x):\n",
        "    return mu_f(x) , cov_f(params, x, x)\n",
        "\n",
        "def marginal_likelihood(prior_params, params,  Xtrain, Ytrain):\n",
        "    \n",
        "    # unpack params\n",
        "    (mu_func, cov_func) = prior_params\n",
        "    \n",
        "    # ==========================\n",
        "    # 1. GP Prior, mu(), cov(,)\n",
        "    # ==========================\n",
        "    mu_x = mu_f(Ytrain)\n",
        "    logging.debug(f\"mu: {mu_x.shape}\")\n",
        "    Kxx = cov_f(params, Xtrain, Xtrain)\n",
        "    logging.debug(f\"Kxx: {Kxx.shape}\")\n",
        "    \n",
        "    # ===========================\n",
        "    # 2. GP Likelihood\n",
        "    # ===========================\n",
        "    K_gp = Kxx + ( params['likelihood_noise'] + 1e-6 ) * jnp.eye(Kxx.shape[0])\n",
        "    \n",
        "    # ===========================\n",
        "    # 3. Log Probability\n",
        "    # ===========================\n",
        "    log_prob = jax.scipy.stats.multivariate_normal.logpdf(x=Ytrain.T, mean=mu_x, cov=K_gp)\n",
        "\n",
        "    # Negative Marginal log-likelihood\n",
        "    return -log_prob.sum()\n",
        "    "
      ],
      "execution_count": null,
      "outputs": []
    },
    {
      "cell_type": "markdown",
      "metadata": {
        "id": "_LEL8fX-9dLE"
      },
      "source": [
        "#### Digression - Scipy Stats Function\n",
        "\n",
        "This actually works for multiple scenarios including single sample, multidimensional inputs, multidimensional outputs. "
      ]
    },
    {
      "cell_type": "markdown",
      "metadata": {
        "id": "InY2-uwi-XmK"
      },
      "source": [
        "##### Single Sample"
      ]
    },
    {
      "cell_type": "code",
      "metadata": {
        "id": "RhEuDIGO9au2",
        "outputId": "b406f7b9-8991-4529-da31-0ac77371bce9",
        "colab": {
          "base_uri": "https://localhost:8080/"
        }
      },
      "source": [
        "# Single Sample\n",
        "X, y, Xtest, ytest = get_data()\n",
        "test_X = X[0,:]\n",
        "test_Y = y[0,:]\n",
        "logging.debug(f\"Inputs, X: {test_X.shape}, y: {test_Y.shape}\")\n",
        "prior_funcs = (mu_f, cov_f)\n",
        "\n",
        "log_prob = marginal_likelihood(prior_funcs, params, test_X, test_Y)\n",
        "\n",
        "logging.info(f\"LogProb: {log_prob}\")"
      ],
      "execution_count": null,
      "outputs": [
        {
          "output_type": "stream",
          "text": [
            "INFO:root:LogProb: 1.9503380060195923\n"
          ],
          "name": "stderr"
        }
      ]
    },
    {
      "cell_type": "markdown",
      "metadata": {
        "id": "fpSGpToHCW0X"
      },
      "source": [
        "##### Multiple Samples"
      ]
    },
    {
      "cell_type": "code",
      "metadata": {
        "id": "cbSCrg3G-su5",
        "outputId": "4b7ccafb-51e3-4ffa-9866-1ef89fb4531d",
        "colab": {
          "base_uri": "https://localhost:8080/"
        }
      },
      "source": [
        "# Multiple Samples\n",
        "X, y, Xtest, ytest = get_data()\n",
        "test_X = X\n",
        "test_Y = y\n",
        "nll = marginal_likelihood(prior_funcs, params, test_X, test_Y)\n",
        "logging.info(f\"NLL: {nll}\")"
      ],
      "execution_count": null,
      "outputs": [
        {
          "output_type": "stream",
          "text": [
            "INFO:root:NLL: 54.936920166015625\n"
          ],
          "name": "stderr"
        }
      ]
    },
    {
      "cell_type": "markdown",
      "metadata": {
        "id": "dElgEcbKCf6S"
      },
      "source": [
        "##### Multiple Input Dimensions"
      ]
    },
    {
      "cell_type": "code",
      "metadata": {
        "id": "kCls7RHx_YPm",
        "outputId": "35245a3e-a9e1-43eb-c5fe-257e0a6d1877",
        "colab": {
          "base_uri": "https://localhost:8080/"
        }
      },
      "source": [
        "# Multiple Input Dimensions\n",
        "X, y, Xtest, ytest = get_data()\n",
        "test_X = jnp.hstack([X,X])\n",
        "test_Y = y\n",
        "nll = marginal_likelihood(prior_funcs, params, test_X, test_Y)\n",
        "logging.info(f\"NLL: {nll}\")"
      ],
      "execution_count": null,
      "outputs": [
        {
          "output_type": "stream",
          "text": [
            "INFO:root:NLL: 49.61053466796875\n"
          ],
          "name": "stderr"
        }
      ]
    },
    {
      "cell_type": "markdown",
      "metadata": {
        "id": "eFB34d4TBYIO"
      },
      "source": [
        "##### Multiple Output Dimensions"
      ]
    },
    {
      "cell_type": "code",
      "metadata": {
        "id": "hj6QhJgf_jhO",
        "outputId": "ad4389a3-7404-49ac-ffad-df7501680661",
        "colab": {
          "base_uri": "https://localhost:8080/"
        }
      },
      "source": [
        "# Multiple Output Dimensions\n",
        "X, y, Xtest, ytest = get_data()\n",
        "test_X = jnp.hstack([X,X])\n",
        "test_Y = jnp.hstack([y,y])\n",
        "nll = marginal_likelihood(prior_funcs, params, test_X, test_Y)\n",
        "logging.info(f\"NLL: {nll}\")"
      ],
      "execution_count": null,
      "outputs": [
        {
          "output_type": "stream",
          "text": [
            "INFO:root:NLL: 99.2210693359375\n"
          ],
          "name": "stderr"
        }
      ]
    },
    {
      "cell_type": "markdown",
      "metadata": {
        "id": "iCEdjL5a-ZKv"
      },
      "source": [
        "##### Multiple Samples"
      ]
    },
    {
      "cell_type": "code",
      "metadata": {
        "id": "BSFggE480J7u",
        "outputId": "83a5c439-42bf-45ff-c5a7-64c97dc097b8",
        "colab": {
          "base_uri": "https://localhost:8080/"
        }
      },
      "source": [
        "logger.setLevel(logging.INFO)\n",
        "# %timeit _ = nll_scratch(prior_funcs, params, X, y)\n",
        "%timeit _ = marginal_likelihood(prior_funcs, params, X, y)"
      ],
      "execution_count": null,
      "outputs": [
        {
          "output_type": "stream",
          "text": [
            "10 loops, best of 3: 39.1 ms per loop\n"
          ],
          "name": "stdout"
        }
      ]
    },
    {
      "cell_type": "markdown",
      "metadata": {
        "id": "xtB_Kz1m0J7z"
      },
      "source": [
        "## 6. Training"
      ]
    },
    {
      "cell_type": "code",
      "metadata": {
        "id": "gCqHaEyv0J70"
      },
      "source": [
        "# Nice Trick for better training of params\n",
        "def saturate(params):\n",
        "    return {ikey:softplus(ivalue) for (ikey, ivalue) in params.items()}"
      ],
      "execution_count": null,
      "outputs": []
    },
    {
      "cell_type": "code",
      "metadata": {
        "id": "o4y9wdta0J73",
        "outputId": "35697ece-5eaa-4108-8dd4-db86cf576ff0",
        "colab": {
          "base_uri": "https://localhost:8080/",
          "height": 34
        }
      },
      "source": [
        "logger.setLevel(logging.INFO)\n",
        "\n",
        "X, y, Xtest, ytest = get_data(50)\n",
        "\n",
        "\n",
        "# PRIOR FUNCTIONS (mean, covariance)\n",
        "mu_f = zero_mean\n",
        "cov_f = functools.partial(gram, rbf_kernel)\n",
        "gp_priors = (mu_f, cov_f)\n",
        "\n",
        "# Kernel, Likelihood parameters\n",
        "params = {\n",
        "    'gamma': 2.0,\n",
        "    # 'length_scale': 1.0,\n",
        "    # 'var_f': 1.0,\n",
        "    'likelihood_noise': 1.,\n",
        "}\n",
        "# saturate parameters with likelihoods\n",
        "params = saturate(params)\n",
        "\n",
        "# LOSS FUNCTION\n",
        "mll_loss = jax.jit(functools.partial(marginal_likelihood, gp_priors))\n",
        "\n",
        "# GRADIENT LOSS FUNCTION\n",
        "dloss = jax.jit(jax.grad(mll_loss))\n",
        "\n",
        "\n",
        "# STEP FUNCTION\n",
        "@jax.jit\n",
        "def step(params, X, y, opt_state):\n",
        "    # calculate loss\n",
        "    loss = mll_loss(params, X, y)\n",
        "\n",
        "    # calculate gradient of loss\n",
        "    grads = dloss(params, X, y)\n",
        "\n",
        "    # update optimizer state\n",
        "    opt_state = opt_update(0, grads, opt_state)\n",
        "\n",
        "    # update params\n",
        "    params = get_params(opt_state)\n",
        "\n",
        "    return params, opt_state, loss\n",
        "\n",
        "# initialize optimizer\n",
        "opt_init, opt_update, get_params = optimizers.rmsprop(step_size=1e-2)\n",
        "\n",
        "# initialize parameters\n",
        "opt_state = opt_init(params)\n",
        "\n",
        "# get initial parameters\n",
        "params = get_params(opt_state)\n",
        "\n",
        "# TRAINING PARARMETERS\n",
        "n_epochs = 500\n",
        "learning_rate = 0.1\n",
        "losses = list()\n",
        "postfix = {}\n",
        "\n",
        "import tqdm\n",
        "\n",
        "with tqdm.trange(n_epochs) as bar:\n",
        "\n",
        "    for i in bar:\n",
        "\n",
        "\n",
        "        \n",
        "        # 1 step - optimize function\n",
        "        params, opt_state, value = step(params, X, y, opt_state)\n",
        "\n",
        "\n",
        "\n",
        "\n",
        "        # update params\n",
        "        postfix = {}\n",
        "        for ikey in params.keys():\n",
        "            postfix[ikey] = f\"{jax.nn.softplus(params[ikey]):.2f}\"\n",
        "\n",
        "        # save loss values\n",
        "        losses.append(value.mean())\n",
        "\n",
        "        # update progress bar\n",
        "        postfix[\"Loss\"] = f\"{onp.array(losses[-1]):.2f}\"\n",
        "        bar.set_postfix(postfix)\n",
        "        # saturate params\n",
        "        params = saturate(params)\n",
        "\n",
        "\n",
        "        \n",
        "\n"
      ],
      "execution_count": null,
      "outputs": [
        {
          "output_type": "stream",
          "text": [
            "100%|██████████| 500/500 [00:05<00:00, 84.27it/s, gamma=2.20, likelihood_noise=0.06, Loss=14.18]\n"
          ],
          "name": "stderr"
        }
      ]
    },
    {
      "cell_type": "code",
      "metadata": {
        "id": "Iqm3YP5w0J77",
        "outputId": "07be53ec-9be8-4bab-d5d3-054ec9b8cec4",
        "colab": {
          "base_uri": "https://localhost:8080/",
          "height": 283
        }
      },
      "source": [
        "plt.plot(losses)\n",
        "params"
      ],
      "execution_count": null,
      "outputs": [
        {
          "output_type": "execute_result",
          "data": {
            "text/plain": [
              "{'gamma': 2.1963813668453316, 'likelihood_noise': 0.06418536057067861}"
            ]
          },
          "metadata": {
            "tags": []
          },
          "execution_count": 80
        },
        {
          "output_type": "display_data",
          "data": {
            "image/png": "[encoded data removed]",
            "text/plain": [
              "<Figure size 432x288 with 1 Axes>"
            ]
          },
          "metadata": {
            "tags": [],
            "needs_background": "light"
          }
        }
      ]
    },
    {
      "cell_type": "markdown",
      "metadata": {
        "id": "HXGMH4aF0J7-"
      },
      "source": [
        "## 7. Predictions"
      ]
    },
    {
      "cell_type": "code",
      "metadata": {
        "id": "U4eyUSKb0J8E",
        "outputId": "0ec5a90d-1fdd-4bdc-e9fc-20984f7a0bc3",
        "colab": {
          "base_uri": "https://localhost:8080/",
          "height": 53
        }
      },
      "source": [
        "# print(X.shape, y.shape, test_X.shape)\n",
        "logger.setLevel(logging.INFO)\n",
        "\n",
        "logging.info(f\"X:{X.shape}, y:{y.shape}, X*:{Xtest.shape}\")\n",
        "mu_y, cov_y = posterior(params, gp_priors, X, y, Xtest, True, True)\n",
        "_, var_y = posterior(params, gp_priors, X, y, Xtest, True, False)\n",
        "logging.info(f\"X:{mu_y.shape}, cov:{cov_y.shape}, var:{var_y.shape}\")\n",
        "onp.testing.assert_array_almost_equal(onp.array(jnp.diag(cov_y)), onp.array(var_y), decimal=1e-5)"
      ],
      "execution_count": null,
      "outputs": [
        {
          "output_type": "stream",
          "text": [
            "INFO:root:X:(50, 1), y:(50, 1), X*:(400, 1)\n",
            "INFO:root:X:(400, 1), cov:(400, 400), var:(400,)\n"
          ],
          "name": "stderr"
        }
      ]
    },
    {
      "cell_type": "code",
      "metadata": {
        "id": "2RgauCk3NDys",
        "outputId": "aa906342-f7a6-4464-bf54-81c66ed6c0ae",
        "colab": {
          "base_uri": "https://localhost:8080/",
          "height": 53
        }
      },
      "source": [
        "logger.setLevel(logging.INFO)\n",
        "%timeit _ = posterior(params, gp_priors, X, y, Xtest, True, True)\n",
        "%timeit _ = posterior(params, gp_priors, X, y, Xtest, True, False)"
      ],
      "execution_count": null,
      "outputs": [
        {
          "output_type": "stream",
          "text": [
            "100 loops, best of 3: 8.59 ms per loop\n",
            "100 loops, best of 3: 12.7 ms per loop\n"
          ],
          "name": "stdout"
        }
      ]
    },
    {
      "cell_type": "code",
      "metadata": {
        "id": "nh_y4X8zYzb4",
        "outputId": "9b430871-6253-403e-d05c-07f0fb39e3ae",
        "colab": {
          "base_uri": "https://localhost:8080/",
          "height": 284
        }
      },
      "source": [
        "mu_y, var_y = posterior(params, gp_priors, X, y, Xtest, False, False)\n",
        "plt.plot(var_y)"
      ],
      "execution_count": null,
      "outputs": [
        {
          "output_type": "execute_result",
          "data": {
            "text/plain": [
              "[<matplotlib.lines.Line2D at 0x7fbd7f10acc0>]"
            ]
          },
          "metadata": {
            "tags": []
          },
          "execution_count": 72
        },
        {
          "output_type": "display_data",
          "data": {
            "image/png": "[encoded data removed]",
            "text/plain": [
              "<Figure size 432x288 with 1 Axes>"
            ]
          },
          "metadata": {
            "tags": [],
            "needs_background": "light"
          }
        }
      ]
    },
    {
      "cell_type": "code",
      "metadata": {
        "id": "octFHDyA0J8M",
        "outputId": "0d374fe9-00f9-4f04-8676-f5cf1a2fcdfe",
        "colab": {
          "base_uri": "https://localhost:8080/",
          "height": 297
        }
      },
      "source": [
        "mu_y, var_y = posterior(params, gp_priors, X, y, Xtest, True, False)\n",
        "\n",
        "uncertainty = 1.96 * jnp.sqrt(var_y.squeeze())\n",
        "\n",
        "\n",
        "fig, ax = plt.subplots()\n",
        "ax.scatter(X, y, c='red', label='Training Data')\n",
        "plt.plot(Xtest.squeeze(), mu_y.squeeze(), label=r'Predictive Mean', color='black', linewidth=3)\n",
        "plt.fill_between(\n",
        "    Xtest.squeeze(), mu_y.squeeze() + uncertainty, mu_y.squeeze() - uncertainty, \n",
        "    alpha=0.3,\n",
        "    color='darkorange',\n",
        "    label=f\"Predictive Std (95% Confidence)\"\n",
        "    )\n",
        "plt.legend(fontsize=12)\n",
        "plt.tight_layout()\n",
        "plt.show()"
      ],
      "execution_count": null,
      "outputs": [
        {
          "output_type": "display_data",
          "data": {
            "image/png": "[encoded data removed]",
            "text/plain": [
              "<Figure size 432x288 with 1 Axes>"
            ]
          },
          "metadata": {
            "tags": [],
            "needs_background": "light"
          }
        }
      ]
    },
    {
      "cell_type": "code",
      "metadata": {
        "id": "aDFZm_BxfX0A"
      },
      "source": [],
      "execution_count": null,
      "outputs": []
    }
  ]
}