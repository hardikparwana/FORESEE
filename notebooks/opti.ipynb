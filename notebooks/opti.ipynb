{
 "cells": [
  {
   "cell_type": "code",
   "execution_count": 1,
   "id": "25d56781-3bb4-4565-9c54-c463d3fc1a2f",
   "metadata": {},
   "outputs": [],
   "source": [
    "import casadi as cs"
   ]
  },
  {
   "cell_type": "code",
   "execution_count": 3,
   "id": "a0ea3a21-8646-461c-86bf-ea5527e6a3c9",
   "metadata": {},
   "outputs": [],
   "source": [
    "opti = cs.Opti()"
   ]
  },
  {
   "cell_type": "code",
   "execution_count": 7,
   "id": "30657543-414d-48ce-9e52-b4dee6363f43",
   "metadata": {},
   "outputs": [],
   "source": [
    "x = opti.variable(1,2,)"
   ]
  },
  {
   "cell_type": "code",
   "execution_count": 18,
   "id": "6049f6c7-9d5f-4ff2-9702-c2a46899e922",
   "metadata": {},
   "outputs": [],
   "source": [
    "y = cs.SX.sym('y',2,2)"
   ]
  },
  {
   "cell_type": "code",
   "execution_count": 24,
   "id": "aa553ef8-699b-4e3a-88aa-aed526759251",
   "metadata": {},
   "outputs": [
    {
     "name": "stdout",
     "output_type": "stream",
     "text": [
      "y_2\n"
     ]
    }
   ],
   "source": [
    "print(y[0,1])"
   ]
  },
  {
   "cell_type": "code",
   "execution_count": 19,
   "id": "3a0b06d2-b3cb-46ab-883f-387fbccf226c",
   "metadata": {},
   "outputs": [
    {
     "name": "stdout",
     "output_type": "stream",
     "text": [
      "\n",
      "[[sq(y_0), sq(y_2)], \n",
      " [sq(y_1), sq(y_3)]]\n"
     ]
    }
   ],
   "source": [
    "print(y*y)"
   ]
  },
  {
   "cell_type": "code",
   "execution_count": 20,
   "id": "3210d3b7-6e76-4a19-b8e0-1284a72e81f3",
   "metadata": {},
   "outputs": [
    {
     "data": {
      "text/plain": [
       "SX([y_0, y_1, y_2, y_3])"
      ]
     },
     "execution_count": 20,
     "metadata": {},
     "output_type": "execute_result"
    }
   ],
   "source": [
    "cs.reshape(y, -1, 1)"
   ]
  },
  {
   "cell_type": "code",
   "execution_count": 21,
   "id": "9b2bc9a9-0d94-426d-aea5-e5588429cba4",
   "metadata": {},
   "outputs": [
    {
     "data": {
      "text/plain": [
       "SX(\n",
       "[[y_0, y_2], \n",
       " [y_1, y_3]])"
      ]
     },
     "execution_count": 21,
     "metadata": {},
     "output_type": "execute_result"
    }
   ],
   "source": [
    "cs.reshape(cs.reshape(y, -1, 1), 2,2)"
   ]
  },
  {
   "cell_type": "code",
   "execution_count": null,
   "id": "6cda5b0b-5ba9-4dea-b1ff-8e9546e55ef5",
   "metadata": {},
   "outputs": [],
   "source": []
  }
 ],
 "metadata": {
  "kernelspec": {
   "display_name": "Python 3 (ipykernel)",
   "language": "python",
   "name": "python3"
  },
  "language_info": {
   "codemirror_mode": {
    "name": "ipython",
    "version": 3
   },
   "file_extension": ".py",
   "mimetype": "text/x-python",
   "name": "python",
   "nbconvert_exporter": "python",
   "pygments_lexer": "ipython3",
   "version": "3.11.7"
  }
 },
 "nbformat": 4,
 "nbformat_minor": 5
}
