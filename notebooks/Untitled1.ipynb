{
 "cells": [
  {
   "cell_type": "code",
   "execution_count": 1,
   "id": "2c82c84b",
   "metadata": {},
   "outputs": [],
   "source": [
    "import jax.numpy as np\n",
    "from jax import random, grad, jit, vmap, vjp, lax\n",
    "from jax import jacfwd, jacrev\n",
    "import jax\n",
    "jax.config.update(\"jax_enable_x64\", True)\n",
    "from jax.scipy.optimize import minimize"
   ]
  },
  {
   "cell_type": "code",
   "execution_count": 195,
   "id": "a33c9e5b",
   "metadata": {},
   "outputs": [],
   "source": [
    "def func(x):\n",
    "#     return (np.tanh(x)*np.cos(x))[0]\n",
    "    return x*x"
   ]
  },
  {
   "cell_type": "code",
   "execution_count": 196,
   "id": "58d8c0c7",
   "metadata": {},
   "outputs": [
    {
     "data": {
      "text/plain": [
       "Array([4.], dtype=float64)"
      ]
     },
     "execution_count": 196,
     "metadata": {},
     "output_type": "execute_result"
    }
   ],
   "source": [
    "func_jit = jit(func)\n",
    "func_jit(np.array([2.0]))"
   ]
  },
  {
   "cell_type": "code",
   "execution_count": 161,
   "id": "32102de9",
   "metadata": {},
   "outputs": [],
   "source": [
    "# res = minimize( func_jit, np.array([1.0]),np.array([2.0])), method='BFGS', tol=1e-8 ) "
   ]
  },
  {
   "cell_type": "code",
   "execution_count": 162,
   "id": "6e865986",
   "metadata": {},
   "outputs": [
    {
     "data": {
      "text/plain": [
       "Array([3.148954], dtype=float64)"
      ]
     },
     "execution_count": 162,
     "metadata": {},
     "output_type": "execute_result"
    }
   ],
   "source": [
    "res.x"
   ]
  },
  {
   "cell_type": "code",
   "execution_count": 163,
   "id": "9baf9aad",
   "metadata": {},
   "outputs": [],
   "source": [
    "# func_jit( res.x )"
   ]
  },
  {
   "cell_type": "code",
   "execution_count": 85,
   "id": "f94fa190",
   "metadata": {},
   "outputs": [
    {
     "data": {
      "text/plain": [
       "Array(0.41149108, dtype=float64)"
      ]
     },
     "execution_count": 85,
     "metadata": {},
     "output_type": "execute_result"
    }
   ],
   "source": [
    "func_jit( np.array([1.0]), np.array([1.0]) )"
   ]
  },
  {
   "cell_type": "code",
   "execution_count": 197,
   "id": "7b2e3dd8",
   "metadata": {},
   "outputs": [],
   "source": [
    "import torch\n",
    "from jax2torch import jax2torch\n",
    "torch_func_jit = jax2torch(func_jit)\n",
    "class HorizonReward(torch.nn.Module):\n",
    "    def __init__(self, size1):\n",
    "        super().__init__()\n",
    "        self.param = torch.nn.Parameter( torch.randn(size1), requires_grad=True )\n",
    "\n",
    "    def forward(self):\n",
    "        return torch_func_jit(self.param)\n",
    "    \n",
    "    def get_parameters(self):\n",
    "        return self.param.item()"
   ]
  },
  {
   "cell_type": "code",
   "execution_count": 205,
   "id": "7edc19de",
   "metadata": {},
   "outputs": [],
   "source": [
    "model = HorizonReward(1)"
   ]
  },
  {
   "cell_type": "code",
   "execution_count": 206,
   "id": "a856776a",
   "metadata": {},
   "outputs": [
    {
     "data": {
      "text/plain": [
       "-0.35270407795906067"
      ]
     },
     "execution_count": 206,
     "metadata": {},
     "output_type": "execute_result"
    }
   ],
   "source": [
    "model.get_parameters()"
   ]
  },
  {
   "cell_type": "code",
   "execution_count": 207,
   "id": "ea93f8c6",
   "metadata": {},
   "outputs": [],
   "source": [
    "optimizer = torch.optim.Adam(model.parameters(), lr=0.001)#1e-6)"
   ]
  },
  {
   "cell_type": "code",
   "execution_count": 208,
   "id": "fcb1805d",
   "metadata": {},
   "outputs": [],
   "source": [
    "for i in range(10000):\n",
    "    cost = model()\n",
    "    optimizer.zero_grad()\n",
    "    cost.backward(retain_graph = False)\n",
    "    optimizer.step()"
   ]
  },
  {
   "cell_type": "code",
   "execution_count": 209,
   "id": "99e644fd",
   "metadata": {},
   "outputs": [
    {
     "data": {
      "text/plain": [
       "-3.9155544118657266e-39"
      ]
     },
     "execution_count": 209,
     "metadata": {},
     "output_type": "execute_result"
    }
   ],
   "source": [
    "model.get_parameters()"
   ]
  },
  {
   "cell_type": "code",
   "execution_count": 210,
   "id": "ee0e515d",
   "metadata": {},
   "outputs": [
    {
     "data": {
      "text/plain": [
       "tensor([0.], grad_fn=<JaxFunBackward>)"
      ]
     },
     "execution_count": 210,
     "metadata": {},
     "output_type": "execute_result"
    }
   ],
   "source": [
    "model()"
   ]
  },
  {
   "cell_type": "code",
   "execution_count": 211,
   "id": "8f8721dd",
   "metadata": {},
   "outputs": [
    {
     "data": {
      "text/plain": [
       "tensor([0.], grad_fn=<JaxFunBackward>)"
      ]
     },
     "execution_count": 211,
     "metadata": {},
     "output_type": "execute_result"
    }
   ],
   "source": [
    "model()"
   ]
  },
  {
   "cell_type": "code",
   "execution_count": 201,
   "id": "7a095bad",
   "metadata": {},
   "outputs": [
    {
     "data": {
      "text/plain": [
       "0.089401"
      ]
     },
     "execution_count": 201,
     "metadata": {},
     "output_type": "execute_result"
    }
   ],
   "source": [
    "0.299*0.299"
   ]
  },
  {
   "cell_type": "code",
   "execution_count": 214,
   "id": "22783bfe",
   "metadata": {},
   "outputs": [],
   "source": [
    "import torch\n",
    "import torchvision\n",
    "from torch.utils.tensorboard import SummaryWriter\n",
    "from torchvision import datasets, transforms"
   ]
  },
  {
   "cell_type": "code",
   "execution_count": null,
   "id": "6f2e3b15",
   "metadata": {},
   "outputs": [],
   "source": []
  }
 ],
 "metadata": {
  "kernelspec": {
   "display_name": "Python 3 (ipykernel)",
   "language": "python",
   "name": "python3"
  },
  "language_info": {
   "codemirror_mode": {
    "name": "ipython",
    "version": 3
   },
   "file_extension": ".py",
   "mimetype": "text/x-python",
   "name": "python",
   "nbconvert_exporter": "python",
   "pygments_lexer": "ipython3",
   "version": "3.11.3"
  }
 },
 "nbformat": 4,
 "nbformat_minor": 5
}
