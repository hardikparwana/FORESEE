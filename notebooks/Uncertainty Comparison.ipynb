{
 "cells": [
  {
   "cell_type": "code",
   "execution_count": 177,
   "id": "0775bc7e",
   "metadata": {},
   "outputs": [],
   "source": [
    "import matplotlib.pyplot as plt\n",
    "from matplotlib.patches import Ellipse\n",
    "import matplotlib.transforms as transforms\n",
    "import numpy as np\n",
    "# from jax import jit"
   ]
  },
  {
   "cell_type": "code",
   "execution_count": 178,
   "id": "0fb3e900",
   "metadata": {},
   "outputs": [],
   "source": [
    "# plot ellipse\n",
    "\n",
    "def confidence_ellipse(mu, cov, ax, n_std=3.0, facecolor='none', **kwargs):\n",
    "    \"\"\"\n",
    "    Create a plot of the covariance confidence ellipse of `x` and `y`\n",
    "\n",
    "    Parameters\n",
    "    ----------\n",
    "    x, y : array_like, shape (n, )\n",
    "        Input data.\n",
    "\n",
    "    ax : matplotlib.axes.Axes\n",
    "        The axes object to draw the ellipse into.\n",
    "\n",
    "    n_std : float\n",
    "        The number of standard deviations to determine the ellipse's radiuses.\n",
    "\n",
    "    Returns\n",
    "    -------\n",
    "    matplotlib.patches.Ellipse\n",
    "\n",
    "    Other parameters\n",
    "    ----------------\n",
    "    kwargs : `~matplotlib.patches.Patch` properties\n",
    "    \"\"\"\n",
    "\n",
    "    pearson = cov[0, 1]/np.sqrt(cov[0, 0] * cov[1, 1])\n",
    "    # Using a special case to obtain the eigenvalues of this\n",
    "    # two-dimensionl dataset.\n",
    "    ell_radius_x = np.sqrt(1 + pearson)\n",
    "    ell_radius_y = np.sqrt(1 - pearson)\n",
    "    ellipse = Ellipse((0, 0),\n",
    "        width=ell_radius_x * 2,\n",
    "        height=ell_radius_y * 2,\n",
    "        facecolor=facecolor,\n",
    "        **kwargs)\n",
    "\n",
    "    # Calculating the stdandard deviation of x from\n",
    "    # the squareroot of the variance and multiplying\n",
    "    # with the given number of standard deviations.\n",
    "    scale_x = np.sqrt(cov[0, 0]) * n_std\n",
    "    mean_x = mu[0,0]\n",
    "\n",
    "    # calculating the stdandard deviation of y ...\n",
    "    scale_y = np.sqrt(cov[1, 1]) * n_std\n",
    "    mean_y = mu[1,0]\n",
    "\n",
    "    transf = transforms.Affine2D() \\\n",
    "        .rotate_deg(45) \\\n",
    "        .scale(scale_x, scale_y) \\\n",
    "        .translate(mean_x, mean_y)\n",
    "\n",
    "    ellipse.set_transform(transf + ax.transData)\n",
    "    return ax.add_patch(ellipse)"
   ]
  },
  {
   "cell_type": "markdown",
   "id": "7a9f0de6",
   "metadata": {},
   "source": [
    "## Update dynamics"
   ]
  },
  {
   "cell_type": "code",
   "execution_count": 179,
   "id": "fa25942a",
   "metadata": {},
   "outputs": [],
   "source": [
    "def dynamics_step( base_term, state_dot, dt ):\n",
    "    next_state = base_term + state_dot * dt\n",
    "#     print(f\"next_state:{next_state}\")\n",
    "    return next_state\n",
    "\n",
    "def dynamics_xdot(state, action = np.array([0])):\n",
    "    return 100 * np.array([np.sin(state[0,0])+0.01, np.sin(state[1,0])+0.01]).reshape(-1,1)\n",
    "\n",
    "# assume this is true dynamics\n",
    "def dynamics_xdot_noisy(state, action = np.array([0])):\n",
    "    xdot = dynamics_xdot(state, action)\n",
    "    error_square = 0.01 + np.square(xdot) # /2  #never let it be 0!!!!\n",
    "    cov = np.diag( error_square[:,0] )\n",
    "    xdot = xdot + xdot/2 #X_dot = X_dot + X_dot/6\n",
    "    return xdot, cov"
   ]
  },
  {
   "cell_type": "markdown",
   "id": "03636fd3",
   "metadata": {},
   "source": [
    "## Compute Moments functions"
   ]
  },
  {
   "cell_type": "code",
   "execution_count": 180,
   "id": "419e8fea",
   "metadata": {},
   "outputs": [],
   "source": [
    "# @jit\n",
    "def get_mean( sigma_points, weights ):\n",
    "    weighted_points = sigma_points * weights[0]\n",
    "    mu = np.sum( weighted_points, 1 ).reshape(-1,1)\n",
    "    return mu\n",
    "\n",
    "# @jit\n",
    "def get_mean_cov(sigma_points, weights):\n",
    "    \n",
    "    # mean\n",
    "    weighted_points = sigma_points * weights[0]\n",
    "    mu = np.sum( weighted_points, 1 ).reshape(-1,1)\n",
    "    \n",
    "    # covariance\n",
    "    centered_points = sigma_points - mu\n",
    "    weighted_centered_points = centered_points * weights[0] \n",
    "    cov = weighted_centered_points @ centered_points.T\n",
    "    return mu, cov\n",
    "\n",
    "#@jit\n",
    "def get_ut_cov_root_diagonal(cov):\n",
    "    offset = 0.000  # TODO: make sure not zero here\n",
    "    root0 = np.sqrt((offset+cov[0,0]))\n",
    "    root1 = np.sqrt((offset+cov[1,1]))\n",
    "    # return cov\n",
    "    root_term = np.diag( np.array([root0, root1]) )\n",
    "    return root_term"
   ]
  },
  {
   "cell_type": "markdown",
   "id": "6ce453bf",
   "metadata": {},
   "source": [
    "# PILCO Update"
   ]
  },
  {
   "cell_type": "code",
   "execution_count": 181,
   "id": "6c48efea",
   "metadata": {},
   "outputs": [],
   "source": [
    "def pilco_propagate(mean, cov):\n",
    "    mu, cov = dynamics_xdot_noisy(mean)\n",
    "    return dynamics_step( mean, mu, dt ), cov * dt**2"
   ]
  },
  {
   "cell_type": "markdown",
   "id": "d8e5e19a",
   "metadata": {},
   "source": [
    "# Monte Carlo Update"
   ]
  },
  {
   "cell_type": "code",
   "execution_count": 182,
   "id": "e72a7d88",
   "metadata": {},
   "outputs": [],
   "source": [
    "def mc_propagate(points):\n",
    "    new_points = np.copy(points)\n",
    "    for i in range(points.shape[1]):\n",
    "        mu, cov = dynamics_xdot_noisy(points[:,i].reshape(-1,1))\n",
    "        sample = np.array([  np.random.normal(mu[0,0], np.sqrt(cov[0,0])), np.random.normal(mu[1,0], np.sqrt(cov[1,1]))  ]).reshape(-1,1) \n",
    "        points[:,i] = dynamics_step(points[:,i].reshape(-1,1), sample, dt)[:,0]\n",
    "    return points"
   ]
  },
  {
   "cell_type": "markdown",
   "id": "099da743",
   "metadata": {},
   "source": [
    "# FORESEE Update"
   ]
  },
  {
   "cell_type": "markdown",
   "id": "68206e2f",
   "metadata": {},
   "source": [
    "## Expansion and Compression Operations"
   ]
  },
  {
   "cell_type": "code",
   "execution_count": 184,
   "id": "8546d688",
   "metadata": {},
   "outputs": [],
   "source": [
    "#@jit\n",
    "def initialize_sigma_points(X):\n",
    "    # return 2N + 1 points\n",
    "    n = X.shape[0]\n",
    "    num_points = 2*n + 1\n",
    "    sigma_points = np.repeat( X, num_points, axis=1 )\n",
    "    weights = np.ones((1,num_points)) * 1.0/( num_points )\n",
    "    return sigma_points, weights\n",
    "\n",
    "# @jit\n",
    "def generate_sigma_points_gaussian( mu, cov_root, base_term, factor ):\n",
    "    n = mu.shape[0]     \n",
    "    N = 2*n + 1 # total points\n",
    "\n",
    "    k = 0.5 # n-3 # 0.5**\n",
    "    new_points = dynamics_step(base_term, mu, factor) # new_points = base_term + factor * mu\n",
    "    new_weights = np.array([[1.0*k/(n+k)]])\n",
    "    for i in range(n):\n",
    "        new_points = np.append( new_points, dynamics_step(base_term, (mu - np.sqrt(n+k)*cov_root[:,i].reshape(-1,1)), factor) , axis = 1 )\n",
    "        new_points = np.append( new_points, dynamics_step(base_term, (mu + np.sqrt(n+k)*cov_root[:,i].reshape(-1,1)), factor) , axis = 1 )\n",
    "        new_weights = np.append( new_weights, np.array([[1.0/(n+k)/2.0]]), axis = 1 )\n",
    "        new_weights = np.append( new_weights, np.array([[1.0/(n+k)/2.0]]), axis = 1 )\n",
    "    return new_points, new_weights\n",
    "\n",
    "# @jit\n",
    "def sigma_point_expand(sigma_points, weights, control):\n",
    "   \n",
    "    n, N = sigma_points.shape   \n",
    "    # dt_outer = 0  \n",
    "    #TODO  \n",
    "    mu, cov = dynamics_xdot_noisy(sigma_points[:,0].reshape(-1,1), control.reshape(-1,1))\n",
    "    root_term = get_ut_cov_root_diagonal(cov) \n",
    "    temp_points, temp_weights = generate_sigma_points_gaussian( mu, root_term, sigma_points[:,0].reshape(-1,1), dt )\n",
    "    new_points = np.copy( temp_points )\n",
    "    new_weights = ( np.copy( temp_weights ) * weights[0,0]).reshape(1,-1)\n",
    "        \n",
    "    for i in range(1,N):\n",
    "        mu, cov = dynamics_xdot_noisy(sigma_points[:,i].reshape(-1,1), control.reshape(-1,1))\n",
    "        root_term = get_ut_cov_root_diagonal(cov)           \n",
    "        temp_points, temp_weights = generate_sigma_points_gaussian( mu, root_term, sigma_points[:,i].reshape(-1,1), dt )\n",
    "        new_points = np.append(new_points, temp_points, axis=1 )\n",
    "        new_weights = np.append( new_weights, (temp_weights * weights[0,i]).reshape(1,-1) , axis=1 )\n",
    "\n",
    "    return new_points, new_weights\n",
    "\n",
    "#@jit\n",
    "def sigma_point_compress( sigma_points, weights ):\n",
    "    mu, cov = get_mean_cov( sigma_points, weights )\n",
    "    cov_root_term = get_ut_cov_root_diagonal( cov )  \n",
    "    base_term = np.zeros((mu.shape))\n",
    "    return generate_sigma_points_gaussian( mu, cov_root_term, base_term, np.array([1.0]) )\n",
    "\n",
    "# @jit\n",
    "def foresee_propagate( sigma_points, weights, action = np.array([0]) ):\n",
    "    \n",
    "    #Expansion Layer\n",
    "    expanded_sigma_points, expanded_weights = sigma_point_expand( sigma_points, weights, action )\n",
    "    \n",
    "    # Compression layer\n",
    "    compressed_sigma_points, compressed_weights = sigma_point_compress(expanded_sigma_points, expanded_weights)\n",
    "    \n",
    "    return compressed_sigma_points, compressed_weights, expanded_sigma_points, expanded_weights"
   ]
  },
  {
   "cell_type": "code",
   "execution_count": 185,
   "id": "9f949559",
   "metadata": {},
   "outputs": [
    {
     "name": "stdout",
     "output_type": "stream",
     "text": [
      "mean:[[1.5]], cov:[[0.6]]\n"
     ]
    }
   ],
   "source": [
    "mu = np.array([0.075, 0.075]).reshape(-1,1)\n",
    "cov = np.array([\n",
    "    [0.00252, 0],\n",
    "    [0.0, 0.00252]\n",
    "])\n",
    "mu = np.array([1.5]).reshape(-1,1)\n",
    "cov = np.array([[0.6]])\n",
    "cov_root = np.sqrt( cov )\n",
    "\n",
    "points, weights = generate_sigma_points_gaussian( mu, cov_root, np.zeros((1,1)), 1.0 )\n",
    "mu2, cov2 = get_mean_cov( points, weights )\n",
    "\n",
    "print( f\"mean:{mu2}, cov:{cov2}\" )"
   ]
  },
  {
   "cell_type": "markdown",
   "id": "6bdaebba",
   "metadata": {},
   "source": [
    "# Test Scenario"
   ]
  },
  {
   "cell_type": "code",
   "execution_count": 188,
   "id": "beb15be8",
   "metadata": {},
   "outputs": [],
   "source": [
    "horizon = 2\n",
    "dt = 0.05\n",
    "initial_state_mean = np.array([0.0,0.0]).reshape(-1,1)\n",
    "initial_state_cov = np.zeros((2,2))\n",
    "sigma_points_init, weights_init = initialize_sigma_points(initial_state_mean)\n",
    "\n",
    "# PILCO init\n",
    "pilco_mu, pilco_cov = np.copy(initial_state_mean), np.copy(initial_state_cov)\n",
    "\n",
    "# Monte Carlo init\n",
    "num_particles = 5000\n",
    "mc_particles = np.repeat(initial_state_mean, num_particles, axis=1)\n",
    "\n",
    "# FORESEE init\n",
    "sigma_points = np.copy(sigma_points_init)\n",
    "weights = np.copy(weights_init)\n",
    "\n",
    "# Initialize data\n",
    "\n",
    "for t in range(horizon):\n",
    "    \n",
    "    # PILCO Update\n",
    "    pilco_mu, pilco_cov = pilco_propagate(pilco_mu, pilco_cov)\n",
    "\n",
    "    # Monte Carlo Update\n",
    "    mc_particles = mc_propagate(mc_particles)    \n",
    "    \n",
    "    # FORESEE update\n",
    "    sigma_points, weights, full_sigma_points, full_weights = foresee_propagate(sigma_points, weights)\n",
    "    "
   ]
  },
  {
   "cell_type": "code",
   "execution_count": 189,
   "id": "cab43688",
   "metadata": {},
   "outputs": [
    {
     "name": "stdout",
     "output_type": "stream",
     "text": [
      " MC mean:[0.72631912 0.7054531 ] \n",
      " UT mean:[0.71126369 0.71126369] \n",
      " UT mean full:[0.71126369 0.71126369] \n",
      " PILCO mean: [0.7119728 0.7119728] \n",
      " MC cov : \n",
      " [[ 0.44147962 -0.00331298]\n",
      " [-0.00331298  0.43240447]]\n",
      " foresee cov : \n",
      " [[4.23780505e-01 0.00000000e+00]\n",
      " [3.61107107e-35 4.23780505e-01]]\n",
      " foresee_complete cov : \n",
      " [[ 4.23780505e-01 -5.02847661e-07]\n",
      " [-5.02847661e-07  4.23780505e-01]]\n",
      " pilco cov : \n",
      " [[0.18035138 0.        ]\n",
      " [0.         0.18035138]]\n"
     ]
    },
    {
     "data": {
      "image/png": "[encoded data removed]",
      "text/plain": [
       "<Figure size 640x480 with 1 Axes>"
      ]
     },
     "metadata": {},
     "output_type": "display_data"
    }
   ],
   "source": [
    "# Visualize\n",
    "# plt.ion()\n",
    "fig = plt.figure()\n",
    "ax = plt.axes()\n",
    "ax.set_xlabel(\"X\")\n",
    "ax.set_ylabel(\"Y\")\n",
    "\n",
    "plot_mc = plt.scatter(mc_particles[0,:], mc_particles[1,:])\n",
    "plot_foresee = plt.scatter( sigma_points[0,:], sigma_points[1,:], c = 'g' )\n",
    "plot_foresee2 = plt.scatter( full_sigma_points[0,:], full_sigma_points[1,:], c = 'k' )\n",
    "plot_pilco = confidence_ellipse( pilco_mu, pilco_cov, ax, n_std=3.0, edgecolor = 'red' )\n",
    "\n",
    "# compute means\n",
    "print(f\" MC mean:{ np.mean(mc_particles, axis=1) } \")\n",
    "print(f\" UT mean:{ get_mean(sigma_points, weights  )[:,0] } \")\n",
    "print(f\" UT mean full:{ get_mean(full_sigma_points, full_weights  )[:,0] } \")\n",
    "print(f\" PILCO mean: {pilco_mu[:,0]} \")\n",
    "\n",
    "# Compute Cov\n",
    "_, mc_cov = get_mean_cov(mc_particles, np.ones((1,mc_particles.shape[1]))/mc_particles.shape[1])\n",
    "_, foresee_cov = get_mean_cov( sigma_points, weights )\n",
    "_, foresee_complete_cov = get_mean_cov( full_sigma_points, full_weights )\n",
    "\n",
    "print(f\" MC cov : \\n {mc_cov}\")\n",
    "print(f\" foresee cov : \\n {foresee_cov}\")\n",
    "print(f\" foresee_complete cov : \\n {foresee_complete_cov}\")\n",
    "print(f\" pilco cov : \\n {pilco_cov}\")"
   ]
  },
  {
   "cell_type": "code",
   "execution_count": 161,
   "id": "6a711608",
   "metadata": {},
   "outputs": [],
   "source": [
    "def compare_predictions(horizon = 2):\n",
    "    horizon = 3\n",
    "    dt = 0.05\n",
    "    initial_state_mean = np.array([0.0,0.0]).reshape(-1,1)\n",
    "    initial_state_cov = np.zeros((2,2))\n",
    "    sigma_points_init, weights_init = initialize_sigma_points(initial_state_mean)\n",
    "\n",
    "    # PILCO init\n",
    "    pilco_mu, pilco_cov = np.copy(initial_state_mean), np.copy(initial_state_cov)\n",
    "\n",
    "    # Monte Carlo init\n",
    "    num_particles = 5000\n",
    "    mc_particles = np.repeat(initial_state_mean, num_particles, axis=1)\n",
    "\n",
    "    # FORESEE init\n",
    "    sigma_points = np.copy(sigma_points_init)\n",
    "    weights = np.copy(weights_init)\n",
    "\n",
    "    # Initialize data\n",
    "\n",
    "    for t in range(horizon):\n",
    "\n",
    "        # PILCO Update\n",
    "        pilco_mu, pilco_cov = pilco_propagate(pilco_mu, pilco_cov)\n",
    "\n",
    "        # Monte Carlo Update\n",
    "        mc_particles = mc_propagate(mc_particles)    \n",
    "\n",
    "        # FORESEE update\n",
    "        sigma_points, weights, full_sigma_points, full_weights = foresee_propagate(sigma_points, weights)\n",
    "    \n",
    "    return np.mean(mc_particles, axis=1), get_mean(sigma_points, weights  )[:,0], get_mean(full_sigma_points, full_weights  )[:,0], pilco_mu[:,0]"
   ]
  },
  {
   "cell_type": "code",
   "execution_count": 154,
   "id": "bf7c1168",
   "metadata": {},
   "outputs": [],
   "source": [
    "a = np.array([[1],[2]])"
   ]
  },
  {
   "cell_type": "code",
   "execution_count": 155,
   "id": "829a1c54",
   "metadata": {},
   "outputs": [
    {
     "data": {
      "text/plain": [
       "array([[1, 1],\n",
       "       [2, 2]])"
      ]
     },
     "execution_count": 155,
     "metadata": {},
     "output_type": "execute_result"
    }
   ],
   "source": [
    "np.repeat(a, 2, axis=1)"
   ]
  },
  {
   "cell_type": "code",
   "execution_count": 156,
   "id": "1f450af3",
   "metadata": {},
   "outputs": [],
   "source": [
    "import numpy as np\n",
    "from numpy.random import multivariate_normal\n",
    "\n",
    "def f(x,y):\n",
    "    return x+y, .1*x**2 + y*y\n",
    "   \n",
    "mean = (0, 0)\n",
    "p = np.array([[32, 15], [15., 40.]])\n",
    "\n",
    "# Compute linearized mean\n",
    "mean_fx = f(*mean)\n",
    "\n",
    "#generate random points\n",
    "xs, ys = multivariate_normal(mean=mean, cov=p, size=10000).T\n"
   ]
  },
  {
   "cell_type": "code",
   "execution_count": 23,
   "id": "a2079d7b",
   "metadata": {},
   "outputs": [],
   "source": [
    "from filterpy.kalman import unscented_transform, MerweScaledSigmaPoints\n",
    "import scipy.stats as stats\n",
    "\n",
    "def f_nonlinear_xy(x, y):\n",
    "    return np.array([x + y, .1*x**2 + y*y])\n",
    "\n",
    "mean = (0, 0)\n",
    "p = np.array([[32., 15],\n",
    "              [15., 40.]])\n",
    "\n",
    "### create sigma points\n",
    "points = MerweScaledSigmaPoints(n=2, alpha=.1, beta=2., kappa=1.)\n",
    "# Wm, Wc = points.weights()\n",
    "sigmas = points.sigma_points(mean, p)\n",
    "\n",
    "### pass through nonlinear function\n",
    "# sigmas_f = np.zeros((5, 2))\n",
    "# for i in range(5):\n",
    "#     sigmas_f[i] = f_nonlinear_xy(sigmas[i, 0], sigmas[i ,1])\n",
    "\n",
    "# ### pass through unscented transform\n",
    "# ukf_mean, _ = unscented_transform(sigmas_f, Wm, Wc)\n",
    "\n",
    "# #generate random points\n",
    "# xs, ys = multivariate_normal(mean=mean, cov=p, size=5000).T\n",
    "\n",
    "# plot_monte_carlo_mean(xs, ys, f, ukf_mean, 'UKF Mean')\n",
    "# plt.subplot(121)\n",
    "# plt.scatter(sigmas[:,0], sigmas[:,1], c='r', s=40);"
   ]
  },
  {
   "cell_type": "code",
   "execution_count": 24,
   "id": "63c673b4",
   "metadata": {},
   "outputs": [
    {
     "data": {
      "text/plain": [
       "array([[ 0.        ,  0.        ],\n",
       "       [ 0.9797959 ,  0.45927933],\n",
       "       [ 0.        ,  0.99451621],\n",
       "       [-0.9797959 , -0.45927933],\n",
       "       [ 0.        , -0.99451621]])"
      ]
     },
     "execution_count": 24,
     "metadata": {},
     "output_type": "execute_result"
    }
   ],
   "source": [
    "sigmas"
   ]
  },
  {
   "cell_type": "code",
   "execution_count": null,
   "id": "ce4851cd",
   "metadata": {},
   "outputs": [],
   "source": []
  }
 ],
 "metadata": {
  "kernelspec": {
   "display_name": "Python 3 (ipykernel)",
   "language": "python",
   "name": "python3"
  },
  "language_info": {
   "codemirror_mode": {
    "name": "ipython",
    "version": 3
   },
   "file_extension": ".py",
   "mimetype": "text/x-python",
   "name": "python",
   "nbconvert_exporter": "python",
   "pygments_lexer": "ipython3",
   "version": "3.11.4"
  }
 },
 "nbformat": 4,
 "nbformat_minor": 5
}
