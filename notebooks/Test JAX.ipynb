{
 "cells": [
  {
   "cell_type": "code",
   "execution_count": 1,
   "id": "e2305208",
   "metadata": {},
   "outputs": [],
   "source": [
    "import jax.numpy as jnp\n",
    "from jax import grad, jit, vmap, vjp\n",
    "from jax import random\n",
    "import jax"
   ]
  },
  {
   "cell_type": "code",
   "execution_count": 237,
   "id": "d43c5073",
   "metadata": {},
   "outputs": [
    {
     "name": "stdout",
     "output_type": "stream",
     "text": [
      "[-0.3721109   0.26423115 -0.18252768 -0.7368197  -0.44030377 -0.1521442\n",
      " -0.67135346 -0.5908641   0.73168886  0.5673026 ]\n"
     ]
    }
   ],
   "source": [
    "key = random.PRNGKey(0)\n",
    "x = random.normal(key, (10,))\n",
    "print(x)"
   ]
  },
  {
   "cell_type": "code",
   "execution_count": 3,
   "id": "4f1ff6b7",
   "metadata": {},
   "outputs": [
    {
     "name": "stdout",
     "output_type": "stream",
     "text": [
      "110 ms ± 8.06 ms per loop (mean ± std. dev. of 7 runs, 10 loops each)\n"
     ]
    }
   ],
   "source": [
    "size = 3000\n",
    "x = random.normal(key, (size, size), dtype=jnp.float32)\n",
    "%timeit jnp.dot(x, x.T).block_until_ready()  # runs on the GPU"
   ]
  },
  {
   "cell_type": "code",
   "execution_count": 4,
   "id": "3b88b0fd",
   "metadata": {},
   "outputs": [
    {
     "name": "stdout",
     "output_type": "stream",
     "text": [
      "107 ms ± 8.52 ms per loop (mean ± std. dev. of 7 runs, 10 loops each)\n"
     ]
    }
   ],
   "source": [
    "import numpy as np\n",
    "x = np.random.normal(size=(size, size)).astype(np.float32)\n",
    "%timeit jnp.dot(x, x.T).block_until_ready()"
   ]
  },
  {
   "cell_type": "code",
   "execution_count": 5,
   "id": "f690ddf6",
   "metadata": {},
   "outputs": [
    {
     "name": "stdout",
     "output_type": "stream",
     "text": [
      "548 µs ± 91 µs per loop (mean ± std. dev. of 7 runs, 1,000 loops each)\n"
     ]
    }
   ],
   "source": [
    "def selu(x, alpha=1.67, lmbda=1.05):\n",
    "  return lmbda * jnp.where(x > 0, x, alpha * jnp.exp(x) - alpha)\n",
    "\n",
    "x = random.normal(key, (1000000,))\n",
    "%timeit selu(x).block_until_ready()"
   ]
  },
  {
   "cell_type": "code",
   "execution_count": 6,
   "id": "fa16de81",
   "metadata": {},
   "outputs": [
    {
     "name": "stdout",
     "output_type": "stream",
     "text": [
      "157 µs ± 9.56 µs per loop (mean ± std. dev. of 7 runs, 10,000 loops each)\n"
     ]
    }
   ],
   "source": [
    "selu_jit = jit(selu)\n",
    "%timeit selu_jit(x).block_until_ready()"
   ]
  },
  {
   "cell_type": "code",
   "execution_count": 7,
   "id": "d8544778",
   "metadata": {},
   "outputs": [],
   "source": [
    "def sum_logistic(x):\n",
    "  return jnp.sum(1.0 / (1.0 + jnp.exp(-x)))"
   ]
  },
  {
   "cell_type": "code",
   "execution_count": 8,
   "id": "296cbf3c",
   "metadata": {},
   "outputs": [
    {
     "name": "stdout",
     "output_type": "stream",
     "text": [
      "[0.25       0.19661197 0.10499357]\n"
     ]
    }
   ],
   "source": [
    "x_small = jnp.arange(3.)\n",
    "derivative_fn = grad(sum_logistic)\n",
    "print(derivative_fn(x_small))"
   ]
  },
  {
   "cell_type": "code",
   "execution_count": 9,
   "id": "5f677be7",
   "metadata": {},
   "outputs": [
    {
     "name": "stdout",
     "output_type": "stream",
     "text": [
      "[0.24998187 0.1965761  0.10502338]\n"
     ]
    }
   ],
   "source": [
    "def first_finite_differences(f, x):\n",
    "  eps = 1e-3\n",
    "  return jnp.array([(f(x + eps * v) - f(x - eps * v)) / (2 * eps)\n",
    "                   for v in jnp.eye(len(x))])\n",
    "\n",
    "\n",
    "print(first_finite_differences(sum_logistic, x_small))"
   ]
  },
  {
   "cell_type": "code",
   "execution_count": 10,
   "id": "11c7f107",
   "metadata": {},
   "outputs": [
    {
     "name": "stdout",
     "output_type": "stream",
     "text": [
      "-0.0353256\n"
     ]
    }
   ],
   "source": [
    "print(grad(jit(grad(jit(grad(sum_logistic)))))(1.0))"
   ]
  },
  {
   "cell_type": "code",
   "execution_count": 14,
   "id": "f038d210",
   "metadata": {},
   "outputs": [],
   "source": [
    "from jax import jacfwd, jacrev\n",
    "def hessian(fun):\n",
    "  return jit(jacfwd(jacrev(fun)))"
   ]
  },
  {
   "cell_type": "code",
   "execution_count": 36,
   "id": "bfd1f27f",
   "metadata": {},
   "outputs": [],
   "source": [
    "def f(x, y):\n",
    "  return jnp.append(  )"
   ]
  },
  {
   "cell_type": "code",
   "execution_count": 78,
   "id": "9d9c12e6",
   "metadata": {},
   "outputs": [],
   "source": [
    "def f(x):\n",
    "  return jnp.array( [  [ x[0,0]*x[0,0] ], [x[0,0]*x[0,0]*x[0,0]]  ] )"
   ]
  },
  {
   "cell_type": "code",
   "execution_count": 90,
   "id": "53a633a5",
   "metadata": {},
   "outputs": [],
   "source": [
    "primals, f_vjp = vjp(f, jnp.array([[3.22]]))"
   ]
  },
  {
   "cell_type": "code",
   "execution_count": 91,
   "id": "a221afd0",
   "metadata": {},
   "outputs": [
    {
     "data": {
      "text/plain": [
       "Array([[10.368401],\n",
       "       [33.38625 ]], dtype=float32)"
      ]
     },
     "execution_count": 91,
     "metadata": {},
     "output_type": "execute_result"
    }
   ],
   "source": [
    "primals"
   ]
  },
  {
   "cell_type": "code",
   "execution_count": 92,
   "id": "0a653d00",
   "metadata": {},
   "outputs": [
    {
     "data": {
      "text/plain": [
       "Partial(_HashableCallableShim(functools.partial(<function _vjp_pullback_wrapper at 0x7fc0132f4860>, 'f', [dtype('float32')], [(2, 1)], (PyTreeDef(*), PyTreeDef((*,))))), Partial(_HashableCallableShim(functools.partial(<function vjp.<locals>.unbound_vjp at 0x7fc0001c4a40>, [(ShapedArray(float32[2,1]), None)], { lambda a:i32[2] b:i32[2] c:f32[] d:f32[] e:i32[2] f:i32[2] g:f32[] h:f32[] i:i32[2]\n",
       "    j:f32[] k:f32[]; l:f32[1,1]. let\n",
       "    m:f32[] = gather[\n",
       "      dimension_numbers=GatherDimensionNumbers(offset_dims=(), collapsed_slice_dims=(0, 1), start_index_map=(0, 1))\n",
       "      fill_value=None\n",
       "      indices_are_sorted=True\n",
       "      mode=GatherScatterMode.PROMISE_IN_BOUNDS\n",
       "      slice_sizes=(1, 1)\n",
       "      unique_indices=True\n",
       "    ] l a\n",
       "    n:f32[] = gather[\n",
       "      dimension_numbers=GatherDimensionNumbers(offset_dims=(), collapsed_slice_dims=(0, 1), start_index_map=(0, 1))\n",
       "      fill_value=None\n",
       "      indices_are_sorted=True\n",
       "      mode=GatherScatterMode.PROMISE_IN_BOUNDS\n",
       "      slice_sizes=(1, 1)\n",
       "      unique_indices=True\n",
       "    ] l b\n",
       "    o:f32[] = pjit[\n",
       "      jaxpr={ lambda ; p:f32[] q:f32[] r:f32[] s:f32[]. let\n",
       "          t:f32[] = mul p r\n",
       "          u:f32[] = mul s q\n",
       "          v:f32[] = add_any t u\n",
       "        in (v,) }\n",
       "      name=fn\n",
       "    ] m n c d\n",
       "    w:f32[1] = broadcast_in_dim[broadcast_dimensions=() shape=(1,)] o\n",
       "    x:f32[1,1] = broadcast_in_dim[broadcast_dimensions=(1,) shape=(1, 1)] w\n",
       "    y:f32[] = gather[\n",
       "      dimension_numbers=GatherDimensionNumbers(offset_dims=(), collapsed_slice_dims=(0, 1), start_index_map=(0, 1))\n",
       "      fill_value=None\n",
       "      indices_are_sorted=True\n",
       "      mode=GatherScatterMode.PROMISE_IN_BOUNDS\n",
       "      slice_sizes=(1, 1)\n",
       "      unique_indices=True\n",
       "    ] l e\n",
       "    z:f32[] = gather[\n",
       "      dimension_numbers=GatherDimensionNumbers(offset_dims=(), collapsed_slice_dims=(0, 1), start_index_map=(0, 1))\n",
       "      fill_value=None\n",
       "      indices_are_sorted=True\n",
       "      mode=GatherScatterMode.PROMISE_IN_BOUNDS\n",
       "      slice_sizes=(1, 1)\n",
       "      unique_indices=True\n",
       "    ] l f\n",
       "    ba:f32[] = pjit[\n",
       "      jaxpr={ lambda ; p:f32[] q:f32[] r:f32[] s:f32[]. let\n",
       "          t:f32[] = mul p r\n",
       "          u:f32[] = mul s q\n",
       "          v:f32[] = add_any t u\n",
       "        in (v,) }\n",
       "      name=fn\n",
       "    ] y z g h\n",
       "    bb:f32[] = gather[\n",
       "      dimension_numbers=GatherDimensionNumbers(offset_dims=(), collapsed_slice_dims=(0, 1), start_index_map=(0, 1))\n",
       "      fill_value=None\n",
       "      indices_are_sorted=True\n",
       "      mode=GatherScatterMode.PROMISE_IN_BOUNDS\n",
       "      slice_sizes=(1, 1)\n",
       "      unique_indices=True\n",
       "    ] l i\n",
       "    bc:f32[] = pjit[\n",
       "      jaxpr={ lambda ; p:f32[] q:f32[] r:f32[] s:f32[]. let\n",
       "          t:f32[] = mul p r\n",
       "          u:f32[] = mul s q\n",
       "          v:f32[] = add_any t u\n",
       "        in (v,) }\n",
       "      name=fn\n",
       "    ] ba bb j k\n",
       "    bd:f32[1] = broadcast_in_dim[broadcast_dimensions=() shape=(1,)] bc\n",
       "    be:f32[1,1] = broadcast_in_dim[broadcast_dimensions=(1,) shape=(1, 1)] bd\n",
       "    bf:f32[2,1] = concatenate[dimension=0] x be\n",
       "  in (bf,) })), (Array([0, 0], dtype=int32), Array([0, 0], dtype=int32), Array(3.22, dtype=float32), Array(3.22, dtype=float32), Array([0, 0], dtype=int32), Array([0, 0], dtype=int32), Array(3.22, dtype=float32), Array(3.22, dtype=float32), Array([0, 0], dtype=int32), Array(3.22, dtype=float32), Array(10.368401, dtype=float32))))"
      ]
     },
     "execution_count": 92,
     "metadata": {},
     "output_type": "execute_result"
    }
   ],
   "source": [
    "f_vjp"
   ]
  },
  {
   "cell_type": "code",
   "execution_count": 93,
   "id": "c1b251b8",
   "metadata": {},
   "outputs": [
    {
     "data": {
      "text/plain": [
       "(Array([[6.44]], dtype=float32),)"
      ]
     },
     "execution_count": 93,
     "metadata": {},
     "output_type": "execute_result"
    }
   ],
   "source": [
    "f_vjp(jnp.array([[1.0],[0.0]]))"
   ]
  },
  {
   "cell_type": "code",
   "execution_count": 97,
   "id": "e70ef175",
   "metadata": {},
   "outputs": [
    {
     "data": {
      "text/plain": [
       "31.105200000000004"
      ]
     },
     "execution_count": 97,
     "metadata": {},
     "output_type": "execute_result"
    }
   ],
   "source": [
    "x = 3.22\n",
    "3*x*x"
   ]
  },
  {
   "cell_type": "code",
   "execution_count": 98,
   "id": "4fc012fd",
   "metadata": {},
   "outputs": [
    {
     "data": {
      "text/plain": [
       "6.44"
      ]
     },
     "execution_count": 98,
     "metadata": {},
     "output_type": "execute_result"
    }
   ],
   "source": [
    "2*x"
   ]
  },
  {
   "cell_type": "code",
   "execution_count": 99,
   "id": "bff3931f",
   "metadata": {},
   "outputs": [
    {
     "data": {
      "text/plain": [
       "(Array([[31.105202]], dtype=float32),)"
      ]
     },
     "execution_count": 99,
     "metadata": {},
     "output_type": "execute_result"
    }
   ],
   "source": [
    "f_vjp(jnp.array([[0.0],[1.0]]))"
   ]
  },
  {
   "cell_type": "code",
   "execution_count": 100,
   "id": "98179775",
   "metadata": {},
   "outputs": [],
   "source": [
    "primals, tangents = vjp(f, jnp.array([[3.22]]))"
   ]
  },
  {
   "cell_type": "code",
   "execution_count": 101,
   "id": "510c45ba",
   "metadata": {},
   "outputs": [
    {
     "data": {
      "text/plain": [
       "Array([[10.368401],\n",
       "       [33.38625 ]], dtype=float32)"
      ]
     },
     "execution_count": 101,
     "metadata": {},
     "output_type": "execute_result"
    }
   ],
   "source": [
    "primals"
   ]
  },
  {
   "cell_type": "code",
   "execution_count": 103,
   "id": "926fdc84",
   "metadata": {},
   "outputs": [
    {
     "data": {
      "text/plain": [
       "(Array([[31.105202]], dtype=float32),)"
      ]
     },
     "execution_count": 103,
     "metadata": {},
     "output_type": "execute_result"
    }
   ],
   "source": [
    "tangents(jnp.array([[0.0],[1.0]]))"
   ]
  },
  {
   "cell_type": "code",
   "execution_count": 105,
   "id": "5c0a4ceb",
   "metadata": {},
   "outputs": [
    {
     "data": {
      "text/plain": [
       "Array(0.07065082, dtype=float32, weak_type=True)"
      ]
     },
     "execution_count": 105,
     "metadata": {},
     "output_type": "execute_result"
    }
   ],
   "source": [
    "grad( jnp.tanh )(2.0)"
   ]
  },
  {
   "cell_type": "code",
   "execution_count": 108,
   "id": "0e8bac96",
   "metadata": {},
   "outputs": [
    {
     "data": {
      "text/plain": [
       "Array([[0.16012816, 0.32025632],\n",
       "       [0.48038447, 0.8006408 ]], dtype=float32)"
      ]
     },
     "execution_count": 108,
     "metadata": {},
     "output_type": "execute_result"
    }
   ],
   "source": [
    "grad( jnp.linalg.norm )( jnp.array([[1.0, 2.0],[3.0, 5.0]]) )"
   ]
  },
  {
   "cell_type": "code",
   "execution_count": 111,
   "id": "220a68dc",
   "metadata": {},
   "outputs": [
    {
     "ename": "TypeError",
     "evalue": "Gradient only defined for scalar-output functions. Output had shape: (2, 2).",
     "output_type": "error",
     "traceback": [
      "\u001b[0;31m---------------------------------------------------------------------------\u001b[0m",
      "\u001b[0;31mTypeError\u001b[0m                                 Traceback (most recent call last)",
      "Cell \u001b[0;32mIn[111], line 1\u001b[0m\n\u001b[0;32m----> 1\u001b[0m \u001b[43mgrad\u001b[49m\u001b[43m(\u001b[49m\u001b[43m \u001b[49m\u001b[43mjnp\u001b[49m\u001b[38;5;241;43m.\u001b[39;49m\u001b[43mlinalg\u001b[49m\u001b[38;5;241;43m.\u001b[39;49m\u001b[43minv\u001b[49m\u001b[43m \u001b[49m\u001b[43m)\u001b[49m\u001b[43m(\u001b[49m\u001b[43m \u001b[49m\u001b[43mjnp\u001b[49m\u001b[38;5;241;43m.\u001b[39;49m\u001b[43marray\u001b[49m\u001b[43m(\u001b[49m\u001b[43m[\u001b[49m\u001b[43m[\u001b[49m\u001b[38;5;241;43m1.0\u001b[39;49m\u001b[43m,\u001b[49m\u001b[43m \u001b[49m\u001b[38;5;241;43m2.0\u001b[39;49m\u001b[43m]\u001b[49m\u001b[43m,\u001b[49m\u001b[43m[\u001b[49m\u001b[38;5;241;43m3.0\u001b[39;49m\u001b[43m,\u001b[49m\u001b[43m \u001b[49m\u001b[38;5;241;43m5.0\u001b[39;49m\u001b[43m]\u001b[49m\u001b[43m]\u001b[49m\u001b[43m)\u001b[49m\u001b[43m \u001b[49m\u001b[43m)\u001b[49m\n",
      "    \u001b[0;31m[... skipping hidden 4 frame]\u001b[0m\n",
      "File \u001b[0;32m~/Desktop/Research/FORESEE/venv311/lib/python3.11/site-packages/jax/_src/api.py:759\u001b[0m, in \u001b[0;36m_check_scalar\u001b[0;34m(x)\u001b[0m\n\u001b[1;32m    757\u001b[0m \u001b[38;5;28;01mif\u001b[39;00m \u001b[38;5;28misinstance\u001b[39m(aval, ShapedArray):\n\u001b[1;32m    758\u001b[0m   \u001b[38;5;28;01mif\u001b[39;00m aval\u001b[38;5;241m.\u001b[39mshape \u001b[38;5;241m!=\u001b[39m ():\n\u001b[0;32m--> 759\u001b[0m     \u001b[38;5;28;01mraise\u001b[39;00m \u001b[38;5;167;01mTypeError\u001b[39;00m(msg(\u001b[38;5;124mf\u001b[39m\u001b[38;5;124m\"\u001b[39m\u001b[38;5;124mhad shape: \u001b[39m\u001b[38;5;132;01m{\u001b[39;00maval\u001b[38;5;241m.\u001b[39mshape\u001b[38;5;132;01m}\u001b[39;00m\u001b[38;5;124m\"\u001b[39m))\n\u001b[1;32m    760\u001b[0m \u001b[38;5;28;01melse\u001b[39;00m:\n\u001b[1;32m    761\u001b[0m   \u001b[38;5;28;01mraise\u001b[39;00m \u001b[38;5;167;01mTypeError\u001b[39;00m(msg(\u001b[38;5;124mf\u001b[39m\u001b[38;5;124m\"\u001b[39m\u001b[38;5;124mhad abstract value \u001b[39m\u001b[38;5;132;01m{\u001b[39;00maval\u001b[38;5;132;01m}\u001b[39;00m\u001b[38;5;124m\"\u001b[39m))\n",
      "\u001b[0;31mTypeError\u001b[0m: Gradient only defined for scalar-output functions. Output had shape: (2, 2)."
     ]
    }
   ],
   "source": [
    "grad( jnp.linalg.inv )( jnp.array([[1.0, 2.0],[3.0, 5.0]]) )"
   ]
  },
  {
   "cell_type": "code",
   "execution_count": 115,
   "id": "0ae782b3",
   "metadata": {},
   "outputs": [],
   "source": [
    "def inverse_first(x):\n",
    "    return jnp.linalg.inv(x)[0,0]"
   ]
  },
  {
   "cell_type": "code",
   "execution_count": 125,
   "id": "51ad005c",
   "metadata": {},
   "outputs": [],
   "source": [
    "grad_inverse = grad( inverse_first )"
   ]
  },
  {
   "cell_type": "code",
   "execution_count": 123,
   "id": "486d48a3",
   "metadata": {},
   "outputs": [
    {
     "name": "stdout",
     "output_type": "stream",
     "text": [
      "94.2 µs ± 3.81 µs per loop (mean ± std. dev. of 7 runs, 10,000 loops each)\n"
     ]
    }
   ],
   "source": [
    "%timeit grad_inverse( jnp.array([[1.0, 2.0],[3.0, 5.0]]) )"
   ]
  },
  {
   "cell_type": "code",
   "execution_count": 126,
   "id": "7066a51c",
   "metadata": {},
   "outputs": [
    {
     "name": "stdout",
     "output_type": "stream",
     "text": [
      "2.03 ms ± 44 µs per loop (mean ± std. dev. of 7 runs, 100 loops each)\n"
     ]
    }
   ],
   "source": [
    "%timeit grad_inverse( jnp.array([[1.0, 2.0],[3.0, 5.0]]) )"
   ]
  },
  {
   "cell_type": "code",
   "execution_count": 121,
   "id": "a703fb33",
   "metadata": {},
   "outputs": [
    {
     "data": {
      "text/plain": [
       "Array([[-5.0000014,  2.0000005],\n",
       "       [ 3.0000007, -1.0000002]], dtype=float32)"
      ]
     },
     "execution_count": 121,
     "metadata": {},
     "output_type": "execute_result"
    }
   ],
   "source": [
    "jnp.linalg.inv(jnp.array([[1.0, 2.0],[3.0, 5.0]]))"
   ]
  },
  {
   "cell_type": "code",
   "execution_count": 127,
   "id": "f56175c5",
   "metadata": {},
   "outputs": [],
   "source": [
    "def loop_example(x):\n",
    "    for i in range(1000):\n",
    "        x = x + 1\n",
    "    return x"
   ]
  },
  {
   "cell_type": "code",
   "execution_count": 128,
   "id": "0830d77c",
   "metadata": {},
   "outputs": [
    {
     "name": "stdout",
     "output_type": "stream",
     "text": [
      "19.1 µs ± 806 ns per loop (mean ± std. dev. of 7 runs, 100,000 loops each)\n"
     ]
    }
   ],
   "source": [
    "%timeit loop_example(2)"
   ]
  },
  {
   "cell_type": "code",
   "execution_count": 129,
   "id": "d65df996",
   "metadata": {},
   "outputs": [],
   "source": [
    "loop_example_jit = jit( loop_example )"
   ]
  },
  {
   "cell_type": "code",
   "execution_count": 132,
   "id": "6a2dfdcc",
   "metadata": {},
   "outputs": [
    {
     "data": {
      "text/plain": [
       "Array(1002, dtype=int32, weak_type=True)"
      ]
     },
     "execution_count": 132,
     "metadata": {},
     "output_type": "execute_result"
    }
   ],
   "source": [
    "loop_example_jit(2)"
   ]
  },
  {
   "cell_type": "code",
   "execution_count": 131,
   "id": "37d2065d",
   "metadata": {},
   "outputs": [
    {
     "name": "stdout",
     "output_type": "stream",
     "text": [
      "2.92 µs ± 91.6 ns per loop (mean ± std. dev. of 7 runs, 100,000 loops each)\n"
     ]
    }
   ],
   "source": [
    "%timeit loop_example_jit(2)"
   ]
  },
  {
   "cell_type": "code",
   "execution_count": 133,
   "id": "bfbb40aa",
   "metadata": {},
   "outputs": [],
   "source": [
    "def if_example(x):\n",
    "    for i in range(1000):\n",
    "        if x<10:\n",
    "            x = x + 1\n",
    "        else:\n",
    "            x = x - 0.5\n",
    "    return x"
   ]
  },
  {
   "cell_type": "code",
   "execution_count": 134,
   "id": "278061ac",
   "metadata": {},
   "outputs": [
    {
     "name": "stdout",
     "output_type": "stream",
     "text": [
      "38.7 µs ± 979 ns per loop (mean ± std. dev. of 7 runs, 10,000 loops each)\n"
     ]
    }
   ],
   "source": [
    "%timeit if_example(2)"
   ]
  },
  {
   "cell_type": "code",
   "execution_count": 137,
   "id": "0a6ce4c6",
   "metadata": {},
   "outputs": [],
   "source": [
    "gradd = grad(if_example)"
   ]
  },
  {
   "cell_type": "code",
   "execution_count": 140,
   "id": "c81c30e5",
   "metadata": {},
   "outputs": [
    {
     "data": {
      "text/plain": [
       "Array(1., dtype=float32, weak_type=True)"
      ]
     },
     "execution_count": 140,
     "metadata": {},
     "output_type": "execute_result"
    }
   ],
   "source": [
    "gradd(2.0)"
   ]
  },
  {
   "cell_type": "code",
   "execution_count": 141,
   "id": "872c963e",
   "metadata": {},
   "outputs": [
    {
     "ename": "ConcretizationTypeError",
     "evalue": "Abstract tracer value encountered where concrete value is expected: Traced<ShapedArray(bool[], weak_type=True)>with<DynamicJaxprTrace(level=1/0)>\nThe problem arose with the `bool` function. \nThe error occurred while tracing the function if_example at /tmp/ipykernel_19980/625940139.py:1 for jit. This concrete value was not available in Python because it depends on the value of the argument x.\n\nSee https://jax.readthedocs.io/en/latest/errors.html#jax.errors.ConcretizationTypeError",
     "output_type": "error",
     "traceback": [
      "\u001b[0;31m---------------------------------------------------------------------------\u001b[0m",
      "\u001b[0;31mConcretizationTypeError\u001b[0m                   Traceback (most recent call last)",
      "Cell \u001b[0;32mIn[141], line 2\u001b[0m\n\u001b[1;32m      1\u001b[0m if_example_jit \u001b[38;5;241m=\u001b[39m jit( if_example )\n\u001b[0;32m----> 2\u001b[0m \u001b[43mif_example_jit\u001b[49m\u001b[43m(\u001b[49m\u001b[38;5;241;43m2\u001b[39;49m\u001b[43m)\u001b[49m\n",
      "    \u001b[0;31m[... skipping hidden 12 frame]\u001b[0m\n",
      "Cell \u001b[0;32mIn[133], line 3\u001b[0m, in \u001b[0;36mif_example\u001b[0;34m(x)\u001b[0m\n\u001b[1;32m      1\u001b[0m \u001b[38;5;28;01mdef\u001b[39;00m \u001b[38;5;21mif_example\u001b[39m(x):\n\u001b[1;32m      2\u001b[0m     \u001b[38;5;28;01mfor\u001b[39;00m i \u001b[38;5;129;01min\u001b[39;00m \u001b[38;5;28mrange\u001b[39m(\u001b[38;5;241m1000\u001b[39m):\n\u001b[0;32m----> 3\u001b[0m         \u001b[38;5;28;01mif\u001b[39;00m x\u001b[38;5;241m<\u001b[39m\u001b[38;5;241m10\u001b[39m:\n\u001b[1;32m      4\u001b[0m             x \u001b[38;5;241m=\u001b[39m x \u001b[38;5;241m+\u001b[39m \u001b[38;5;241m1\u001b[39m\n\u001b[1;32m      5\u001b[0m         \u001b[38;5;28;01melse\u001b[39;00m:\n",
      "    \u001b[0;31m[... skipping hidden 1 frame]\u001b[0m\n",
      "File \u001b[0;32m~/Desktop/Research/FORESEE/venv311/lib/python3.11/site-packages/jax/_src/core.py:1369\u001b[0m, in \u001b[0;36mconcretization_function_error.<locals>.error\u001b[0;34m(self, arg)\u001b[0m\n\u001b[1;32m   1368\u001b[0m \u001b[38;5;28;01mdef\u001b[39;00m \u001b[38;5;21merror\u001b[39m(\u001b[38;5;28mself\u001b[39m, arg):\n\u001b[0;32m-> 1369\u001b[0m   \u001b[38;5;28;01mraise\u001b[39;00m ConcretizationTypeError(arg, fname_context)\n",
      "\u001b[0;31mConcretizationTypeError\u001b[0m: Abstract tracer value encountered where concrete value is expected: Traced<ShapedArray(bool[], weak_type=True)>with<DynamicJaxprTrace(level=1/0)>\nThe problem arose with the `bool` function. \nThe error occurred while tracing the function if_example at /tmp/ipykernel_19980/625940139.py:1 for jit. This concrete value was not available in Python because it depends on the value of the argument x.\n\nSee https://jax.readthedocs.io/en/latest/errors.html#jax.errors.ConcretizationTypeError"
     ]
    }
   ],
   "source": [
    "if_example_jit = jit( if_example )\n",
    "if_example_jit(2)"
   ]
  },
  {
   "cell_type": "code",
   "execution_count": 156,
   "id": "577fc42c",
   "metadata": {},
   "outputs": [],
   "source": [
    "def func_1(x):\n",
    "    return jnp.sin(x)\n",
    "\n",
    "def func_main(x):\n",
    "    for i in range(1000):\n",
    "        x = x + func_1(x)"
   ]
  },
  {
   "cell_type": "code",
   "execution_count": 157,
   "id": "bc55d7ed",
   "metadata": {},
   "outputs": [],
   "source": [
    "func_main_jit = jit(func_main)"
   ]
  },
  {
   "cell_type": "code",
   "execution_count": 158,
   "id": "3eec4a3f",
   "metadata": {},
   "outputs": [],
   "source": [
    "func_main_jit(2)"
   ]
  },
  {
   "cell_type": "code",
   "execution_count": 159,
   "id": "bf9127e1",
   "metadata": {},
   "outputs": [
    {
     "name": "stdout",
     "output_type": "stream",
     "text": [
      "6.28 ms ± 88.5 µs per loop (mean ± std. dev. of 7 runs, 100 loops each)\n"
     ]
    }
   ],
   "source": [
    "%timeit func_main(2)"
   ]
  },
  {
   "cell_type": "code",
   "execution_count": 160,
   "id": "9a8be748",
   "metadata": {},
   "outputs": [
    {
     "name": "stdout",
     "output_type": "stream",
     "text": [
      "122 µs ± 1.83 µs per loop (mean ± std. dev. of 7 runs, 10,000 loops each)\n"
     ]
    }
   ],
   "source": [
    "%timeit func_main_jit(2)"
   ]
  },
  {
   "cell_type": "code",
   "execution_count": 161,
   "id": "a60d4e8b",
   "metadata": {},
   "outputs": [
    {
     "name": "stdout",
     "output_type": "stream",
     "text": [
      "121 µs ± 1.53 µs per loop (mean ± std. dev. of 7 runs, 10,000 loops each)\n"
     ]
    }
   ],
   "source": [
    "%timeit func_main_jit(2)"
   ]
  },
  {
   "cell_type": "code",
   "execution_count": 162,
   "id": "fad38a13",
   "metadata": {},
   "outputs": [],
   "source": [
    "def generate_psd_params():\n",
    "    n = 4\n",
    "    N = 50\n",
    "    \n",
    "    diag = np.random.rand(n) + n\n",
    "    off_diag = np.random.rand(int( (n**2-n)/2.0 ))\n",
    "    params = np.append(diag, off_diag, axis = 0).reshape(1,-1)\n",
    "    \n",
    "    for i in range(1,50):\n",
    "        # Diagonal elements\n",
    "        params_temp = np.random.rand( int(n + (n**2 -n)/2.0) ).reshape(1,-1)\n",
    "        \n",
    "        # ## lower Off-diagonal\n",
    "        # off_diag = np.random.rand(int( (n**2-n)/2.0 ))\n",
    "        \n",
    "        # params_temp = np.append(diag, off_diag, axis = 0).reshape(1,-1)\n",
    "        params = np.append( params, params_temp, axis = 0 )\n",
    "    \n",
    "    return params"
   ]
  },
  {
   "cell_type": "code",
   "execution_count": 163,
   "id": "c0ef5948",
   "metadata": {},
   "outputs": [],
   "source": [
    "sigma = generate_psd_params()"
   ]
  },
  {
   "cell_type": "code",
   "execution_count": 165,
   "id": "6c34c9f9",
   "metadata": {},
   "outputs": [
    {
     "data": {
      "text/plain": [
       "(50, 10)"
      ]
     },
     "execution_count": 165,
     "metadata": {},
     "output_type": "execute_result"
    }
   ],
   "source": [
    "sigma.shape"
   ]
  },
  {
   "cell_type": "code",
   "execution_count": 166,
   "id": "3890f3cc",
   "metadata": {},
   "outputs": [],
   "source": [
    "from jax import random\n",
    "key = random.PRNGKey(0)"
   ]
  },
  {
   "cell_type": "code",
   "execution_count": 169,
   "id": "e227f008",
   "metadata": {},
   "outputs": [
    {
     "data": {
      "text/plain": [
       "Array(0.41845703, dtype=float32)"
      ]
     },
     "execution_count": 169,
     "metadata": {},
     "output_type": "execute_result"
    }
   ],
   "source": [
    "random.uniform(key)"
   ]
  },
  {
   "cell_type": "code",
   "execution_count": 170,
   "id": "856deaab",
   "metadata": {},
   "outputs": [
    {
     "data": {
      "text/plain": [
       "Array(0.41845703, dtype=float32)"
      ]
     },
     "execution_count": 170,
     "metadata": {},
     "output_type": "execute_result"
    }
   ],
   "source": [
    "random.uniform(key)"
   ]
  },
  {
   "cell_type": "code",
   "execution_count": 171,
   "id": "12ce03a3",
   "metadata": {},
   "outputs": [
    {
     "data": {
      "text/plain": [
       "Array([[0.57450044, 0.09968603],\n",
       "       [0.7419659 , 0.8941783 ],\n",
       "       [0.59656656, 0.45325184]], dtype=float32)"
      ]
     },
     "execution_count": 171,
     "metadata": {},
     "output_type": "execute_result"
    }
   ],
   "source": [
    "random.uniform(key, shape=(3,2))"
   ]
  },
  {
   "cell_type": "code",
   "execution_count": 176,
   "id": "11517085",
   "metadata": {},
   "outputs": [
    {
     "data": {
      "text/plain": [
       "Array([0.9653214 , 0.31468165, 0.63302994], dtype=float32)"
      ]
     },
     "execution_count": 176,
     "metadata": {},
     "output_type": "execute_result"
    }
   ],
   "source": [
    "random.uniform(key, shape=(3,1))[:,0]"
   ]
  },
  {
   "cell_type": "code",
   "execution_count": 183,
   "id": "117da36f",
   "metadata": {},
   "outputs": [],
   "source": [
    "a = jnp.array([[ 1, 1, 1 ],[1, 1, 1]])\n",
    "b = jnp.array([[1,2,3]])"
   ]
  },
  {
   "cell_type": "code",
   "execution_count": 184,
   "id": "bf750c77",
   "metadata": {},
   "outputs": [
    {
     "data": {
      "text/plain": [
       "Array([[1, 1, 1],\n",
       "       [1, 1, 1]], dtype=int32)"
      ]
     },
     "execution_count": 184,
     "metadata": {},
     "output_type": "execute_result"
    }
   ],
   "source": [
    "a"
   ]
  },
  {
   "cell_type": "code",
   "execution_count": 185,
   "id": "8113f75c",
   "metadata": {},
   "outputs": [
    {
     "data": {
      "text/plain": [
       "Array([[1, 2, 3]], dtype=int32)"
      ]
     },
     "execution_count": 185,
     "metadata": {},
     "output_type": "execute_result"
    }
   ],
   "source": [
    "b"
   ]
  },
  {
   "cell_type": "code",
   "execution_count": 186,
   "id": "da3a285e",
   "metadata": {},
   "outputs": [
    {
     "data": {
      "text/plain": [
       "Array([[1, 2, 3],\n",
       "       [1, 2, 3]], dtype=int32)"
      ]
     },
     "execution_count": 186,
     "metadata": {},
     "output_type": "execute_result"
    }
   ],
   "source": [
    "a * b"
   ]
  },
  {
   "cell_type": "code",
   "execution_count": 190,
   "id": "27052dcd",
   "metadata": {},
   "outputs": [
    {
     "data": {
      "text/plain": [
       "Array([6, 6], dtype=int32)"
      ]
     },
     "execution_count": 190,
     "metadata": {},
     "output_type": "execute_result"
    }
   ],
   "source": [
    "jnp.sum(a*b, axis=1)"
   ]
  },
  {
   "cell_type": "code",
   "execution_count": 195,
   "id": "1dbe3fe5",
   "metadata": {},
   "outputs": [],
   "source": [
    "x = jnp.array([[1],[1]])"
   ]
  },
  {
   "cell_type": "code",
   "execution_count": 196,
   "id": "58f6b2af",
   "metadata": {},
   "outputs": [
    {
     "data": {
      "text/plain": [
       "Array([[1, 1, 1],\n",
       "       [1, 1, 1]], dtype=int32)"
      ]
     },
     "execution_count": 196,
     "metadata": {},
     "output_type": "execute_result"
    }
   ],
   "source": [
    "jnp.repeat( x, 3, axis=1 )"
   ]
  },
  {
   "cell_type": "code",
   "execution_count": 197,
   "id": "6e61de77",
   "metadata": {},
   "outputs": [
    {
     "data": {
      "text/plain": [
       "(2, 1)"
      ]
     },
     "execution_count": 197,
     "metadata": {},
     "output_type": "execute_result"
    }
   ],
   "source": [
    "x.shape"
   ]
  },
  {
   "cell_type": "code",
   "execution_count": 198,
   "id": "6e54bb8f",
   "metadata": {},
   "outputs": [
    {
     "data": {
      "text/plain": [
       "Array([[1],\n",
       "       [1]], dtype=int32)"
      ]
     },
     "execution_count": 198,
     "metadata": {},
     "output_type": "execute_result"
    }
   ],
   "source": [
    "x"
   ]
  },
  {
   "cell_type": "code",
   "execution_count": 199,
   "id": "7883df89",
   "metadata": {},
   "outputs": [
    {
     "data": {
      "text/plain": [
       "Array([[1, 1, 1],\n",
       "       [1, 1, 1]], dtype=int32)"
      ]
     },
     "execution_count": 199,
     "metadata": {},
     "output_type": "execute_result"
    }
   ],
   "source": [
    "a"
   ]
  },
  {
   "cell_type": "code",
   "execution_count": 201,
   "id": "f1c76010",
   "metadata": {},
   "outputs": [
    {
     "data": {
      "text/plain": [
       "Array([1, 1], dtype=int32)"
      ]
     },
     "execution_count": 201,
     "metadata": {},
     "output_type": "execute_result"
    }
   ],
   "source": [
    "a[:,1]"
   ]
  },
  {
   "cell_type": "code",
   "execution_count": 250,
   "id": "a6ed7e54",
   "metadata": {},
   "outputs": [],
   "source": [
    "import os\n",
    "os.environ[\"JAX_PLATFORM_NAME\"] = \"cpu\""
   ]
  },
  {
   "cell_type": "code",
   "execution_count": 251,
   "id": "9e5b0c47",
   "metadata": {},
   "outputs": [],
   "source": [
    "def f1(x):\n",
    "    return jax.scipy.linalg.sqrtm(x)[0,0]"
   ]
  },
  {
   "cell_type": "code",
   "execution_count": 252,
   "id": "c6882d24",
   "metadata": {},
   "outputs": [],
   "source": [
    "f1grad = grad(f1)"
   ]
  },
  {
   "cell_type": "code",
   "execution_count": 253,
   "id": "264ab106",
   "metadata": {},
   "outputs": [],
   "source": [
    "f1_jit = jit(f1)\n",
    "f1grad_jit = jit(f1grad)"
   ]
  },
  {
   "cell_type": "code",
   "execution_count": 254,
   "id": "54a10692",
   "metadata": {},
   "outputs": [
    {
     "data": {
      "text/plain": [
       "Array(1.+0.j, dtype=complex64)"
      ]
     },
     "execution_count": 254,
     "metadata": {},
     "output_type": "execute_result"
    }
   ],
   "source": [
    "f1(jnp.array([[1.0]]))"
   ]
  },
  {
   "cell_type": "code",
   "execution_count": 255,
   "id": "3d1b22e7",
   "metadata": {},
   "outputs": [
    {
     "name": "stdout",
     "output_type": "stream",
     "text": [
      "Unexpected exception formatting exception. Falling back to standard exception\n"
     ]
    },
    {
     "name": "stderr",
     "output_type": "stream",
     "text": [
      "Traceback (most recent call last):\n",
      "  File \"<frozen runpy>\", line 173, in _run_module_as_main\n",
      "  File \"<frozen runpy>\", line 65, in _run_code\n",
      "  File \"/home/hardik/Desktop/Research/FORESEE/venv311/lib/python3.11/site-packages/ipykernel_launcher.py\", line 0, in <module>\n",
      "  File \"/home/hardik/Desktop/Research/FORESEE/venv311/lib/python3.11/site-packages/traitlets/config/application.py\", line 1035, in launch_instance\n",
      "    @classmethod\n",
      "    \n",
      "  File \"/home/hardik/Desktop/Research/FORESEE/venv311/lib/python3.11/site-packages/ipykernel/kernelapp.py\", line 706, in start\n",
      "    def start(self):\n",
      "    \n",
      "  File \"/home/hardik/Desktop/Research/FORESEE/venv311/lib/python3.11/site-packages/tornado/platform/asyncio.py\", line 208, in start\n",
      "    def start(self) -> None:\n",
      "    \n",
      "  File \"/usr/lib/python3.11/asyncio/base_events.py\", line 593, in run_forever\n",
      "    def run_forever(self):\n",
      "    \n",
      "  File \"/usr/lib/python3.11/asyncio/base_events.py\", line 1845, in _run_once\n",
      "    def _run_once(self):\n",
      "    \n",
      "  File \"/usr/lib/python3.11/asyncio/events.py\", line 78, in _run\n",
      "    def _run(self):\n",
      "    \n",
      "  File \"/home/hardik/Desktop/Research/FORESEE/venv311/lib/python3.11/site-packages/ipykernel/kernelbase.py\", line 504, in dispatch_queue\n",
      "    async def dispatch_queue(self):\n",
      "    \n",
      "  File \"/home/hardik/Desktop/Research/FORESEE/venv311/lib/python3.11/site-packages/ipykernel/kernelbase.py\", line 490, in process_one\n",
      "    async def process_one(self, wait=True):\n",
      "    \n",
      "  File \"/home/hardik/Desktop/Research/FORESEE/venv311/lib/python3.11/site-packages/ipykernel/kernelbase.py\", line 360, in dispatch_shell\n",
      "    async def dispatch_shell(self, msg):\n",
      "    \n",
      "  File \"/home/hardik/Desktop/Research/FORESEE/venv311/lib/python3.11/site-packages/ipykernel/kernelbase.py\", line 684, in execute_request\n",
      "    async def execute_request(self, stream, ident, parent):\n",
      "    \n",
      "  File \"/home/hardik/Desktop/Research/FORESEE/venv311/lib/python3.11/site-packages/ipykernel/ipkernel.py\", line 339, in do_execute\n",
      "    async def do_execute(\n",
      "    \n",
      "  File \"/home/hardik/Desktop/Research/FORESEE/venv311/lib/python3.11/site-packages/ipykernel/zmqshell.py\", line 537, in run_cell\n",
      "    def run_cell(self, *args, **kwargs):\n",
      "    \n",
      "  File \"/home/hardik/Desktop/Research/FORESEE/venv311/lib/python3.11/site-packages/IPython/core/interactiveshell.py\", line 2973, in run_cell\n",
      "    def run_cell(\n",
      "    \n",
      "  File \"/home/hardik/Desktop/Research/FORESEE/venv311/lib/python3.11/site-packages/IPython/core/interactiveshell.py\", line 3015, in _run_cell\n",
      "    def _run_cell(\n",
      "    \n",
      "  File \"/home/hardik/Desktop/Research/FORESEE/venv311/lib/python3.11/site-packages/IPython/core/async_helpers.py\", line 120, in _pseudo_sync_runner\n",
      "    def _pseudo_sync_runner(coro):\n",
      "    \n",
      "  File \"/home/hardik/Desktop/Research/FORESEE/venv311/lib/python3.11/site-packages/IPython/core/interactiveshell.py\", line 3114, in run_cell_async\n",
      "    async def run_cell_async(\n",
      "    \n",
      "  File \"/home/hardik/Desktop/Research/FORESEE/venv311/lib/python3.11/site-packages/IPython/core/interactiveshell.py\", line 3346, in run_ast_nodes\n",
      "    async def run_ast_nodes(\n",
      "    \n",
      "  File \"/home/hardik/Desktop/Research/FORESEE/venv311/lib/python3.11/site-packages/IPython/core/interactiveshell.py\", line 3469, in run_code\n",
      "    async def run_code(self, code_obj, result=None, *, async_=False):\n",
      "    \n",
      "  File \"/tmp/ipykernel_19980/651679333.py\", line 0, in <module>\n",
      "  File \"/tmp/ipykernel_19980/2924353269.py\", line 1, in f1\n",
      "    def f1(x):\n",
      "    \n",
      "  File \"/home/hardik/Desktop/Research/FORESEE/venv311/lib/python3.11/site-packages/jax/_src/scipy/linalg.py\", line 921, in sqrtm\n",
      "    @_wraps(scipy.linalg.sqrtm,\n",
      "    \n",
      "  File \"/home/hardik/Desktop/Research/FORESEE/venv311/lib/python3.11/site-packages/jax/_src/scipy/linalg.py\", line 914, in _sqrtm\n",
      "    @jit\n",
      "    \n",
      "  File \"/home/hardik/Desktop/Research/FORESEE/venv311/lib/python3.11/site-packages/jax/_src/scipy/linalg.py\", line 202, in schur\n",
      "    @_wraps(scipy.linalg.schur)\n",
      "    \n",
      "  File \"/home/hardik/Desktop/Research/FORESEE/venv311/lib/python3.11/site-packages/jax/_src/scipy/linalg.py\", line 196, in _schur\n",
      "    @partial(jit, static_argnames=('output',))\n",
      "    \n",
      "jax._src.source_info_util.JaxStackTraceBeforeTransformation: TypeError: _schur_jvp_rule() got an unexpected keyword argument 'select_callable'\n",
      "\n",
      "The preceding stack trace is the source of the JAX operation that, once transformed by JAX, triggered the following exception.\n",
      "\n",
      "--------------------\n",
      "\n",
      "The above exception was the direct cause of the following exception:\n",
      "\n",
      "Traceback (most recent call last):\n",
      "  File \"/home/hardik/Desktop/Research/FORESEE/venv311/lib/python3.11/site-packages/IPython/core/interactiveshell.py\", line 3505, in run_code\n",
      "    exec(code_obj, self.user_global_ns, self.user_ns)\n",
      "  File \"/tmp/ipykernel_19980/1445549160.py\", line 1, in <module>\n",
      "    f1grad(jnp.array([[1.0]]))\n",
      "  File \"/home/hardik/Desktop/Research/FORESEE/venv311/lib/python3.11/site-packages/jax/_src/traceback_util.py\", line 166, in reraise_with_filtered_traceback\n",
      "    return fun(*args, **kwargs)\n",
      "           ^^^^^^^^^^^^^^^^^^^^\n",
      "  File \"/home/hardik/Desktop/Research/FORESEE/venv311/lib/python3.11/site-packages/jax/_src/api.py\", line 659, in grad_f\n",
      "    _, g = value_and_grad_f(*args, **kwargs)\n",
      "           ^^^^^^^^^^^^^^^^^^^^^^^^^^^^^^^^^\n",
      "  File \"/home/hardik/Desktop/Research/FORESEE/venv311/lib/python3.11/site-packages/jax/_src/traceback_util.py\", line 166, in reraise_with_filtered_traceback\n",
      "    return fun(*args, **kwargs)\n",
      "           ^^^^^^^^^^^^^^^^^^^^\n",
      "  File \"/home/hardik/Desktop/Research/FORESEE/venv311/lib/python3.11/site-packages/jax/_src/api.py\", line 735, in value_and_grad_f\n",
      "    ans, vjp_py = _vjp(f_partial, *dyn_args, reduce_axes=reduce_axes)\n",
      "                  ^^^^^^^^^^^^^^^^^^^^^^^^^^^^^^^^^^^^^^^^^^^^^^^^^^^\n",
      "  File \"/home/hardik/Desktop/Research/FORESEE/venv311/lib/python3.11/site-packages/jax/_src/api.py\", line 2258, in _vjp\n",
      "    out_primal, out_vjp = ad.vjp(\n",
      "                          ^^^^^^^\n",
      "  File \"/home/hardik/Desktop/Research/FORESEE/venv311/lib/python3.11/site-packages/jax/_src/interpreters/ad.py\", line 139, in vjp\n",
      "    out_primals, pvals, jaxpr, consts = linearize(traceable, *primals)\n",
      "                                        ^^^^^^^^^^^^^^^^^^^^^^^^^^^^^^\n",
      "  File \"/home/hardik/Desktop/Research/FORESEE/venv311/lib/python3.11/site-packages/jax/_src/interpreters/ad.py\", line 128, in linearize\n",
      "    jaxpr, out_pvals, consts = pe.trace_to_jaxpr_nounits(jvpfun_flat, in_pvals)\n",
      "                               ^^^^^^^^^^^^^^^^^^^^^^^^^^^^^^^^^^^^^^^^^^^^^^^^\n",
      "  File \"/home/hardik/Desktop/Research/FORESEE/venv311/lib/python3.11/site-packages/jax/_src/profiler.py\", line 314, in wrapper\n",
      "    return func(*args, **kwargs)\n",
      "           ^^^^^^^^^^^^^^^^^^^^^\n",
      "  File \"/home/hardik/Desktop/Research/FORESEE/venv311/lib/python3.11/site-packages/jax/_src/interpreters/partial_eval.py\", line 771, in trace_to_jaxpr_nounits\n",
      "    jaxpr, (out_pvals, consts, env) = fun.call_wrapped(pvals)\n",
      "                                      ^^^^^^^^^^^^^^^^^^^^^^^\n",
      "  File \"/home/hardik/Desktop/Research/FORESEE/venv311/lib/python3.11/site-packages/jax/_src/linear_util.py\", line 166, in call_wrapped\n",
      "    ans = self.f(*args, **dict(self.params, **kwargs))\n",
      "          ^^^^^^^^^^^^^^^^^^^^^^^^^^^^^^^^^^^^^^^^^^^^\n",
      "  File \"/tmp/ipykernel_19980/2600441871.py\", line 2, in f1\n",
      "    return jax.scipy.linalg.sqrtm(x)[0,0]\n",
      "           ^^^^^^^^^^^^^^^^^^^^^^^^^\n",
      "  File \"/home/hardik/Desktop/Research/FORESEE/venv311/lib/python3.11/site-packages/jax/_src/scipy/linalg.py\", line 936, in sqrtm\n",
      "    return _sqrtm(A)\n",
      "           ^^^^^^^^^\n",
      "  File \"/home/hardik/Desktop/Research/FORESEE/venv311/lib/python3.11/site-packages/jax/_src/traceback_util.py\", line 166, in reraise_with_filtered_traceback\n",
      "    return fun(*args, **kwargs)\n",
      "           ^^^^^^^^^^^^^^^^^^^^\n",
      "  File \"/home/hardik/Desktop/Research/FORESEE/venv311/lib/python3.11/site-packages/jax/_src/pjit.py\", line 238, in cache_miss\n",
      "    outs, out_flat, out_tree, args_flat = _python_pjit_helper(\n",
      "                                          ^^^^^^^^^^^^^^^^^^^^\n",
      "  File \"/home/hardik/Desktop/Research/FORESEE/venv311/lib/python3.11/site-packages/jax/_src/pjit.py\", line 185, in _python_pjit_helper\n",
      "    out_flat = pjit_p.bind(*args_flat, **params)\n",
      "               ^^^^^^^^^^^^^^^^^^^^^^^^^^^^^^^^^\n",
      "  File \"/home/hardik/Desktop/Research/FORESEE/venv311/lib/python3.11/site-packages/jax/_src/core.py\", line 2592, in bind\n",
      "    return self.bind_with_trace(top_trace, args, params)\n",
      "           ^^^^^^^^^^^^^^^^^^^^^^^^^^^^^^^^^^^^^^^^^^^^^\n",
      "  File \"/home/hardik/Desktop/Research/FORESEE/venv311/lib/python3.11/site-packages/jax/_src/core.py\", line 363, in bind_with_trace\n",
      "    out = trace.process_primitive(self, map(trace.full_raise, args), params)\n",
      "          ^^^^^^^^^^^^^^^^^^^^^^^^^^^^^^^^^^^^^^^^^^^^^^^^^^^^^^^^^^^^^^^^^^\n",
      "  File \"/home/hardik/Desktop/Research/FORESEE/venv311/lib/python3.11/site-packages/jax/_src/interpreters/ad.py\", line 315, in process_primitive\n",
      "    primal_out, tangent_out = jvp(primals_in, tangents_in, **params)\n",
      "                              ^^^^^^^^^^^^^^^^^^^^^^^^^^^^^^^^^^^^^^\n",
      "  File \"/home/hardik/Desktop/Research/FORESEE/venv311/lib/python3.11/site-packages/jax/_src/pjit.py\", line 1537, in _pjit_jvp\n",
      "    jaxpr_jvp, is_nz_tangents_out = ad.jvp_jaxpr(\n",
      "                                    ^^^^^^^^^^^^^\n",
      "  File \"/home/hardik/Desktop/Research/FORESEE/venv311/lib/python3.11/site-packages/jax/_src/interpreters/ad.py\", line 694, in jvp_jaxpr\n",
      "    return _jvp_jaxpr(jaxpr, tuple(nonzeros), tuple(instantiate))\n",
      "           ^^^^^^^^^^^^^^^^^^^^^^^^^^^^^^^^^^^^^^^^^^^^^^^^^^^^^^\n",
      "  File \"/home/hardik/Desktop/Research/FORESEE/venv311/lib/python3.11/site-packages/jax/_src/interpreters/ad.py\", line 704, in _jvp_jaxpr\n",
      "    jaxpr_out, avals_out, literals_out = pe.trace_to_jaxpr_dynamic(f_jvp, avals_in)\n",
      "                                         ^^^^^^^^^^^^^^^^^^^^^^^^^^^^^^^^^^^^^^^^^^\n",
      "  File \"/home/hardik/Desktop/Research/FORESEE/venv311/lib/python3.11/site-packages/jax/_src/profiler.py\", line 314, in wrapper\n",
      "    return func(*args, **kwargs)\n",
      "           ^^^^^^^^^^^^^^^^^^^^^\n",
      "  File \"/home/hardik/Desktop/Research/FORESEE/venv311/lib/python3.11/site-packages/jax/_src/interpreters/partial_eval.py\", line 2049, in trace_to_jaxpr_dynamic\n",
      "    jaxpr, out_avals, consts = trace_to_subjaxpr_dynamic(\n",
      "                               ^^^^^^^^^^^^^^^^^^^^^^^^^^\n",
      "  File \"/home/hardik/Desktop/Research/FORESEE/venv311/lib/python3.11/site-packages/jax/_src/interpreters/partial_eval.py\", line 2066, in trace_to_subjaxpr_dynamic\n",
      "    ans = fun.call_wrapped(*in_tracers_)\n",
      "          ^^^^^^^^^^^^^^^^^^^^^^^^^^^^^^\n",
      "  File \"/home/hardik/Desktop/Research/FORESEE/venv311/lib/python3.11/site-packages/jax/_src/linear_util.py\", line 166, in call_wrapped\n",
      "    ans = self.f(*args, **dict(self.params, **kwargs))\n",
      "          ^^^^^^^^^^^^^^^^^^^^^^^^^^^^^^^^^^^^^^^^^^^^\n",
      "  File \"/home/hardik/Desktop/Research/FORESEE/venv311/lib/python3.11/site-packages/jax/_src/core.py\", line 228, in jaxpr_as_fun\n",
      "    return eval_jaxpr(closed_jaxpr.jaxpr, closed_jaxpr.consts, *args)\n",
      "           ^^^^^^^^^^^^^^^^^^^^^^^^^^^^^^^^^^^^^^^^^^^^^^^^^^^^^^^^^^\n",
      "  File \"/home/hardik/Desktop/Research/FORESEE/venv311/lib/python3.11/site-packages/jax/_src/core.py\", line 426, in eval_jaxpr\n",
      "    ans = eqn.primitive.bind(*subfuns, *map(read, eqn.invars), **bind_params)\n",
      "          ^^^^^^^^^^^^^^^^^^^^^^^^^^^^^^^^^^^^^^^^^^^^^^^^^^^^^^^^^^^^^^^^^^^\n",
      "  File \"/home/hardik/Desktop/Research/FORESEE/venv311/lib/python3.11/site-packages/jax/_src/core.py\", line 2592, in bind\n",
      "    return self.bind_with_trace(top_trace, args, params)\n",
      "           ^^^^^^^^^^^^^^^^^^^^^^^^^^^^^^^^^^^^^^^^^^^^^\n",
      "  File \"/home/hardik/Desktop/Research/FORESEE/venv311/lib/python3.11/site-packages/jax/_src/core.py\", line 363, in bind_with_trace\n",
      "    out = trace.process_primitive(self, map(trace.full_raise, args), params)\n",
      "          ^^^^^^^^^^^^^^^^^^^^^^^^^^^^^^^^^^^^^^^^^^^^^^^^^^^^^^^^^^^^^^^^^^\n",
      "  File \"/home/hardik/Desktop/Research/FORESEE/venv311/lib/python3.11/site-packages/jax/_src/interpreters/ad.py\", line 315, in process_primitive\n",
      "    primal_out, tangent_out = jvp(primals_in, tangents_in, **params)\n",
      "                              ^^^^^^^^^^^^^^^^^^^^^^^^^^^^^^^^^^^^^^\n",
      "  File \"/home/hardik/Desktop/Research/FORESEE/venv311/lib/python3.11/site-packages/jax/_src/pjit.py\", line 1537, in _pjit_jvp\n",
      "    jaxpr_jvp, is_nz_tangents_out = ad.jvp_jaxpr(\n",
      "                                    ^^^^^^^^^^^^^\n",
      "  File \"/home/hardik/Desktop/Research/FORESEE/venv311/lib/python3.11/site-packages/jax/_src/interpreters/ad.py\", line 694, in jvp_jaxpr\n",
      "    return _jvp_jaxpr(jaxpr, tuple(nonzeros), tuple(instantiate))\n",
      "           ^^^^^^^^^^^^^^^^^^^^^^^^^^^^^^^^^^^^^^^^^^^^^^^^^^^^^^\n",
      "  File \"/home/hardik/Desktop/Research/FORESEE/venv311/lib/python3.11/site-packages/jax/_src/interpreters/ad.py\", line 704, in _jvp_jaxpr\n",
      "    jaxpr_out, avals_out, literals_out = pe.trace_to_jaxpr_dynamic(f_jvp, avals_in)\n",
      "                                         ^^^^^^^^^^^^^^^^^^^^^^^^^^^^^^^^^^^^^^^^^^\n",
      "  File \"/home/hardik/Desktop/Research/FORESEE/venv311/lib/python3.11/site-packages/jax/_src/profiler.py\", line 314, in wrapper\n",
      "    return func(*args, **kwargs)\n",
      "           ^^^^^^^^^^^^^^^^^^^^^\n",
      "  File \"/home/hardik/Desktop/Research/FORESEE/venv311/lib/python3.11/site-packages/jax/_src/interpreters/partial_eval.py\", line 2049, in trace_to_jaxpr_dynamic\n",
      "    jaxpr, out_avals, consts = trace_to_subjaxpr_dynamic(\n",
      "                               ^^^^^^^^^^^^^^^^^^^^^^^^^^\n",
      "  File \"/home/hardik/Desktop/Research/FORESEE/venv311/lib/python3.11/site-packages/jax/_src/interpreters/partial_eval.py\", line 2066, in trace_to_subjaxpr_dynamic\n",
      "    ans = fun.call_wrapped(*in_tracers_)\n",
      "          ^^^^^^^^^^^^^^^^^^^^^^^^^^^^^^\n",
      "  File \"/home/hardik/Desktop/Research/FORESEE/venv311/lib/python3.11/site-packages/jax/_src/linear_util.py\", line 166, in call_wrapped\n",
      "    ans = self.f(*args, **dict(self.params, **kwargs))\n",
      "          ^^^^^^^^^^^^^^^^^^^^^^^^^^^^^^^^^^^^^^^^^^^^\n",
      "  File \"/home/hardik/Desktop/Research/FORESEE/venv311/lib/python3.11/site-packages/jax/_src/core.py\", line 228, in jaxpr_as_fun\n",
      "    return eval_jaxpr(closed_jaxpr.jaxpr, closed_jaxpr.consts, *args)\n",
      "           ^^^^^^^^^^^^^^^^^^^^^^^^^^^^^^^^^^^^^^^^^^^^^^^^^^^^^^^^^^\n",
      "  File \"/home/hardik/Desktop/Research/FORESEE/venv311/lib/python3.11/site-packages/jax/_src/core.py\", line 426, in eval_jaxpr\n",
      "    ans = eqn.primitive.bind(*subfuns, *map(read, eqn.invars), **bind_params)\n",
      "          ^^^^^^^^^^^^^^^^^^^^^^^^^^^^^^^^^^^^^^^^^^^^^^^^^^^^^^^^^^^^^^^^^^^\n",
      "  File \"/home/hardik/Desktop/Research/FORESEE/venv311/lib/python3.11/site-packages/jax/_src/core.py\", line 360, in bind\n",
      "    return self.bind_with_trace(find_top_trace(args), args, params)\n",
      "           ^^^^^^^^^^^^^^^^^^^^^^^^^^^^^^^^^^^^^^^^^^^^^^^^^^^^^^^^\n",
      "  File \"/home/hardik/Desktop/Research/FORESEE/venv311/lib/python3.11/site-packages/jax/_src/core.py\", line 363, in bind_with_trace\n",
      "    out = trace.process_primitive(self, map(trace.full_raise, args), params)\n",
      "          ^^^^^^^^^^^^^^^^^^^^^^^^^^^^^^^^^^^^^^^^^^^^^^^^^^^^^^^^^^^^^^^^^^\n",
      "  File \"/home/hardik/Desktop/Research/FORESEE/venv311/lib/python3.11/site-packages/jax/_src/interpreters/ad.py\", line 315, in process_primitive\n",
      "    primal_out, tangent_out = jvp(primals_in, tangents_in, **params)\n",
      "                              ^^^^^^^^^^^^^^^^^^^^^^^^^^^^^^^^^^^^^^\n",
      "TypeError: _schur_jvp_rule() got an unexpected keyword argument 'select_callable'\n",
      "\n",
      "During handling of the above exception, another exception occurred:\n",
      "\n",
      "Traceback (most recent call last):\n",
      "  File \"/home/hardik/Desktop/Research/FORESEE/venv311/lib/python3.11/site-packages/IPython/core/interactiveshell.py\", line 2102, in showtraceback\n",
      "    stb = self.InteractiveTB.structured_traceback(\n",
      "          ^^^^^^^^^^^^^^^^^^^^^^^^^^^^^^^^^^^^^^^^\n",
      "  File \"/home/hardik/Desktop/Research/FORESEE/venv311/lib/python3.11/site-packages/IPython/core/ultratb.py\", line 1310, in structured_traceback\n",
      "    return FormattedTB.structured_traceback(\n",
      "           ^^^^^^^^^^^^^^^^^^^^^^^^^^^^^^^^^\n",
      "  File \"/home/hardik/Desktop/Research/FORESEE/venv311/lib/python3.11/site-packages/IPython/core/ultratb.py\", line 1199, in structured_traceback\n",
      "    return VerboseTB.structured_traceback(\n",
      "           ^^^^^^^^^^^^^^^^^^^^^^^^^^^^^^^\n",
      "  File \"/home/hardik/Desktop/Research/FORESEE/venv311/lib/python3.11/site-packages/IPython/core/ultratb.py\", line 1071, in structured_traceback\n",
      "    formatted_exceptions += self.format_exception_as_a_whole(etype, evalue, etb, lines_of_context,\n",
      "                            ^^^^^^^^^^^^^^^^^^^^^^^^^^^^^^^^^^^^^^^^^^^^^^^^^^^^^^^^^^^^^^^^^^^^^^\n",
      "  File \"/home/hardik/Desktop/Research/FORESEE/venv311/lib/python3.11/site-packages/IPython/core/ultratb.py\", line 978, in format_exception_as_a_whole\n",
      "    frames.append(self.format_record(record))\n",
      "                  ^^^^^^^^^^^^^^^^^^^^^^^^^^\n",
      "  File \"/home/hardik/Desktop/Research/FORESEE/venv311/lib/python3.11/site-packages/IPython/core/ultratb.py\", line 878, in format_record\n",
      "    frame_info.lines, Colors, self.has_colors, lvals\n",
      "    ^^^^^^^^^^^^^^^^\n",
      "  File \"/home/hardik/Desktop/Research/FORESEE/venv311/lib/python3.11/site-packages/IPython/core/ultratb.py\", line 712, in lines\n",
      "    return self._sd.lines\n",
      "           ^^^^^^^^^^^^^^\n",
      "  File \"/home/hardik/Desktop/Research/FORESEE/venv311/lib/python3.11/site-packages/stack_data/utils.py\", line 144, in cached_property_wrapper\n",
      "    value = obj.__dict__[self.func.__name__] = self.func(obj)\n",
      "                                               ^^^^^^^^^^^^^^\n",
      "  File \"/home/hardik/Desktop/Research/FORESEE/venv311/lib/python3.11/site-packages/stack_data/core.py\", line 734, in lines\n",
      "    pieces = self.included_pieces\n",
      "             ^^^^^^^^^^^^^^^^^^^^\n",
      "  File \"/home/hardik/Desktop/Research/FORESEE/venv311/lib/python3.11/site-packages/stack_data/utils.py\", line 144, in cached_property_wrapper\n",
      "    value = obj.__dict__[self.func.__name__] = self.func(obj)\n",
      "                                               ^^^^^^^^^^^^^^\n",
      "  File \"/home/hardik/Desktop/Research/FORESEE/venv311/lib/python3.11/site-packages/stack_data/core.py\", line 681, in included_pieces\n",
      "    pos = scope_pieces.index(self.executing_piece)\n",
      "                             ^^^^^^^^^^^^^^^^^^^^\n",
      "  File \"/home/hardik/Desktop/Research/FORESEE/venv311/lib/python3.11/site-packages/stack_data/utils.py\", line 144, in cached_property_wrapper\n",
      "    value = obj.__dict__[self.func.__name__] = self.func(obj)\n",
      "                                               ^^^^^^^^^^^^^^\n",
      "  File \"/home/hardik/Desktop/Research/FORESEE/venv311/lib/python3.11/site-packages/stack_data/core.py\", line 660, in executing_piece\n",
      "    return only(\n",
      "           ^^^^^\n",
      "  File \"/home/hardik/Desktop/Research/FORESEE/venv311/lib/python3.11/site-packages/executing/executing.py\", line 190, in only\n",
      "    raise NotOneValueFound('Expected one value, found 0')\n",
      "executing.executing.NotOneValueFound: Expected one value, found 0\n"
     ]
    }
   ],
   "source": [
    "f1grad(jnp.array([[1.0]]))"
   ]
  },
  {
   "cell_type": "code",
   "execution_count": 256,
   "id": "c30fad88",
   "metadata": {},
   "outputs": [
    {
     "data": {
      "text/plain": [
       "Array([[1, 0],\n",
       "       [0, 2]], dtype=int32)"
      ]
     },
     "execution_count": 256,
     "metadata": {},
     "output_type": "execute_result"
    }
   ],
   "source": [
    "jnp.diag( jnp.array([1,2]) )"
   ]
  },
  {
   "cell_type": "markdown",
   "id": "18febfb7",
   "metadata": {},
   "source": [
    "### Scan vs For"
   ]
  },
  {
   "cell_type": "code",
   "execution_count": 53,
   "id": "38a2d959",
   "metadata": {},
   "outputs": [
    {
     "data": {
      "text/plain": [
       "Array([ 1.       ,  2.       ,  3.       ,  4.       ,  5.       ,\n",
       "        6.0000005,  7.0000005,  8.       ,  9.       , 10.       ],      dtype=float32)"
      ]
     },
     "execution_count": 53,
     "metadata": {},
     "output_type": "execute_result"
    }
   ],
   "source": [
    "a = np.linspace(1,10,10)\n",
    "a"
   ]
  },
  {
   "cell_type": "code",
   "execution_count": 67,
   "id": "b7da9ba4",
   "metadata": {},
   "outputs": [
    {
     "name": "stdout",
     "output_type": "stream",
     "text": [
      "time jit: 1.3443591594696045\n",
      "1001000.0\n",
      "3.58 µs ± 392 ns per loop (mean ± std. dev. of 7 runs, 100,000 loops each)\n",
      "time grad jit: 2.8755059242248535\n",
      "3.38 µs ± 897 ns per loop (mean ± std. dev. of 7 runs, 100,000 loops each)\n"
     ]
    }
   ],
   "source": [
    "import jax.numpy as np\n",
    "import time\n",
    "\n",
    "# a = np.array([1.0, 2, 3, 5, 7, 11, 13, 17])\n",
    "a = np.linspace(1,1000,1000)\n",
    "\n",
    "\n",
    "def fun1(a):\n",
    "    result = []\n",
    "    res = 0\n",
    "    for el in a:\n",
    "        res += 2*el\n",
    "        result.append(res)\n",
    "    return result[-1]\n",
    "np.array(fun1(a))\n",
    "\n",
    "fun1_jit=jit(fun1)\n",
    "t0 = time.time()\n",
    "fun1_jit(a)\n",
    "print(f\"time jit: {time.time()-t0}\")\n",
    "\n",
    "print(fun1_jit(a))\n",
    "%timeit fun1_jit(a)\n",
    "\n",
    "fun1_grad_jit=jit(grad(fun1))\n",
    "t0 = time.time()\n",
    "fun1_grad_jit(a)\n",
    "print(f\"time grad jit: {time.time()-t0}\")\n",
    "\n",
    "# print(fun1_grad_jit(a))\n",
    "%timeit fun1_grad_jit(a)\n",
    "\n"
   ]
  },
  {
   "cell_type": "code",
   "execution_count": 69,
   "id": "de785777",
   "metadata": {},
   "outputs": [
    {
     "name": "stdout",
     "output_type": "stream",
     "text": [
      "time scan: 0.049346208572387695\n",
      "209 µs ± 90.7 µs per loop (mean ± std. dev. of 7 runs, 1,000 loops each)\n",
      "time scan jit: 0.019811630249023438\n",
      "6.91 µs ± 284 ns per loop (mean ± std. dev. of 7 runs, 100,000 loops each)\n",
      "time grad jit : 0.017626047134399414\n",
      "2.5 µs ± 95 ns per loop (mean ± std. dev. of 7 runs, 100,000 loops each)\n"
     ]
    },
    {
     "data": {
      "text/plain": [
       "Array(1001000., dtype=float32)"
      ]
     },
     "execution_count": 69,
     "metadata": {},
     "output_type": "execute_result"
    }
   ],
   "source": [
    "from jax import lax\n",
    "\n",
    "\n",
    "def cumsum(res, el):\n",
    "    \"\"\"\n",
    "    - `res`: The result from the previous loop.\n",
    "    - `el`: The current array element.\n",
    "    \"\"\"\n",
    "    res = res + 2*el\n",
    "    return res, res  # (\"carryover\", \"accumulated\")\n",
    "\n",
    "def cum_sum_scanned( result_init, a ):\n",
    "    return lax.scan(cumsum, result_init, a)[0]\n",
    "\n",
    "result_init = 0.0\n",
    "t0 = time.time()\n",
    "final, result = lax.scan(cumsum, result_init, a)\n",
    "print(f\"time scan: {time.time()-t0}\")\n",
    "%timeit lax.scan(cumsum, result_init, a)\n",
    "\n",
    "cum_sum_scanned_jit = jit(cum_sum_scanned)\n",
    "t0 = time.time()\n",
    "cum_sum_scanned_jit( result_init, a )\n",
    "print(f\"time scan jit: {time.time()-t0}\")\n",
    "%timeit cum_sum_scanned_jit( result_init, a )\n",
    "\n",
    "\n",
    "cum_sum_scanned_grad = jit(grad( cum_sum_scanned ))\n",
    "t0 = time.time()\n",
    "cum_sum_scanned_grad( result_init, a )\n",
    "print(f\"time grad jit : {time.time()-t0}\")\n",
    "\n",
    "%timeit cum_sum_scanned_grad( result_init, a )\n",
    "\n",
    "\n",
    "result[-1]"
   ]
  },
  {
   "cell_type": "code",
   "execution_count": 10,
   "id": "90b79d81",
   "metadata": {},
   "outputs": [],
   "source": [
    "num_timesteps = 100\n",
    "timesteps = np.arange(num_timesteps)"
   ]
  },
  {
   "cell_type": "code",
   "execution_count": 11,
   "id": "ed32ab60",
   "metadata": {},
   "outputs": [
    {
     "data": {
      "text/plain": [
       "Array([ 0,  1,  2,  3,  4,  5,  6,  7,  8,  9, 10, 11, 12, 13, 14, 15, 16,\n",
       "       17, 18, 19, 20, 21, 22, 23, 24, 25, 26, 27, 28, 29, 30, 31, 32, 33,\n",
       "       34, 35, 36, 37, 38, 39, 40, 41, 42, 43, 44, 45, 46, 47, 48, 49, 50,\n",
       "       51, 52, 53, 54, 55, 56, 57, 58, 59, 60, 61, 62, 63, 64, 65, 66, 67,\n",
       "       68, 69, 70, 71, 72, 73, 74, 75, 76, 77, 78, 79, 80, 81, 82, 83, 84,\n",
       "       85, 86, 87, 88, 89, 90, 91, 92, 93, 94, 95, 96, 97, 98, 99],      dtype=int32)"
      ]
     },
     "execution_count": 11,
     "metadata": {},
     "output_type": "execute_result"
    }
   ],
   "source": []
  },
  {
   "cell_type": "code",
   "execution_count": 15,
   "id": "3b18f511",
   "metadata": {},
   "outputs": [
    {
     "data": {
      "text/plain": [
       "[Array(1, dtype=int32),\n",
       " Array(3, dtype=int32),\n",
       " Array(6, dtype=int32),\n",
       " Array(11, dtype=int32),\n",
       " Array(18, dtype=int32),\n",
       " Array(29, dtype=int32),\n",
       " Array(42, dtype=int32),\n",
       " Array(59, dtype=int32)]"
      ]
     },
     "execution_count": 15,
     "metadata": {},
     "output_type": "execute_result"
    }
   ],
   "source": [
    "fun1_jit(a)"
   ]
  },
  {
   "cell_type": "code",
   "execution_count": 26,
   "id": "f6752510",
   "metadata": {},
   "outputs": [],
   "source": [
    "fun1_jit_grad = grad(fun1_jit)"
   ]
  },
  {
   "cell_type": "code",
   "execution_count": 27,
   "id": "1837be8a",
   "metadata": {},
   "outputs": [
    {
     "data": {
      "text/plain": [
       "Array([2., 2., 2., 2., 2., 2., 2., 2.], dtype=float32)"
      ]
     },
     "execution_count": 27,
     "metadata": {},
     "output_type": "execute_result"
    }
   ],
   "source": [
    "fun1_jit_grad(a)"
   ]
  },
  {
   "cell_type": "code",
   "execution_count": 28,
   "id": "313977b2",
   "metadata": {},
   "outputs": [
    {
     "data": {
      "text/plain": [
       "Array([ 1.,  2.,  3.,  5.,  7., 11., 13., 17.], dtype=float32)"
      ]
     },
     "execution_count": 28,
     "metadata": {},
     "output_type": "execute_result"
    }
   ],
   "source": [
    "a"
   ]
  },
  {
   "cell_type": "code",
   "execution_count": 37,
   "id": "2f94a7db",
   "metadata": {},
   "outputs": [],
   "source": [
    "b = np.ones((3,1))"
   ]
  },
  {
   "cell_type": "code",
   "execution_count": 38,
   "id": "082011f1",
   "metadata": {},
   "outputs": [
    {
     "data": {
      "text/plain": [
       "Array([1., 1., 1.], dtype=float32)"
      ]
     },
     "execution_count": 38,
     "metadata": {},
     "output_type": "execute_result"
    }
   ],
   "source": [
    "b[:,0]"
   ]
  },
  {
   "cell_type": "code",
   "execution_count": 40,
   "id": "a29f2e5d",
   "metadata": {},
   "outputs": [
    {
     "data": {
      "text/plain": [
       "Array([1., 1., 1.], dtype=float32)"
      ]
     },
     "execution_count": 40,
     "metadata": {},
     "output_type": "execute_result"
    }
   ],
   "source": [
    "b[0:3,0]"
   ]
  },
  {
   "cell_type": "code",
   "execution_count": 70,
   "id": "8cf1a659",
   "metadata": {},
   "outputs": [],
   "source": [
    "a = np.array([ [1,2],[3,4] ])"
   ]
  },
  {
   "cell_type": "code",
   "execution_count": 71,
   "id": "8f466de1",
   "metadata": {},
   "outputs": [
    {
     "data": {
      "text/plain": [
       "Array([3, 4], dtype=int32)"
      ]
     },
     "execution_count": 71,
     "metadata": {},
     "output_type": "execute_result"
    }
   ],
   "source": [
    "a[1]"
   ]
  },
  {
   "cell_type": "code",
   "execution_count": 72,
   "id": "d7932aa0",
   "metadata": {},
   "outputs": [
    {
     "data": {
      "text/plain": [
       "Array([1, 2], dtype=int32)"
      ]
     },
     "execution_count": 72,
     "metadata": {},
     "output_type": "execute_result"
    }
   ],
   "source": [
    "a[0]"
   ]
  },
  {
   "cell_type": "code",
   "execution_count": 73,
   "id": "a700acf2",
   "metadata": {},
   "outputs": [
    {
     "data": {
      "text/plain": [
       "300.0"
      ]
     },
     "execution_count": 73,
     "metadata": {},
     "output_type": "execute_result"
    }
   ],
   "source": [
    "6/0.02"
   ]
  },
  {
   "cell_type": "code",
   "execution_count": 74,
   "id": "bca82600",
   "metadata": {},
   "outputs": [
    {
     "data": {
      "text/plain": [
       "3000"
      ]
     },
     "execution_count": 74,
     "metadata": {},
     "output_type": "execute_result"
    }
   ],
   "source": [
    "300*10"
   ]
  },
  {
   "cell_type": "code",
   "execution_count": 75,
   "id": "5532b456",
   "metadata": {},
   "outputs": [
    {
     "data": {
      "text/plain": [
       "150.0"
      ]
     },
     "execution_count": 75,
     "metadata": {},
     "output_type": "execute_result"
    }
   ],
   "source": [
    "3/0.02"
   ]
  },
  {
   "cell_type": "code",
   "execution_count": 92,
   "id": "530c5487",
   "metadata": {},
   "outputs": [],
   "source": [
    "def custom(a):\n",
    "    x = 1.0\n",
    "    def body(t, inputs):\n",
    "        inputs = inputs + inputs*a\n",
    "        return inputs\n",
    "    return lax.fori_loop(0, 2, body, x)"
   ]
  },
  {
   "cell_type": "code",
   "execution_count": 93,
   "id": "17ff8099",
   "metadata": {},
   "outputs": [
    {
     "data": {
      "text/plain": [
       "Array(9., dtype=float32, weak_type=True)"
      ]
     },
     "execution_count": 93,
     "metadata": {},
     "output_type": "execute_result"
    }
   ],
   "source": [
    "custom(2)"
   ]
  },
  {
   "cell_type": "code",
   "execution_count": 110,
   "id": "230277dc",
   "metadata": {},
   "outputs": [
    {
     "data": {
      "text/plain": [
       "Array(9., dtype=float32, weak_type=True)"
      ]
     },
     "execution_count": 110,
     "metadata": {},
     "output_type": "execute_result"
    }
   ],
   "source": [
    "jit(custom)(2)"
   ]
  },
  {
   "cell_type": "code",
   "execution_count": 94,
   "id": "90b33bfe",
   "metadata": {},
   "outputs": [],
   "source": [
    "custom_grad = grad(custom)"
   ]
  },
  {
   "cell_type": "code",
   "execution_count": 105,
   "id": "f07be4bc",
   "metadata": {},
   "outputs": [
    {
     "data": {
      "text/plain": [
       "Array(8., dtype=float32, weak_type=True)"
      ]
     },
     "execution_count": 105,
     "metadata": {},
     "output_type": "execute_result"
    }
   ],
   "source": [
    "custom_grad(3.0)"
   ]
  },
  {
   "cell_type": "code",
   "execution_count": 111,
   "id": "80fcbcb1",
   "metadata": {},
   "outputs": [
    {
     "data": {
      "text/plain": [
       "Array(8., dtype=float32, weak_type=True)"
      ]
     },
     "execution_count": 111,
     "metadata": {},
     "output_type": "execute_result"
    }
   ],
   "source": [
    "jit(custom_grad)(3.0)"
   ]
  },
  {
   "cell_type": "code",
   "execution_count": 127,
   "id": "fbe6ce1d",
   "metadata": {},
   "outputs": [],
   "source": [
    "def new_custom(a):\n",
    "    x = 1.0\n",
    "    state = a*x\n",
    "    def body(t, inputs):\n",
    "        x, state = inputs\n",
    "        y = x + state\n",
    "        x = y + 0.0\n",
    "        new_state = a*x\n",
    "        return x, new_state\n",
    "    return lax.fori_loop(0, 2, body, (x, state))[0]\n",
    "new_custom_jit = jit(new_custom)"
   ]
  },
  {
   "cell_type": "code",
   "execution_count": 128,
   "id": "4705d708",
   "metadata": {},
   "outputs": [
    {
     "data": {
      "text/plain": [
       "Array(36., dtype=float32, weak_type=True)"
      ]
     },
     "execution_count": 128,
     "metadata": {},
     "output_type": "execute_result"
    }
   ],
   "source": [
    "new_custom(5.0)"
   ]
  },
  {
   "cell_type": "code",
   "execution_count": 129,
   "id": "12d09da1",
   "metadata": {},
   "outputs": [
    {
     "data": {
      "text/plain": [
       "Array(36., dtype=float32, weak_type=True)"
      ]
     },
     "execution_count": 129,
     "metadata": {},
     "output_type": "execute_result"
    }
   ],
   "source": [
    "new_custom_jit(5.0)"
   ]
  },
  {
   "cell_type": "code",
   "execution_count": 130,
   "id": "12653d6d",
   "metadata": {},
   "outputs": [],
   "source": [
    "new_custom_grad = grad(new_custom)\n",
    "new_custom_grad_jit = jit(new_custom_grad)"
   ]
  },
  {
   "cell_type": "code",
   "execution_count": 131,
   "id": "23481966",
   "metadata": {},
   "outputs": [
    {
     "data": {
      "text/plain": [
       "Array(10., dtype=float32, weak_type=True)"
      ]
     },
     "execution_count": 131,
     "metadata": {},
     "output_type": "execute_result"
    }
   ],
   "source": [
    "new_custom_grad(4.0)"
   ]
  },
  {
   "cell_type": "code",
   "execution_count": 132,
   "id": "2d56b9ec",
   "metadata": {},
   "outputs": [
    {
     "data": {
      "text/plain": [
       "Array(10., dtype=float32, weak_type=True)"
      ]
     },
     "execution_count": 132,
     "metadata": {},
     "output_type": "execute_result"
    }
   ],
   "source": [
    "new_custom_grad_jit(4.0)"
   ]
  },
  {
   "cell_type": "code",
   "execution_count": 133,
   "id": "a1336b54",
   "metadata": {},
   "outputs": [],
   "source": [
    "a = np.array(9)"
   ]
  },
  {
   "cell_type": "code",
   "execution_count": 134,
   "id": "3485dfad",
   "metadata": {},
   "outputs": [
    {
     "data": {
      "text/plain": [
       "Array(9, dtype=int32, weak_type=True)"
      ]
     },
     "execution_count": 134,
     "metadata": {},
     "output_type": "execute_result"
    }
   ],
   "source": [
    "a"
   ]
  },
  {
   "cell_type": "code",
   "execution_count": 126,
   "id": "b7171aee",
   "metadata": {},
   "outputs": [
    {
     "data": {
      "text/plain": [
       "Array([[9]], dtype=int32, weak_type=True)"
      ]
     },
     "execution_count": 126,
     "metadata": {},
     "output_type": "execute_result"
    }
   ],
   "source": [
    "a.reshape(-1,1)"
   ]
  },
  {
   "cell_type": "code",
   "execution_count": null,
   "id": "64e650f6",
   "metadata": {},
   "outputs": [],
   "source": []
  }
 ],
 "metadata": {
  "kernelspec": {
   "display_name": "Python 3 (ipykernel)",
   "language": "python",
   "name": "python3"
  },
  "language_info": {
   "codemirror_mode": {
    "name": "ipython",
    "version": 3
   },
   "file_extension": ".py",
   "mimetype": "text/x-python",
   "name": "python",
   "nbconvert_exporter": "python",
   "pygments_lexer": "ipython3",
   "version": "3.11.2"
  }
 },
 "nbformat": 4,
 "nbformat_minor": 5
}
