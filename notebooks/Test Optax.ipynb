{
 "cells": [
  {
   "cell_type": "code",
   "execution_count": 9,
   "id": "cc828e3c",
   "metadata": {},
   "outputs": [],
   "source": [
    "import jax.numpy as jnp\n",
    "import jax\n",
    "from jax import jit\n",
    "import optax\n",
    "import functools\n",
    "import time"
   ]
  },
  {
   "cell_type": "code",
   "execution_count": 13,
   "id": "027b8f87",
   "metadata": {},
   "outputs": [],
   "source": [
    "@functools.partial(jax.vmap, in_axes=(None, 0))\n",
    "def network(params, x):\n",
    "  return jnp.dot(params, x)\n",
    "\n",
    "def compute_loss(params, x, y):\n",
    "  y_pred = network(params, x)\n",
    "  loss = jnp.mean(optax.l2_loss(y_pred, y))\n",
    "  return loss"
   ]
  },
  {
   "cell_type": "code",
   "execution_count": 14,
   "id": "74f29fe9",
   "metadata": {},
   "outputs": [],
   "source": [
    "key = jax.random.PRNGKey(42)\n",
    "target_params = 0.5\n",
    "\n",
    "# Generate some data.\n",
    "xs = jax.random.normal(key, (16, 2))\n",
    "ys = jnp.sum(xs * target_params, axis=-1)"
   ]
  },
  {
   "cell_type": "code",
   "execution_count": 15,
   "id": "f33c0891",
   "metadata": {},
   "outputs": [
    {
     "data": {
      "text/plain": [
       "Array([[-2.0201101e+00,  8.6349919e-03],\n",
       "       [-2.0828791e+00,  9.4689780e-01],\n",
       "       [-7.4697673e-02,  2.1900117e-01],\n",
       "       [ 1.7400689e+00,  1.4436092e+00],\n",
       "       [ 1.6966347e+00, -9.8481425e-04],\n",
       "       [ 1.9873228e+00, -1.3630089e+00],\n",
       "       [-3.1369337e-01, -4.6323735e-01],\n",
       "       [ 1.7433221e+00, -9.6858436e-01],\n",
       "       [ 5.2875841e-01, -1.1646140e-02],\n",
       "       [ 3.3797663e-01,  9.7233158e-01],\n",
       "       [ 6.4158249e-01,  7.3273242e-01],\n",
       "       [ 1.5225714e+00,  8.5781729e-01],\n",
       "       [ 2.6217616e-01,  2.8434937e+00],\n",
       "       [ 5.7764381e-01,  5.0313210e-01],\n",
       "       [ 3.8976768e-01, -1.3724487e-01],\n",
       "       [-1.7162652e+00, -9.3954539e-01]], dtype=float32)"
      ]
     },
     "execution_count": 15,
     "metadata": {},
     "output_type": "execute_result"
    }
   ],
   "source": [
    "xs"
   ]
  },
  {
   "cell_type": "code",
   "execution_count": 42,
   "id": "7d080c12",
   "metadata": {},
   "outputs": [
    {
     "data": {
      "text/plain": [
       "Array([-0.9058708, -0.5763672], dtype=float32)"
      ]
     },
     "execution_count": 42,
     "metadata": {},
     "output_type": "execute_result"
    }
   ],
   "source": [
    "start_learning_rate = 1e-1\n",
    "optimizer = optax.adam(start_learning_rate)\n",
    "\n",
    "# Initialize parameters of the model + optimizer.\n",
    "params = jnp.array([0.0, 0.0])\n",
    "opt_state = optimizer.init(params)\n",
    "\n",
    "# grad \n",
    "compute_loss_grad = jax.grad(compute_loss, 0)\n",
    "compute_loss_grad_jit = jax.jit(compute_loss_grad)\n",
    "compute_loss_grad_jit(params,xs,ys)"
   ]
  },
  {
   "cell_type": "code",
   "execution_count": 43,
   "id": "1f3bb90d",
   "metadata": {},
   "outputs": [
    {
     "name": "stdout",
     "output_type": "stream",
     "text": [
      "time taken:0.2632148265838623\n"
     ]
    }
   ],
   "source": [
    "t0 = time.time()\n",
    "# A simple update loop.\n",
    "for _ in range(1000):\n",
    "#   grads = jax.grad(compute_loss)(params, xs, ys)\n",
    "  grads = compute_loss_grad_jit(params,xs,ys)\n",
    "  updates, opt_state = optimizer.update(grads, opt_state)\n",
    "  params = optax.apply_updates(params, updates)\n",
    "print(f\"time taken:{ time.time()-t0 }\")\n",
    "assert jnp.allclose(params, target_params), \\\n",
    "'Optimization should retrive the target params used to generate the data.'"
   ]
  },
  {
   "cell_type": "code",
   "execution_count": 41,
   "id": "ad7ca8c2",
   "metadata": {},
   "outputs": [
    {
     "data": {
      "text/plain": [
       "Array([0.5, 0.5], dtype=float32)"
      ]
     },
     "execution_count": 41,
     "metadata": {},
     "output_type": "execute_result"
    }
   ],
   "source": [
    "params"
   ]
  },
  {
   "cell_type": "code",
   "execution_count": 24,
   "id": "fa4b0261",
   "metadata": {},
   "outputs": [],
   "source": [
    "# Exponential decay of the learning rate.\n",
    "scheduler = optax.exponential_decay(\n",
    "    init_value=start_learning_rate, \n",
    "    transition_steps=1000,\n",
    "    decay_rate=0.99)\n",
    "\n",
    "# Combining gradient transforms using `optax.chain`.\n",
    "gradient_transform = optax.chain(\n",
    "    optax.clip_by_global_norm(1.0),  # Clip by the gradient by the global norm.\n",
    "    optax.scale_by_adam(),  # Use the updates from adam.\n",
    "    optax.scale_by_schedule(scheduler),  # Use the learning rate from the scheduler.\n",
    "    # Scale updates by -1 since optax.apply_updates is additive and we want to descend on the loss.\n",
    "    optax.scale(-1.0)\n",
    ")\n",
    "     "
   ]
  },
  {
   "cell_type": "code",
   "execution_count": 25,
   "id": "daf6be70",
   "metadata": {},
   "outputs": [],
   "source": [
    "\n",
    "# Initialize parameters of the model + optimizer.\n",
    "params = jnp.array([0.0, 0.0])  # Recall target_params=0.5.\n",
    "opt_state = gradient_transform.init(params)\n",
    "\n",
    "# A simple update loop.\n",
    "for _ in range(1000):\n",
    "  grads = jax.grad(compute_loss)(params, xs, ys)\n",
    "  updates, opt_state = gradient_transform.update(grads, opt_state)\n",
    "  params = optax.apply_updates(params, updates)\n",
    "\n",
    "assert jnp.allclose(params, target_params), \\\n",
    "'Optimization should retrive the target params used to generate the data.'"
   ]
  },
  {
   "cell_type": "code",
   "execution_count": 26,
   "id": "7b86002d",
   "metadata": {},
   "outputs": [
    {
     "data": {
      "text/plain": [
       "Array([0.5, 0.5], dtype=float32)"
      ]
     },
     "execution_count": 26,
     "metadata": {},
     "output_type": "execute_result"
    }
   ],
   "source": [
    "params"
   ]
  },
  {
   "cell_type": "code",
   "execution_count": 10,
   "id": "34eaae4a",
   "metadata": {},
   "outputs": [],
   "source": [
    "@jit\n",
    "def fun(x):\n",
    "    return jnp.square(x)"
   ]
  },
  {
   "cell_type": "code",
   "execution_count": 13,
   "id": "1a8fb3d4",
   "metadata": {},
   "outputs": [
    {
     "data": {
      "text/plain": [
       "Array([ 1,  4,  9, 81], dtype=int32)"
      ]
     },
     "execution_count": 13,
     "metadata": {},
     "output_type": "execute_result"
    }
   ],
   "source": [
    "fun(jnp.array([1,2,3,9]))"
   ]
  },
  {
   "cell_type": "code",
   "execution_count": null,
   "id": "cac387ef",
   "metadata": {},
   "outputs": [],
   "source": []
  }
 ],
 "metadata": {
  "kernelspec": {
   "display_name": "Python 3 (ipykernel)",
   "language": "python",
   "name": "python3"
  },
  "language_info": {
   "codemirror_mode": {
    "name": "ipython",
    "version": 3
   },
   "file_extension": ".py",
   "mimetype": "text/x-python",
   "name": "python",
   "nbconvert_exporter": "python",
   "pygments_lexer": "ipython3",
   "version": "3.11.4"
  }
 },
 "nbformat": 4,
 "nbformat_minor": 5
}
